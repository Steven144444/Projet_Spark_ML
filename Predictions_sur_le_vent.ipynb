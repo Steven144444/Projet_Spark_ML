{
 "cells": [
  {
   "cell_type": "code",
   "execution_count": 1,
   "id": "extra-vector",
   "metadata": {},
   "outputs": [],
   "source": [
    "from pyspark.sql import SparkSession\n",
    "from pyspark.sql.types import *\n",
    "from pyspark.sql import functions as F\n",
    "from pyspark.sql.types import *\n",
    "from pyspark.sql.functions import udf, hour, mean, month, year, to_date\n",
    "from pyspark.sql.window import Window\n",
    "from tqdm.notebook import tqdm\n",
    "from matplotlib import pyplot as plt"
   ]
  },
  {
   "cell_type": "code",
   "execution_count": 2,
   "id": "increasing-japanese",
   "metadata": {},
   "outputs": [],
   "source": [
    "#!pip install tqdm"
   ]
  },
  {
   "cell_type": "code",
   "execution_count": 3,
   "id": "unlimited-sight",
   "metadata": {},
   "outputs": [],
   "source": [
    "spark = SparkSession.builder.getOrCreate()"
   ]
  },
  {
   "cell_type": "code",
   "execution_count": 4,
   "id": "massive-environment",
   "metadata": {},
   "outputs": [],
   "source": [
    "spark.conf.set('spark.sql.repl.eagerEval.enabled', True)"
   ]
  },
  {
   "cell_type": "code",
   "execution_count": 5,
   "id": "operational-measurement",
   "metadata": {},
   "outputs": [
    {
     "data": {
      "text/html": [
       "\n",
       "            <div>\n",
       "                <p><b>SparkSession - in-memory</b></p>\n",
       "                \n",
       "        <div>\n",
       "            <p><b>SparkContext</b></p>\n",
       "\n",
       "            <p><a href=\"http://3fc0cb7d14cd:4042\">Spark UI</a></p>\n",
       "\n",
       "            <dl>\n",
       "              <dt>Version</dt>\n",
       "                <dd><code>v3.0.1</code></dd>\n",
       "              <dt>Master</dt>\n",
       "                <dd><code>local[*]</code></dd>\n",
       "              <dt>AppName</dt>\n",
       "                <dd><code>pyspark-shell</code></dd>\n",
       "            </dl>\n",
       "        </div>\n",
       "        \n",
       "            </div>\n",
       "        "
      ],
      "text/plain": [
       "<pyspark.sql.session.SparkSession at 0x7f36f0674a30>"
      ]
     },
     "execution_count": 5,
     "metadata": {},
     "output_type": "execute_result"
    }
   ],
   "source": [
    "spark"
   ]
  },
  {
   "cell_type": "markdown",
   "id": "neither-sunset",
   "metadata": {},
   "source": [
    "# Schema de données"
   ]
  },
  {
   "cell_type": "code",
   "execution_count": 6,
   "id": "expanded-hartford",
   "metadata": {},
   "outputs": [],
   "source": [
    "schema = StructType() \\\n",
    "    .add(\"STATION\", IntegerType(), False) \\\n",
    "    .add(\"DATE\", TimestampType(), False) \\\n",
    "    .add(\"SOURCE\", IntegerType(), True) \\\n",
    "    .add(\"LATITUDE\", FloatType(), True) \\\n",
    "    .add(\"LONGITUDE\", FloatType(), True) \\\n",
    "    .add(\"ELEVATION\", StringType(), True) \\\n",
    "    .add(\"NAME\", StringType(), True) \\\n",
    "    .add(\"REPORT_TYPE\", StringType(), True) \\\n",
    "    .add(\"CALL_SIGN\", StringType(), True) \\\n",
    "    .add(\"QUALITY_CONTROL\", StringType(), True) \\\n",
    "    .add(\"WND\", StringType(), True) \\\n",
    "    .add(\"CIG\", StringType(), True) \\\n",
    "    .add(\"VIS\", StringType(), True) \\\n",
    "    .add(\"TMP\", StringType(), True) \\\n",
    "    .add(\"DEW\", StringType(), True) \\\n",
    "    .add(\"SLP\", StringType(), True) \\\n",
    "    .add(\"GA1\", StringType(), True) \\\n",
    "    .add(\"GA2\", StringType(), True) \\\n",
    "    .add(\"GA3\", StringType(), True) \\\n",
    "    .add(\"GA4\", StringType(), True) \\\n",
    "    .add(\"GF1\", StringType(), True) \\\n",
    "    .add(\"MA1\", StringType(), True) \\\n",
    "    .add(\"MW1\", StringType(), True) \\\n",
    "    .add(\"MW2\", StringType(), True) \\\n",
    "    .add(\"MW3\", StringType(), True) \\\n",
    "    .add(\"OC1\", StringType(), True) \\\n",
    "    .add(\"REM\", StringType(), True) \\\n",
    "    .add(\"EQD\", StringType(), True)"
   ]
  },
  {
   "cell_type": "markdown",
   "id": "moving-ending",
   "metadata": {},
   "source": [
    "# Chargement des données"
   ]
  },
  {
   "cell_type": "code",
   "execution_count": 7,
   "id": "aboriginal-opera",
   "metadata": {},
   "outputs": [],
   "source": [
    "# station_2018 = spark.read.load(\"./data/2018\", format=\"csv\", header=True, schema=schema, inferSchema=False)\n",
    "# station_2018.show()"
   ]
  },
  {
   "cell_type": "code",
   "execution_count": 8,
   "id": "built-header",
   "metadata": {},
   "outputs": [],
   "source": [
    "cols_of_interest = (\"STATION\",\"DATE\",\"SOURCE\",\"LATITUDE\",\"LONGITUDE\",\"ELEVATION\",\"NAME\",\"REPORT_TYPE\",\"CALL_SIGN\",\"QUALITY_CONTROL\",\"WND\",\"CIG\",\"VIS\",\"TMP\",\"DEW\",\"SLP\")\n",
    "\n",
    "all_stations = spark.read.load(\"./data/*\", format=\"csv\", header=True, schema=schema, inferSchema=False).select(*cols_of_interest)"
   ]
  },
  {
   "cell_type": "code",
   "execution_count": 9,
   "id": "equipped-tulsa",
   "metadata": {},
   "outputs": [
    {
     "data": {
      "text/html": [
       "<table border='1'>\n",
       "<tr><th>STATION</th><th>DATE</th><th>SOURCE</th><th>LATITUDE</th><th>LONGITUDE</th><th>ELEVATION</th><th>NAME</th><th>REPORT_TYPE</th><th>CALL_SIGN</th><th>QUALITY_CONTROL</th><th>WND</th><th>CIG</th><th>VIS</th><th>TMP</th><th>DEW</th><th>SLP</th></tr>\n",
       "<tr><td>826099999</td><td>2008-01-01 00:00:00</td><td>4</td><td>0.0</td><td>0.0</td><td>0.0</td><td>WXPOD8270</td><td>FM-15</td><td>KFMH </td><td>V020</td><td>280,1,N,0062,1</td><td>22000,1,9,N</td><td>024140,1,N,1</td><td>+0020,1</td><td>-0040,1</td><td>10170,1</td></tr>\n",
       "<tr><td>826099999</td><td>2008-01-01 00:53:00</td><td>4</td><td>0.0</td><td>0.0</td><td>0.0</td><td>WXPOD8270</td><td>FM-15</td><td>KCCR </td><td>V020</td><td>100,1,N,0021,1</td><td>22000,1,9,N</td><td>016093,1,N,1</td><td>+9999,9</td><td>-0030,1</td><td>10231,1</td></tr>\n",
       "<tr><td>826099999</td><td>2008-01-01 00:53:00</td><td>4</td><td>0.0</td><td>0.0</td><td>0.0</td><td>WXPOD8270</td><td>FM-16</td><td>KDAL </td><td>V020</td><td>360,1,N,0057,1</td><td>22000,1,9,N</td><td>016093,1,N,1</td><td>+9999,9</td><td>+9999,9</td><td>99999,9</td></tr>\n",
       "<tr><td>826099999</td><td>2008-01-01 01:00:00</td><td>4</td><td>0.0</td><td>0.0</td><td>0.0</td><td>WXPOD8270</td><td>FM-15</td><td>KFMH </td><td>V020</td><td>270,1,N,0046,1</td><td>22000,1,9,N</td><td>024140,1,N,1</td><td>+0010,1</td><td>-0040,1</td><td>10181,1</td></tr>\n",
       "<tr><td>826099999</td><td>2008-01-01 01:53:00</td><td>4</td><td>0.0</td><td>0.0</td><td>0.0</td><td>WXPOD8270</td><td>AUTO </td><td>KCGI </td><td>V020</td><td>300,1,N,0067,1</td><td>22000,1,9,N</td><td>016093,1,N,1</td><td>+0030,1</td><td>-0040,1</td><td>99999,9</td></tr>\n",
       "<tr><td>826099999</td><td>2008-01-01 01:53:00</td><td>4</td><td>0.0</td><td>0.0</td><td>0.0</td><td>WXPOD8270</td><td>FM-15</td><td>KCCR </td><td>V020</td><td>100,1,N,0031,1</td><td>22000,1,9,N</td><td>016093,1,N,1</td><td>+9999,9</td><td>-0030,1</td><td>10229,1</td></tr>\n",
       "<tr><td>826099999</td><td>2008-01-01 02:00:00</td><td>4</td><td>0.0</td><td>0.0</td><td>0.0</td><td>WXPOD8270</td><td>FM-15</td><td>KFMH </td><td>V020</td><td>270,1,N,0051,1</td><td>22000,1,9,N</td><td>024140,1,N,1</td><td>+0010,1</td><td>-0040,1</td><td>10192,1</td></tr>\n",
       "<tr><td>826099999</td><td>2008-01-01 02:53:00</td><td>4</td><td>0.0</td><td>0.0</td><td>0.0</td><td>WXPOD8270</td><td>AUTO </td><td>KCGI </td><td>V020</td><td>280,1,N,0041,1</td><td>22000,1,9,N</td><td>016093,1,N,1</td><td>+0020,1</td><td>-0040,1</td><td>10190,1</td></tr>\n",
       "<tr><td>826099999</td><td>2008-01-01 02:53:00</td><td>4</td><td>0.0</td><td>0.0</td><td>0.0</td><td>WXPOD8270</td><td>FM-15</td><td>KCCR </td><td>V020</td><td>080,1,N,0041,1</td><td>22000,1,9,N</td><td>016093,1,N,1</td><td>+9999,9</td><td>-0030,1</td><td>10231,1</td></tr>\n",
       "<tr><td>826099999</td><td>2008-01-01 03:00:00</td><td>4</td><td>0.0</td><td>0.0</td><td>0.0</td><td>WXPOD8270</td><td>SY-MT</td><td>KFMH </td><td>V020</td><td>300,1,N,0041,1</td><td>22000,1,9,N</td><td>016000,1,N,1</td><td>+0017,1</td><td>-0044,1</td><td>10203,1</td></tr>\n",
       "<tr><td>826099999</td><td>2008-01-01 03:53:00</td><td>4</td><td>0.0</td><td>0.0</td><td>0.0</td><td>WXPOD8270</td><td>AUTO </td><td>KCGI </td><td>V020</td><td>280,1,N,0041,1</td><td>22000,1,9,N</td><td>016093,1,N,1</td><td>+0010,1</td><td>-0030,1</td><td>10200,1</td></tr>\n",
       "<tr><td>826099999</td><td>2008-01-01 03:53:00</td><td>4</td><td>0.0</td><td>0.0</td><td>0.0</td><td>WXPOD8270</td><td>FM-15</td><td>KCCR </td><td>V020</td><td>100,1,N,0026,1</td><td>22000,1,9,N</td><td>016093,1,N,1</td><td>+9999,9</td><td>-0030,1</td><td>10234,1</td></tr>\n",
       "<tr><td>826099999</td><td>2008-01-01 04:00:00</td><td>4</td><td>0.0</td><td>0.0</td><td>0.0</td><td>WXPOD8270</td><td>FM-15</td><td>KFMH </td><td>V020</td><td>999,9,V,0010,1</td><td>22000,1,9,N</td><td>024140,1,N,1</td><td>-0030,1</td><td>-0050,1</td><td>10196,1</td></tr>\n",
       "<tr><td>826099999</td><td>2008-01-01 04:53:00</td><td>4</td><td>0.0</td><td>0.0</td><td>0.0</td><td>WXPOD8270</td><td>AUTO </td><td>KCGI </td><td>V020</td><td>260,1,N,0036,1</td><td>22000,1,9,N</td><td>016093,1,N,1</td><td>+0000,1</td><td>-0030,1</td><td>10207,1</td></tr>\n",
       "<tr><td>826099999</td><td>2008-01-01 04:53:00</td><td>4</td><td>0.0</td><td>0.0</td><td>0.0</td><td>WXPOD8270</td><td>FM-15</td><td>KCCR </td><td>V020</td><td>090,1,N,0026,1</td><td>22000,1,9,N</td><td>016093,1,N,1</td><td>+9999,9</td><td>-0030,1</td><td>10236,1</td></tr>\n",
       "<tr><td>826099999</td><td>2008-01-01 05:00:00</td><td>4</td><td>0.0</td><td>0.0</td><td>0.0</td><td>WXPOD8270</td><td>FM-15</td><td>KFMH </td><td>V020</td><td>210,1,N,0015,1</td><td>22000,1,9,N</td><td>024140,1,N,1</td><td>-0040,1</td><td>-0050,1</td><td>10199,1</td></tr>\n",
       "<tr><td>826099999</td><td>2008-01-01 05:53:00</td><td>4</td><td>0.0</td><td>0.0</td><td>0.0</td><td>WXPOD8270</td><td>AUTO </td><td>KCGI </td><td>V020</td><td>290,1,N,0051,1</td><td>22000,1,9,N</td><td>016093,1,N,1</td><td>+0010,1</td><td>-0040,1</td><td>10216,1</td></tr>\n",
       "<tr><td>826099999</td><td>2008-01-01 05:53:00</td><td>4</td><td>0.0</td><td>0.0</td><td>0.0</td><td>WXPOD8270</td><td>FM-15</td><td>KCCR </td><td>V020</td><td>100,1,N,0015,1</td><td>22000,1,9,N</td><td>016093,1,N,1</td><td>+9999,9</td><td>-0020,1</td><td>10240,1</td></tr>\n",
       "<tr><td>826099999</td><td>2008-01-01 06:00:00</td><td>4</td><td>0.0</td><td>0.0</td><td>0.0</td><td>WXPOD8270</td><td>FM-15</td><td>KFMH </td><td>V020</td><td>260,1,N,0005,1</td><td>22000,1,9,N</td><td>024140,1,N,1</td><td>-0040,1</td><td>-0050,1</td><td>10209,1</td></tr>\n",
       "<tr><td>826099999</td><td>2008-01-01 06:53:00</td><td>4</td><td>0.0</td><td>0.0</td><td>0.0</td><td>WXPOD8270</td><td>AUTO </td><td>KCGI </td><td>V020</td><td>290,1,N,0051,1</td><td>22000,1,9,N</td><td>016093,1,N,1</td><td>+0000,1</td><td>-0060,1</td><td>10226,1</td></tr>\n",
       "</table>\n",
       "only showing top 20 rows\n"
      ],
      "text/plain": [
       "+---------+-------------------+------+--------+---------+---------+---------+-----------+---------+---------------+--------------+-----------+------------+-------+-------+-------+\n",
       "|  STATION|               DATE|SOURCE|LATITUDE|LONGITUDE|ELEVATION|     NAME|REPORT_TYPE|CALL_SIGN|QUALITY_CONTROL|           WND|        CIG|         VIS|    TMP|    DEW|    SLP|\n",
       "+---------+-------------------+------+--------+---------+---------+---------+-----------+---------+---------------+--------------+-----------+------------+-------+-------+-------+\n",
       "|826099999|2008-01-01 00:00:00|     4|     0.0|      0.0|      0.0|WXPOD8270|      FM-15|    KFMH |           V020|280,1,N,0062,1|22000,1,9,N|024140,1,N,1|+0020,1|-0040,1|10170,1|\n",
       "|826099999|2008-01-01 00:53:00|     4|     0.0|      0.0|      0.0|WXPOD8270|      FM-15|    KCCR |           V020|100,1,N,0021,1|22000,1,9,N|016093,1,N,1|+9999,9|-0030,1|10231,1|\n",
       "|826099999|2008-01-01 00:53:00|     4|     0.0|      0.0|      0.0|WXPOD8270|      FM-16|    KDAL |           V020|360,1,N,0057,1|22000,1,9,N|016093,1,N,1|+9999,9|+9999,9|99999,9|\n",
       "|826099999|2008-01-01 01:00:00|     4|     0.0|      0.0|      0.0|WXPOD8270|      FM-15|    KFMH |           V020|270,1,N,0046,1|22000,1,9,N|024140,1,N,1|+0010,1|-0040,1|10181,1|\n",
       "|826099999|2008-01-01 01:53:00|     4|     0.0|      0.0|      0.0|WXPOD8270|      AUTO |    KCGI |           V020|300,1,N,0067,1|22000,1,9,N|016093,1,N,1|+0030,1|-0040,1|99999,9|\n",
       "|826099999|2008-01-01 01:53:00|     4|     0.0|      0.0|      0.0|WXPOD8270|      FM-15|    KCCR |           V020|100,1,N,0031,1|22000,1,9,N|016093,1,N,1|+9999,9|-0030,1|10229,1|\n",
       "|826099999|2008-01-01 02:00:00|     4|     0.0|      0.0|      0.0|WXPOD8270|      FM-15|    KFMH |           V020|270,1,N,0051,1|22000,1,9,N|024140,1,N,1|+0010,1|-0040,1|10192,1|\n",
       "|826099999|2008-01-01 02:53:00|     4|     0.0|      0.0|      0.0|WXPOD8270|      AUTO |    KCGI |           V020|280,1,N,0041,1|22000,1,9,N|016093,1,N,1|+0020,1|-0040,1|10190,1|\n",
       "|826099999|2008-01-01 02:53:00|     4|     0.0|      0.0|      0.0|WXPOD8270|      FM-15|    KCCR |           V020|080,1,N,0041,1|22000,1,9,N|016093,1,N,1|+9999,9|-0030,1|10231,1|\n",
       "|826099999|2008-01-01 03:00:00|     4|     0.0|      0.0|      0.0|WXPOD8270|      SY-MT|    KFMH |           V020|300,1,N,0041,1|22000,1,9,N|016000,1,N,1|+0017,1|-0044,1|10203,1|\n",
       "|826099999|2008-01-01 03:53:00|     4|     0.0|      0.0|      0.0|WXPOD8270|      AUTO |    KCGI |           V020|280,1,N,0041,1|22000,1,9,N|016093,1,N,1|+0010,1|-0030,1|10200,1|\n",
       "|826099999|2008-01-01 03:53:00|     4|     0.0|      0.0|      0.0|WXPOD8270|      FM-15|    KCCR |           V020|100,1,N,0026,1|22000,1,9,N|016093,1,N,1|+9999,9|-0030,1|10234,1|\n",
       "|826099999|2008-01-01 04:00:00|     4|     0.0|      0.0|      0.0|WXPOD8270|      FM-15|    KFMH |           V020|999,9,V,0010,1|22000,1,9,N|024140,1,N,1|-0030,1|-0050,1|10196,1|\n",
       "|826099999|2008-01-01 04:53:00|     4|     0.0|      0.0|      0.0|WXPOD8270|      AUTO |    KCGI |           V020|260,1,N,0036,1|22000,1,9,N|016093,1,N,1|+0000,1|-0030,1|10207,1|\n",
       "|826099999|2008-01-01 04:53:00|     4|     0.0|      0.0|      0.0|WXPOD8270|      FM-15|    KCCR |           V020|090,1,N,0026,1|22000,1,9,N|016093,1,N,1|+9999,9|-0030,1|10236,1|\n",
       "|826099999|2008-01-01 05:00:00|     4|     0.0|      0.0|      0.0|WXPOD8270|      FM-15|    KFMH |           V020|210,1,N,0015,1|22000,1,9,N|024140,1,N,1|-0040,1|-0050,1|10199,1|\n",
       "|826099999|2008-01-01 05:53:00|     4|     0.0|      0.0|      0.0|WXPOD8270|      AUTO |    KCGI |           V020|290,1,N,0051,1|22000,1,9,N|016093,1,N,1|+0010,1|-0040,1|10216,1|\n",
       "|826099999|2008-01-01 05:53:00|     4|     0.0|      0.0|      0.0|WXPOD8270|      FM-15|    KCCR |           V020|100,1,N,0015,1|22000,1,9,N|016093,1,N,1|+9999,9|-0020,1|10240,1|\n",
       "|826099999|2008-01-01 06:00:00|     4|     0.0|      0.0|      0.0|WXPOD8270|      FM-15|    KFMH |           V020|260,1,N,0005,1|22000,1,9,N|024140,1,N,1|-0040,1|-0050,1|10209,1|\n",
       "|826099999|2008-01-01 06:53:00|     4|     0.0|      0.0|      0.0|WXPOD8270|      AUTO |    KCGI |           V020|290,1,N,0051,1|22000,1,9,N|016093,1,N,1|+0000,1|-0060,1|10226,1|\n",
       "+---------+-------------------+------+--------+---------+---------+---------+-----------+---------+---------------+--------------+-----------+------------+-------+-------+-------+\n",
       "only showing top 20 rows"
      ]
     },
     "execution_count": 9,
     "metadata": {},
     "output_type": "execute_result"
    }
   ],
   "source": [
    "all_stations"
   ]
  },
  {
   "cell_type": "code",
   "execution_count": 10,
   "id": "clean-platform",
   "metadata": {},
   "outputs": [
    {
     "data": {
      "text/plain": [
       "9573561"
      ]
     },
     "execution_count": 10,
     "metadata": {},
     "output_type": "execute_result"
    }
   ],
   "source": [
    "# Nombre de lignes\n",
    "all_stations.count()"
   ]
  },
  {
   "cell_type": "markdown",
   "id": "changed-graph",
   "metadata": {},
   "source": [
    "## Supprimer les lignes du champ TMP avec des valeurs vides OU des +9999"
   ]
  },
  {
   "cell_type": "code",
   "execution_count": 11,
   "id": "grand-contact",
   "metadata": {},
   "outputs": [],
   "source": [
    "all_stations = all_stations.na.drop(how=\"any\", subset=[\"TMP\"]).filter(~all_stations.TMP.contains(\"+9999\"))"
   ]
  },
  {
   "cell_type": "markdown",
   "id": "dependent-romance",
   "metadata": {},
   "source": [
    "## Supprimer les lignes du champ ELEVATION avec des valeurs vides OU des +9999"
   ]
  },
  {
   "cell_type": "code",
   "execution_count": 12,
   "id": "smaller-father",
   "metadata": {},
   "outputs": [],
   "source": [
    "all_stations = all_stations.na.drop(how=\"any\", subset=[\"ELEVATION\"]).filter(~all_stations.ELEVATION.contains(\"+9999\"))"
   ]
  },
  {
   "cell_type": "markdown",
   "id": "acute-instrument",
   "metadata": {},
   "source": [
    "## Supprimer les lignes du champ DEW avec des valeurs vides OU des +9999"
   ]
  },
  {
   "cell_type": "code",
   "execution_count": 13,
   "id": "egyptian-pixel",
   "metadata": {},
   "outputs": [],
   "source": [
    "all_stations = all_stations.na.drop(how=\"any\", subset=[\"DEW\"]).filter(~all_stations.DEW.contains(\"+9999\"))"
   ]
  },
  {
   "cell_type": "markdown",
   "id": "flexible-blowing",
   "metadata": {},
   "source": [
    "## Supprimer les lignes du champ WND avec des valeurs vides OU des 9999"
   ]
  },
  {
   "cell_type": "code",
   "execution_count": 14,
   "id": "cooked-ocean",
   "metadata": {},
   "outputs": [],
   "source": [
    "all_stations = all_stations.na.drop(how=\"any\", subset=[\"WND\"]).filter(~all_stations.WND.contains(\"9999\"))"
   ]
  },
  {
   "cell_type": "markdown",
   "id": "studied-green",
   "metadata": {},
   "source": [
    "## Supprimer les lignes du champ CIG avec des valeurs vides OU des 99999"
   ]
  },
  {
   "cell_type": "code",
   "execution_count": 15,
   "id": "moderate-freeze",
   "metadata": {},
   "outputs": [],
   "source": [
    "all_stations = all_stations.na.drop(how=\"any\", subset=[\"CIG\"]).filter(~all_stations.CIG.contains(\"99999\"))"
   ]
  },
  {
   "cell_type": "code",
   "execution_count": 16,
   "id": "accessory-veteran",
   "metadata": {},
   "outputs": [
    {
     "data": {
      "text/plain": [
       "5344143"
      ]
     },
     "execution_count": 16,
     "metadata": {},
     "output_type": "execute_result"
    }
   ],
   "source": [
    "# Nombre de lignes après le drop\n",
    "all_stations.count()"
   ]
  },
  {
   "cell_type": "code",
   "execution_count": 17,
   "id": "southwest-export",
   "metadata": {},
   "outputs": [
    {
     "name": "stdout",
     "output_type": "stream",
     "text": [
      "root\n",
      " |-- STATION: integer (nullable = true)\n",
      " |-- DATE: timestamp (nullable = true)\n",
      " |-- SOURCE: integer (nullable = true)\n",
      " |-- LATITUDE: float (nullable = true)\n",
      " |-- LONGITUDE: float (nullable = true)\n",
      " |-- ELEVATION: string (nullable = true)\n",
      " |-- NAME: string (nullable = true)\n",
      " |-- REPORT_TYPE: string (nullable = true)\n",
      " |-- CALL_SIGN: string (nullable = true)\n",
      " |-- QUALITY_CONTROL: string (nullable = true)\n",
      " |-- WND: string (nullable = true)\n",
      " |-- CIG: string (nullable = true)\n",
      " |-- VIS: string (nullable = true)\n",
      " |-- TMP: string (nullable = true)\n",
      " |-- DEW: string (nullable = true)\n",
      " |-- SLP: string (nullable = true)\n",
      "\n"
     ]
    }
   ],
   "source": [
    "# Le schema de données\n",
    "all_stations.printSchema()"
   ]
  },
  {
   "cell_type": "markdown",
   "id": "pretty-croatia",
   "metadata": {},
   "source": [
    "## Split de la colonne température"
   ]
  },
  {
   "cell_type": "code",
   "execution_count": 18,
   "id": "electric-radio",
   "metadata": {},
   "outputs": [],
   "source": [
    "@udf(returnType=FloatType())\n",
    "def extract_tmp(tmp_col: str):\n",
    "    return int(tmp_col.split(',')[0].lstrip('+')) / 10\n",
    "\n",
    "all_stations = all_stations.withColumn('temperature', extract_tmp(all_stations['TMP']))"
   ]
  },
  {
   "cell_type": "markdown",
   "id": "burning-girlfriend",
   "metadata": {},
   "source": [
    "## Split de la colonne DEW"
   ]
  },
  {
   "cell_type": "code",
   "execution_count": 19,
   "id": "useful-minute",
   "metadata": {},
   "outputs": [],
   "source": [
    "@udf(returnType=FloatType())\n",
    "def extract_dew(dew_col: str):\n",
    "    return int(dew_col.split(',')[0].lstrip('+')) / 10\n",
    "\n",
    "all_stations = all_stations.withColumn('precipitation', extract_dew(all_stations['DEW']))"
   ]
  },
  {
   "cell_type": "markdown",
   "id": "excess-saint",
   "metadata": {},
   "source": [
    "## Split de la colonne WND"
   ]
  },
  {
   "cell_type": "code",
   "execution_count": 20,
   "id": "applicable-dominant",
   "metadata": {},
   "outputs": [],
   "source": [
    "@udf(returnType=FloatType())\n",
    "def extract_wnd(wnd_col: str):\n",
    "    return int(wnd_col.split(',')[3].lstrip('+')) / 10\n",
    "\n",
    "all_stations = all_stations.withColumn('speed_rate', extract_wnd(all_stations['WND']))"
   ]
  },
  {
   "cell_type": "markdown",
   "id": "familiar-choice",
   "metadata": {},
   "source": [
    "## Split de la colonne CIG"
   ]
  },
  {
   "cell_type": "code",
   "execution_count": 21,
   "id": "vital-permit",
   "metadata": {},
   "outputs": [],
   "source": [
    "@udf(returnType=IntegerType())\n",
    "def extract_cig(cig_col: str):\n",
    "    return int(cig_col.split(',')[0])\n",
    "\n",
    "all_stations = all_stations.withColumn('ceiling_height', extract_cig(all_stations['CIG']))"
   ]
  },
  {
   "cell_type": "code",
   "execution_count": 22,
   "id": "retained-california",
   "metadata": {},
   "outputs": [
    {
     "name": "stdout",
     "output_type": "stream",
     "text": [
      "root\n",
      " |-- STATION: integer (nullable = true)\n",
      " |-- DATE: timestamp (nullable = true)\n",
      " |-- SOURCE: integer (nullable = true)\n",
      " |-- LATITUDE: float (nullable = true)\n",
      " |-- LONGITUDE: float (nullable = true)\n",
      " |-- ELEVATION: string (nullable = true)\n",
      " |-- NAME: string (nullable = true)\n",
      " |-- REPORT_TYPE: string (nullable = true)\n",
      " |-- CALL_SIGN: string (nullable = true)\n",
      " |-- QUALITY_CONTROL: string (nullable = true)\n",
      " |-- WND: string (nullable = true)\n",
      " |-- CIG: string (nullable = true)\n",
      " |-- VIS: string (nullable = true)\n",
      " |-- TMP: string (nullable = true)\n",
      " |-- DEW: string (nullable = true)\n",
      " |-- SLP: string (nullable = true)\n",
      " |-- temperature: float (nullable = true)\n",
      " |-- precipitation: float (nullable = true)\n",
      " |-- speed_rate: float (nullable = true)\n",
      " |-- ceiling_height: integer (nullable = true)\n",
      "\n"
     ]
    }
   ],
   "source": [
    "all_stations.printSchema()"
   ]
  },
  {
   "cell_type": "markdown",
   "id": "collected-happiness",
   "metadata": {},
   "source": [
    "## Création du champ season"
   ]
  },
  {
   "cell_type": "code",
   "execution_count": 23,
   "id": "congressional-jefferson",
   "metadata": {},
   "outputs": [],
   "source": [
    "@udf(returnType=StringType())\n",
    "def create_season(month: int):\n",
    "    if month in [7, 8, 9]:\n",
    "        season = 'Summer'\n",
    "    elif month in [10, 11, 12]:\n",
    "        season = 'Autumn'\n",
    "    elif month in [1, 2, 3]:\n",
    "        season = 'Winter'\n",
    "    else:\n",
    "        season = 'Spring'\n",
    "    return season\n",
    "\n",
    "all_stations = all_stations.withColumn('season', create_season(month(\"DATE\")))"
   ]
  },
  {
   "cell_type": "code",
   "execution_count": 24,
   "id": "weekly-asbestos",
   "metadata": {},
   "outputs": [
    {
     "name": "stdout",
     "output_type": "stream",
     "text": [
      "root\n",
      " |-- STATION: integer (nullable = true)\n",
      " |-- DATE: timestamp (nullable = true)\n",
      " |-- SOURCE: integer (nullable = true)\n",
      " |-- LATITUDE: float (nullable = true)\n",
      " |-- LONGITUDE: float (nullable = true)\n",
      " |-- ELEVATION: string (nullable = true)\n",
      " |-- NAME: string (nullable = true)\n",
      " |-- REPORT_TYPE: string (nullable = true)\n",
      " |-- CALL_SIGN: string (nullable = true)\n",
      " |-- QUALITY_CONTROL: string (nullable = true)\n",
      " |-- WND: string (nullable = true)\n",
      " |-- CIG: string (nullable = true)\n",
      " |-- VIS: string (nullable = true)\n",
      " |-- TMP: string (nullable = true)\n",
      " |-- DEW: string (nullable = true)\n",
      " |-- SLP: string (nullable = true)\n",
      " |-- temperature: float (nullable = true)\n",
      " |-- precipitation: float (nullable = true)\n",
      " |-- speed_rate: float (nullable = true)\n",
      " |-- ceiling_height: integer (nullable = true)\n",
      " |-- season: string (nullable = true)\n",
      "\n"
     ]
    }
   ],
   "source": [
    "all_stations.printSchema()"
   ]
  },
  {
   "cell_type": "code",
   "execution_count": 25,
   "id": "romantic-hopkins",
   "metadata": {},
   "outputs": [
    {
     "data": {
      "text/html": [
       "<table border='1'>\n",
       "<tr><th>STATION</th><th>DATE</th><th>SOURCE</th><th>LATITUDE</th><th>LONGITUDE</th><th>ELEVATION</th><th>NAME</th><th>REPORT_TYPE</th><th>CALL_SIGN</th><th>QUALITY_CONTROL</th><th>WND</th><th>CIG</th><th>VIS</th><th>TMP</th><th>DEW</th><th>SLP</th><th>temperature</th><th>precipitation</th><th>speed_rate</th><th>ceiling_height</th><th>season</th></tr>\n",
       "<tr><td>826099999</td><td>2008-01-01 00:00:00</td><td>4</td><td>0.0</td><td>0.0</td><td>0.0</td><td>WXPOD8270</td><td>FM-15</td><td>KFMH </td><td>V020</td><td>280,1,N,0062,1</td><td>22000,1,9,N</td><td>024140,1,N,1</td><td>+0020,1</td><td>-0040,1</td><td>10170,1</td><td>2.0</td><td>-4.0</td><td>6.2</td><td>22000</td><td>Winter</td></tr>\n",
       "<tr><td>826099999</td><td>2008-01-01 01:00:00</td><td>4</td><td>0.0</td><td>0.0</td><td>0.0</td><td>WXPOD8270</td><td>FM-15</td><td>KFMH </td><td>V020</td><td>270,1,N,0046,1</td><td>22000,1,9,N</td><td>024140,1,N,1</td><td>+0010,1</td><td>-0040,1</td><td>10181,1</td><td>1.0</td><td>-4.0</td><td>4.6</td><td>22000</td><td>Winter</td></tr>\n",
       "<tr><td>826099999</td><td>2008-01-01 01:53:00</td><td>4</td><td>0.0</td><td>0.0</td><td>0.0</td><td>WXPOD8270</td><td>AUTO </td><td>KCGI </td><td>V020</td><td>300,1,N,0067,1</td><td>22000,1,9,N</td><td>016093,1,N,1</td><td>+0030,1</td><td>-0040,1</td><td>99999,9</td><td>3.0</td><td>-4.0</td><td>6.7</td><td>22000</td><td>Winter</td></tr>\n",
       "<tr><td>826099999</td><td>2008-01-01 02:00:00</td><td>4</td><td>0.0</td><td>0.0</td><td>0.0</td><td>WXPOD8270</td><td>FM-15</td><td>KFMH </td><td>V020</td><td>270,1,N,0051,1</td><td>22000,1,9,N</td><td>024140,1,N,1</td><td>+0010,1</td><td>-0040,1</td><td>10192,1</td><td>1.0</td><td>-4.0</td><td>5.1</td><td>22000</td><td>Winter</td></tr>\n",
       "<tr><td>826099999</td><td>2008-01-01 02:53:00</td><td>4</td><td>0.0</td><td>0.0</td><td>0.0</td><td>WXPOD8270</td><td>AUTO </td><td>KCGI </td><td>V020</td><td>280,1,N,0041,1</td><td>22000,1,9,N</td><td>016093,1,N,1</td><td>+0020,1</td><td>-0040,1</td><td>10190,1</td><td>2.0</td><td>-4.0</td><td>4.1</td><td>22000</td><td>Winter</td></tr>\n",
       "<tr><td>826099999</td><td>2008-01-01 03:00:00</td><td>4</td><td>0.0</td><td>0.0</td><td>0.0</td><td>WXPOD8270</td><td>SY-MT</td><td>KFMH </td><td>V020</td><td>300,1,N,0041,1</td><td>22000,1,9,N</td><td>016000,1,N,1</td><td>+0017,1</td><td>-0044,1</td><td>10203,1</td><td>1.7</td><td>-4.4</td><td>4.1</td><td>22000</td><td>Winter</td></tr>\n",
       "<tr><td>826099999</td><td>2008-01-01 03:53:00</td><td>4</td><td>0.0</td><td>0.0</td><td>0.0</td><td>WXPOD8270</td><td>AUTO </td><td>KCGI </td><td>V020</td><td>280,1,N,0041,1</td><td>22000,1,9,N</td><td>016093,1,N,1</td><td>+0010,1</td><td>-0030,1</td><td>10200,1</td><td>1.0</td><td>-3.0</td><td>4.1</td><td>22000</td><td>Winter</td></tr>\n",
       "<tr><td>826099999</td><td>2008-01-01 04:00:00</td><td>4</td><td>0.0</td><td>0.0</td><td>0.0</td><td>WXPOD8270</td><td>FM-15</td><td>KFMH </td><td>V020</td><td>999,9,V,0010,1</td><td>22000,1,9,N</td><td>024140,1,N,1</td><td>-0030,1</td><td>-0050,1</td><td>10196,1</td><td>-3.0</td><td>-5.0</td><td>1.0</td><td>22000</td><td>Winter</td></tr>\n",
       "<tr><td>826099999</td><td>2008-01-01 04:53:00</td><td>4</td><td>0.0</td><td>0.0</td><td>0.0</td><td>WXPOD8270</td><td>AUTO </td><td>KCGI </td><td>V020</td><td>260,1,N,0036,1</td><td>22000,1,9,N</td><td>016093,1,N,1</td><td>+0000,1</td><td>-0030,1</td><td>10207,1</td><td>0.0</td><td>-3.0</td><td>3.6</td><td>22000</td><td>Winter</td></tr>\n",
       "<tr><td>826099999</td><td>2008-01-01 05:00:00</td><td>4</td><td>0.0</td><td>0.0</td><td>0.0</td><td>WXPOD8270</td><td>FM-15</td><td>KFMH </td><td>V020</td><td>210,1,N,0015,1</td><td>22000,1,9,N</td><td>024140,1,N,1</td><td>-0040,1</td><td>-0050,1</td><td>10199,1</td><td>-4.0</td><td>-5.0</td><td>1.5</td><td>22000</td><td>Winter</td></tr>\n",
       "<tr><td>826099999</td><td>2008-01-01 05:53:00</td><td>4</td><td>0.0</td><td>0.0</td><td>0.0</td><td>WXPOD8270</td><td>AUTO </td><td>KCGI </td><td>V020</td><td>290,1,N,0051,1</td><td>22000,1,9,N</td><td>016093,1,N,1</td><td>+0010,1</td><td>-0040,1</td><td>10216,1</td><td>1.0</td><td>-4.0</td><td>5.1</td><td>22000</td><td>Winter</td></tr>\n",
       "<tr><td>826099999</td><td>2008-01-01 06:00:00</td><td>4</td><td>0.0</td><td>0.0</td><td>0.0</td><td>WXPOD8270</td><td>FM-15</td><td>KFMH </td><td>V020</td><td>260,1,N,0005,1</td><td>22000,1,9,N</td><td>024140,1,N,1</td><td>-0040,1</td><td>-0050,1</td><td>10209,1</td><td>-4.0</td><td>-5.0</td><td>0.5</td><td>22000</td><td>Winter</td></tr>\n",
       "<tr><td>826099999</td><td>2008-01-01 06:53:00</td><td>4</td><td>0.0</td><td>0.0</td><td>0.0</td><td>WXPOD8270</td><td>AUTO </td><td>KCGI </td><td>V020</td><td>290,1,N,0051,1</td><td>22000,1,9,N</td><td>016093,1,N,1</td><td>+0000,1</td><td>-0060,1</td><td>10226,1</td><td>0.0</td><td>-6.0</td><td>5.1</td><td>22000</td><td>Winter</td></tr>\n",
       "<tr><td>826099999</td><td>2008-01-01 07:00:00</td><td>4</td><td>0.0</td><td>0.0</td><td>0.0</td><td>WXPOD8270</td><td>FM-15</td><td>KFMH </td><td>V020</td><td>999,9,C,0000,1</td><td>22000,1,9,N</td><td>024140,1,N,1</td><td>-0030,1</td><td>-0050,1</td><td>10209,1</td><td>-3.0</td><td>-5.0</td><td>0.0</td><td>22000</td><td>Winter</td></tr>\n",
       "<tr><td>826099999</td><td>2008-01-01 07:53:00</td><td>4</td><td>0.0</td><td>0.0</td><td>0.0</td><td>WXPOD8270</td><td>AUTO </td><td>KCGI </td><td>V020</td><td>300,1,N,0093,1</td><td>22000,1,9,N</td><td>016093,1,N,1</td><td>+0010,1</td><td>-0080,1</td><td>10233,1</td><td>1.0</td><td>-8.0</td><td>9.3</td><td>22000</td><td>Winter</td></tr>\n",
       "<tr><td>826099999</td><td>2008-01-01 08:00:00</td><td>4</td><td>0.0</td><td>0.0</td><td>0.0</td><td>WXPOD8270</td><td>FM-15</td><td>KFMH </td><td>V020</td><td>999,9,V,0005,1</td><td>22000,1,9,N</td><td>024140,1,N,1</td><td>-0050,1</td><td>-0060,1</td><td>10216,1</td><td>-5.0</td><td>-6.0</td><td>0.5</td><td>22000</td><td>Winter</td></tr>\n",
       "<tr><td>826099999</td><td>2008-01-01 08:53:00</td><td>4</td><td>0.0</td><td>0.0</td><td>0.0</td><td>WXPOD8270</td><td>AUTO </td><td>KCGI </td><td>V020</td><td>300,1,N,0062,1</td><td>22000,1,9,N</td><td>016093,1,N,1</td><td>-0010,1</td><td>-0080,1</td><td>10243,1</td><td>-1.0</td><td>-8.0</td><td>6.2</td><td>22000</td><td>Winter</td></tr>\n",
       "<tr><td>826099999</td><td>2008-01-01 08:55:00</td><td>4</td><td>0.0</td><td>0.0</td><td>0.0</td><td>WXPOD8270</td><td>FM-15</td><td>KFMH </td><td>V020</td><td>999,9,V,0015,1</td><td>22000,1,9,N</td><td>024140,1,N,1</td><td>-0060,1</td><td>-0060,1</td><td>10216,1</td><td>-6.0</td><td>-6.0</td><td>1.5</td><td>22000</td><td>Winter</td></tr>\n",
       "<tr><td>826099999</td><td>2008-01-01 09:00:00</td><td>4</td><td>0.0</td><td>0.0</td><td>0.0</td><td>WXPOD8270</td><td>FM-12</td><td>KFMH </td><td>V020</td><td>310,1,N,0021,1</td><td>22000,1,9,N</td><td>016000,1,N,1</td><td>-0011,1</td><td>-0050,1</td><td>10219,1</td><td>-1.1</td><td>-5.0</td><td>2.1</td><td>22000</td><td>Winter</td></tr>\n",
       "<tr><td>826099999</td><td>2008-01-01 09:53:00</td><td>4</td><td>0.0</td><td>0.0</td><td>0.0</td><td>WXPOD8270</td><td>AUTO </td><td>KCGI </td><td>V020</td><td>300,1,N,0062,1</td><td>22000,1,9,N</td><td>016093,1,N,1</td><td>-0010,1</td><td>-0070,1</td><td>10250,1</td><td>-1.0</td><td>-7.0</td><td>6.2</td><td>22000</td><td>Winter</td></tr>\n",
       "</table>\n",
       "only showing top 20 rows\n"
      ],
      "text/plain": [
       "+---------+-------------------+------+--------+---------+---------+---------+-----------+---------+---------------+--------------+-----------+------------+-------+-------+-------+-----------+-------------+----------+--------------+------+\n",
       "|  STATION|               DATE|SOURCE|LATITUDE|LONGITUDE|ELEVATION|     NAME|REPORT_TYPE|CALL_SIGN|QUALITY_CONTROL|           WND|        CIG|         VIS|    TMP|    DEW|    SLP|temperature|precipitation|speed_rate|ceiling_height|season|\n",
       "+---------+-------------------+------+--------+---------+---------+---------+-----------+---------+---------------+--------------+-----------+------------+-------+-------+-------+-----------+-------------+----------+--------------+------+\n",
       "|826099999|2008-01-01 00:00:00|     4|     0.0|      0.0|      0.0|WXPOD8270|      FM-15|    KFMH |           V020|280,1,N,0062,1|22000,1,9,N|024140,1,N,1|+0020,1|-0040,1|10170,1|        2.0|         -4.0|       6.2|         22000|Winter|\n",
       "|826099999|2008-01-01 01:00:00|     4|     0.0|      0.0|      0.0|WXPOD8270|      FM-15|    KFMH |           V020|270,1,N,0046,1|22000,1,9,N|024140,1,N,1|+0010,1|-0040,1|10181,1|        1.0|         -4.0|       4.6|         22000|Winter|\n",
       "|826099999|2008-01-01 01:53:00|     4|     0.0|      0.0|      0.0|WXPOD8270|      AUTO |    KCGI |           V020|300,1,N,0067,1|22000,1,9,N|016093,1,N,1|+0030,1|-0040,1|99999,9|        3.0|         -4.0|       6.7|         22000|Winter|\n",
       "|826099999|2008-01-01 02:00:00|     4|     0.0|      0.0|      0.0|WXPOD8270|      FM-15|    KFMH |           V020|270,1,N,0051,1|22000,1,9,N|024140,1,N,1|+0010,1|-0040,1|10192,1|        1.0|         -4.0|       5.1|         22000|Winter|\n",
       "|826099999|2008-01-01 02:53:00|     4|     0.0|      0.0|      0.0|WXPOD8270|      AUTO |    KCGI |           V020|280,1,N,0041,1|22000,1,9,N|016093,1,N,1|+0020,1|-0040,1|10190,1|        2.0|         -4.0|       4.1|         22000|Winter|\n",
       "|826099999|2008-01-01 03:00:00|     4|     0.0|      0.0|      0.0|WXPOD8270|      SY-MT|    KFMH |           V020|300,1,N,0041,1|22000,1,9,N|016000,1,N,1|+0017,1|-0044,1|10203,1|        1.7|         -4.4|       4.1|         22000|Winter|\n",
       "|826099999|2008-01-01 03:53:00|     4|     0.0|      0.0|      0.0|WXPOD8270|      AUTO |    KCGI |           V020|280,1,N,0041,1|22000,1,9,N|016093,1,N,1|+0010,1|-0030,1|10200,1|        1.0|         -3.0|       4.1|         22000|Winter|\n",
       "|826099999|2008-01-01 04:00:00|     4|     0.0|      0.0|      0.0|WXPOD8270|      FM-15|    KFMH |           V020|999,9,V,0010,1|22000,1,9,N|024140,1,N,1|-0030,1|-0050,1|10196,1|       -3.0|         -5.0|       1.0|         22000|Winter|\n",
       "|826099999|2008-01-01 04:53:00|     4|     0.0|      0.0|      0.0|WXPOD8270|      AUTO |    KCGI |           V020|260,1,N,0036,1|22000,1,9,N|016093,1,N,1|+0000,1|-0030,1|10207,1|        0.0|         -3.0|       3.6|         22000|Winter|\n",
       "|826099999|2008-01-01 05:00:00|     4|     0.0|      0.0|      0.0|WXPOD8270|      FM-15|    KFMH |           V020|210,1,N,0015,1|22000,1,9,N|024140,1,N,1|-0040,1|-0050,1|10199,1|       -4.0|         -5.0|       1.5|         22000|Winter|\n",
       "|826099999|2008-01-01 05:53:00|     4|     0.0|      0.0|      0.0|WXPOD8270|      AUTO |    KCGI |           V020|290,1,N,0051,1|22000,1,9,N|016093,1,N,1|+0010,1|-0040,1|10216,1|        1.0|         -4.0|       5.1|         22000|Winter|\n",
       "|826099999|2008-01-01 06:00:00|     4|     0.0|      0.0|      0.0|WXPOD8270|      FM-15|    KFMH |           V020|260,1,N,0005,1|22000,1,9,N|024140,1,N,1|-0040,1|-0050,1|10209,1|       -4.0|         -5.0|       0.5|         22000|Winter|\n",
       "|826099999|2008-01-01 06:53:00|     4|     0.0|      0.0|      0.0|WXPOD8270|      AUTO |    KCGI |           V020|290,1,N,0051,1|22000,1,9,N|016093,1,N,1|+0000,1|-0060,1|10226,1|        0.0|         -6.0|       5.1|         22000|Winter|\n",
       "|826099999|2008-01-01 07:00:00|     4|     0.0|      0.0|      0.0|WXPOD8270|      FM-15|    KFMH |           V020|999,9,C,0000,1|22000,1,9,N|024140,1,N,1|-0030,1|-0050,1|10209,1|       -3.0|         -5.0|       0.0|         22000|Winter|\n",
       "|826099999|2008-01-01 07:53:00|     4|     0.0|      0.0|      0.0|WXPOD8270|      AUTO |    KCGI |           V020|300,1,N,0093,1|22000,1,9,N|016093,1,N,1|+0010,1|-0080,1|10233,1|        1.0|         -8.0|       9.3|         22000|Winter|\n",
       "|826099999|2008-01-01 08:00:00|     4|     0.0|      0.0|      0.0|WXPOD8270|      FM-15|    KFMH |           V020|999,9,V,0005,1|22000,1,9,N|024140,1,N,1|-0050,1|-0060,1|10216,1|       -5.0|         -6.0|       0.5|         22000|Winter|\n",
       "|826099999|2008-01-01 08:53:00|     4|     0.0|      0.0|      0.0|WXPOD8270|      AUTO |    KCGI |           V020|300,1,N,0062,1|22000,1,9,N|016093,1,N,1|-0010,1|-0080,1|10243,1|       -1.0|         -8.0|       6.2|         22000|Winter|\n",
       "|826099999|2008-01-01 08:55:00|     4|     0.0|      0.0|      0.0|WXPOD8270|      FM-15|    KFMH |           V020|999,9,V,0015,1|22000,1,9,N|024140,1,N,1|-0060,1|-0060,1|10216,1|       -6.0|         -6.0|       1.5|         22000|Winter|\n",
       "|826099999|2008-01-01 09:00:00|     4|     0.0|      0.0|      0.0|WXPOD8270|      FM-12|    KFMH |           V020|310,1,N,0021,1|22000,1,9,N|016000,1,N,1|-0011,1|-0050,1|10219,1|       -1.1|         -5.0|       2.1|         22000|Winter|\n",
       "|826099999|2008-01-01 09:53:00|     4|     0.0|      0.0|      0.0|WXPOD8270|      AUTO |    KCGI |           V020|300,1,N,0062,1|22000,1,9,N|016093,1,N,1|-0010,1|-0070,1|10250,1|       -1.0|         -7.0|       6.2|         22000|Winter|\n",
       "+---------+-------------------+------+--------+---------+---------+---------+-----------+---------+---------------+--------------+-----------+------------+-------+-------+-------+-----------+-------------+----------+--------------+------+\n",
       "only showing top 20 rows"
      ]
     },
     "execution_count": 25,
     "metadata": {},
     "output_type": "execute_result"
    }
   ],
   "source": [
    "all_stations"
   ]
  },
  {
   "cell_type": "code",
   "execution_count": null,
   "id": "harmful-performer",
   "metadata": {},
   "outputs": [],
   "source": []
  },
  {
   "cell_type": "markdown",
   "id": "rolled-divide",
   "metadata": {},
   "source": [
    "## Moyenne des températures, elevations, speed_rates, ceiling_heights et des précipitations par année/mois/journée/saison"
   ]
  },
  {
   "cell_type": "code",
   "execution_count": 26,
   "id": "nuclear-people",
   "metadata": {},
   "outputs": [
    {
     "data": {
      "text/html": [
       "<table border='1'>\n",
       "<tr><th>year</th><th>mean_tmp</th><th>mean_elevation</th><th>mean_speed_rate</th><th>mean_ceiling_height</th><th>mean_dew</th></tr>\n",
       "<tr><td>2000</td><td>6.5</td><td>83.99</td><td>3.97</td><td>9158.99</td><td>3.07</td></tr>\n",
       "<tr><td>2002</td><td>5.1</td><td>99.39</td><td>3.78</td><td>10364.9</td><td>1.29</td></tr>\n",
       "<tr><td>2004</td><td>5.34</td><td>99.69</td><td>4.13</td><td>10119.5</td><td>1.55</td></tr>\n",
       "<tr><td>2006</td><td>4.66</td><td>49.06</td><td>5.17</td><td>6679.71</td><td>0.92</td></tr>\n",
       "<tr><td>2008</td><td>3.81</td><td>73.26</td><td>5.02</td><td>6909.59</td><td>0.0</td></tr>\n",
       "<tr><td>2010</td><td>3.03</td><td>79.17</td><td>5.17</td><td>7082.15</td><td>-0.51</td></tr>\n",
       "<tr><td>2012</td><td>4.48</td><td>63.71</td><td>7.08</td><td>8738.69</td><td>0.8</td></tr>\n",
       "<tr><td>2014</td><td>5.25</td><td>82.24</td><td>7.04</td><td>2883.6</td><td>1.82</td></tr>\n",
       "<tr><td>2016</td><td>3.95</td><td>80.42</td><td>4.71</td><td>2751.0</td><td>0.64</td></tr>\n",
       "<tr><td>2018</td><td>3.97</td><td>47.19</td><td>6.02</td><td>3987.21</td><td>0.66</td></tr>\n",
       "</table>\n"
      ],
      "text/plain": [
       "+----+--------+--------------+---------------+-------------------+--------+\n",
       "|year|mean_tmp|mean_elevation|mean_speed_rate|mean_ceiling_height|mean_dew|\n",
       "+----+--------+--------------+---------------+-------------------+--------+\n",
       "|2000|     6.5|         83.99|           3.97|            9158.99|    3.07|\n",
       "|2002|     5.1|         99.39|           3.78|            10364.9|    1.29|\n",
       "|2004|    5.34|         99.69|           4.13|            10119.5|    1.55|\n",
       "|2006|    4.66|         49.06|           5.17|            6679.71|    0.92|\n",
       "|2008|    3.81|         73.26|           5.02|            6909.59|     0.0|\n",
       "|2010|    3.03|         79.17|           5.17|            7082.15|   -0.51|\n",
       "|2012|    4.48|         63.71|           7.08|            8738.69|     0.8|\n",
       "|2014|    5.25|         82.24|           7.04|             2883.6|    1.82|\n",
       "|2016|    3.95|         80.42|           4.71|             2751.0|    0.64|\n",
       "|2018|    3.97|         47.19|           6.02|            3987.21|    0.66|\n",
       "+----+--------+--------------+---------------+-------------------+--------+"
      ]
     },
     "execution_count": 26,
     "metadata": {},
     "output_type": "execute_result"
    }
   ],
   "source": [
    "# Par année\n",
    "means_by_year = all_stations.groupBy([year(\"DATE\").alias(\"year\")]).agg(F.round(mean(\"temperature\"), 2).alias(\"mean_tmp\"), F.round(mean(\"ELEVATION\"), 2).alias(\"mean_elevation\"), F.round(mean(\"speed_rate\"), 2).alias(\"mean_speed_rate\"), F.round(mean(\"ceiling_height\"), 2).alias(\"mean_ceiling_height\"), F.round(mean(\"precipitation\"), 2).alias(\"mean_dew\"))\n",
    "means_by_year = means_by_year.sort(\"year\")\n",
    "means_by_year"
   ]
  },
  {
   "cell_type": "code",
   "execution_count": 27,
   "id": "sensitive-wiring",
   "metadata": {},
   "outputs": [
    {
     "data": {
      "text/html": [
       "<table border='1'>\n",
       "<tr><th>year</th><th>month</th><th>mean_tmp</th><th>mean_elevation</th><th>mean_speed_rate</th><th>mean_ceiling_height</th><th>mean_dew</th></tr>\n",
       "<tr><td>2000</td><td>1</td><td>-0.17</td><td>84.45</td><td>4.95</td><td>9041.95</td><td>-2.73</td></tr>\n",
       "<tr><td>2000</td><td>2</td><td>-0.14</td><td>85.04</td><td>4.83</td><td>9051.08</td><td>-2.75</td></tr>\n",
       "<tr><td>2000</td><td>3</td><td>1.1</td><td>84.16</td><td>4.62</td><td>10068.88</td><td>-2.8</td></tr>\n",
       "<tr><td>2000</td><td>4</td><td>4.33</td><td>85.19</td><td>3.69</td><td>9123.43</td><td>0.43</td></tr>\n",
       "<tr><td>2000</td><td>5</td><td>9.5</td><td>84.23</td><td>3.67</td><td>12021.23</td><td>4.03</td></tr>\n",
       "<tr><td>2000</td><td>6</td><td>11.77</td><td>83.83</td><td>4.0</td><td>9326.8</td><td>6.93</td></tr>\n",
       "<tr><td>2000</td><td>7</td><td>14.1</td><td>81.31</td><td>3.22</td><td>8645.74</td><td>10.16</td></tr>\n",
       "<tr><td>2000</td><td>8</td><td>13.63</td><td>82.84</td><td>2.99</td><td>9537.76</td><td>10.18</td></tr>\n",
       "<tr><td>2000</td><td>9</td><td>10.7</td><td>85.1</td><td>3.52</td><td>10872.76</td><td>7.15</td></tr>\n",
       "<tr><td>2000</td><td>10</td><td>8.66</td><td>83.85</td><td>4.26</td><td>7911.04</td><td>5.94</td></tr>\n",
       "<tr><td>2000</td><td>11</td><td>4.44</td><td>83.47</td><td>3.93</td><td>7033.04</td><td>2.16</td></tr>\n",
       "<tr><td>2000</td><td>12</td><td>0.72</td><td>84.42</td><td>3.81</td><td>7237.98</td><td>-1.25</td></tr>\n",
       "<tr><td>2002</td><td>1</td><td>-2.88</td><td>101.02</td><td>4.47</td><td>7627.77</td><td>-4.92</td></tr>\n",
       "<tr><td>2002</td><td>2</td><td>-1.54</td><td>104.23</td><td>4.76</td><td>7767.07</td><td>-4.0</td></tr>\n",
       "<tr><td>2002</td><td>3</td><td>-0.71</td><td>103.71</td><td>4.35</td><td>10685.93</td><td>-4.26</td></tr>\n",
       "<tr><td>2002</td><td>4</td><td>4.7</td><td>106.12</td><td>3.7</td><td>11264.75</td><td>-0.12</td></tr>\n",
       "<tr><td>2002</td><td>5</td><td>10.04</td><td>103.28</td><td>3.92</td><td>12923.42</td><td>3.52</td></tr>\n",
       "<tr><td>2002</td><td>6</td><td>14.27</td><td>99.69</td><td>3.73</td><td>13148.42</td><td>8.32</td></tr>\n",
       "<tr><td>2002</td><td>7</td><td>16.38</td><td>95.94</td><td>3.47</td><td>11168.16</td><td>11.85</td></tr>\n",
       "<tr><td>2002</td><td>8</td><td>17.08</td><td>95.54</td><td>2.98</td><td>14395.62</td><td>11.97</td></tr>\n",
       "</table>\n",
       "only showing top 20 rows\n"
      ],
      "text/plain": [
       "+----+-----+--------+--------------+---------------+-------------------+--------+\n",
       "|year|month|mean_tmp|mean_elevation|mean_speed_rate|mean_ceiling_height|mean_dew|\n",
       "+----+-----+--------+--------------+---------------+-------------------+--------+\n",
       "|2000|    1|   -0.17|         84.45|           4.95|            9041.95|   -2.73|\n",
       "|2000|    2|   -0.14|         85.04|           4.83|            9051.08|   -2.75|\n",
       "|2000|    3|     1.1|         84.16|           4.62|           10068.88|    -2.8|\n",
       "|2000|    4|    4.33|         85.19|           3.69|            9123.43|    0.43|\n",
       "|2000|    5|     9.5|         84.23|           3.67|           12021.23|    4.03|\n",
       "|2000|    6|   11.77|         83.83|            4.0|             9326.8|    6.93|\n",
       "|2000|    7|    14.1|         81.31|           3.22|            8645.74|   10.16|\n",
       "|2000|    8|   13.63|         82.84|           2.99|            9537.76|   10.18|\n",
       "|2000|    9|    10.7|          85.1|           3.52|           10872.76|    7.15|\n",
       "|2000|   10|    8.66|         83.85|           4.26|            7911.04|    5.94|\n",
       "|2000|   11|    4.44|         83.47|           3.93|            7033.04|    2.16|\n",
       "|2000|   12|    0.72|         84.42|           3.81|            7237.98|   -1.25|\n",
       "|2002|    1|   -2.88|        101.02|           4.47|            7627.77|   -4.92|\n",
       "|2002|    2|   -1.54|        104.23|           4.76|            7767.07|    -4.0|\n",
       "|2002|    3|   -0.71|        103.71|           4.35|           10685.93|   -4.26|\n",
       "|2002|    4|     4.7|        106.12|            3.7|           11264.75|   -0.12|\n",
       "|2002|    5|   10.04|        103.28|           3.92|           12923.42|    3.52|\n",
       "|2002|    6|   14.27|         99.69|           3.73|           13148.42|    8.32|\n",
       "|2002|    7|   16.38|         95.94|           3.47|           11168.16|   11.85|\n",
       "|2002|    8|   17.08|         95.54|           2.98|           14395.62|   11.97|\n",
       "+----+-----+--------+--------------+---------------+-------------------+--------+\n",
       "only showing top 20 rows"
      ]
     },
     "execution_count": 27,
     "metadata": {},
     "output_type": "execute_result"
    }
   ],
   "source": [
    "# Par mois\n",
    "means_by_month = all_stations.groupBy([year(\"DATE\").alias(\"year\"), month(\"DATE\").alias(\"month\")]).agg(F.round(mean(\"temperature\"), 2).alias(\"mean_tmp\"), F.round(mean(\"ELEVATION\"), 2).alias(\"mean_elevation\"), F.round(mean(\"speed_rate\"), 2).alias(\"mean_speed_rate\"), F.round(mean(\"ceiling_height\"), 2).alias(\"mean_ceiling_height\"), F.round(mean(\"precipitation\"), 2).alias(\"mean_dew\"))\n",
    "means_by_month = means_by_month.sort(\"year\", \"month\")\n",
    "means_by_month"
   ]
  },
  {
   "cell_type": "markdown",
   "id": "finite-vaccine",
   "metadata": {},
   "source": [
    "## Création du champ 'year'"
   ]
  },
  {
   "cell_type": "code",
   "execution_count": 28,
   "id": "compatible-recall",
   "metadata": {},
   "outputs": [
    {
     "data": {
      "text/html": [
       "<table border='1'>\n",
       "<tr><th>STATION</th><th>DATE</th><th>SOURCE</th><th>LATITUDE</th><th>LONGITUDE</th><th>ELEVATION</th><th>NAME</th><th>REPORT_TYPE</th><th>CALL_SIGN</th><th>QUALITY_CONTROL</th><th>WND</th><th>CIG</th><th>VIS</th><th>TMP</th><th>DEW</th><th>SLP</th><th>temperature</th><th>precipitation</th><th>speed_rate</th><th>ceiling_height</th><th>season</th><th>year</th></tr>\n",
       "<tr><td>826099999</td><td>2008-01-01 00:00:00</td><td>4</td><td>0.0</td><td>0.0</td><td>0.0</td><td>WXPOD8270</td><td>FM-15</td><td>KFMH </td><td>V020</td><td>280,1,N,0062,1</td><td>22000,1,9,N</td><td>024140,1,N,1</td><td>+0020,1</td><td>-0040,1</td><td>10170,1</td><td>2.0</td><td>-4.0</td><td>6.2</td><td>22000</td><td>Winter</td><td>2008</td></tr>\n",
       "<tr><td>826099999</td><td>2008-01-01 01:00:00</td><td>4</td><td>0.0</td><td>0.0</td><td>0.0</td><td>WXPOD8270</td><td>FM-15</td><td>KFMH </td><td>V020</td><td>270,1,N,0046,1</td><td>22000,1,9,N</td><td>024140,1,N,1</td><td>+0010,1</td><td>-0040,1</td><td>10181,1</td><td>1.0</td><td>-4.0</td><td>4.6</td><td>22000</td><td>Winter</td><td>2008</td></tr>\n",
       "<tr><td>826099999</td><td>2008-01-01 01:53:00</td><td>4</td><td>0.0</td><td>0.0</td><td>0.0</td><td>WXPOD8270</td><td>AUTO </td><td>KCGI </td><td>V020</td><td>300,1,N,0067,1</td><td>22000,1,9,N</td><td>016093,1,N,1</td><td>+0030,1</td><td>-0040,1</td><td>99999,9</td><td>3.0</td><td>-4.0</td><td>6.7</td><td>22000</td><td>Winter</td><td>2008</td></tr>\n",
       "<tr><td>826099999</td><td>2008-01-01 02:00:00</td><td>4</td><td>0.0</td><td>0.0</td><td>0.0</td><td>WXPOD8270</td><td>FM-15</td><td>KFMH </td><td>V020</td><td>270,1,N,0051,1</td><td>22000,1,9,N</td><td>024140,1,N,1</td><td>+0010,1</td><td>-0040,1</td><td>10192,1</td><td>1.0</td><td>-4.0</td><td>5.1</td><td>22000</td><td>Winter</td><td>2008</td></tr>\n",
       "<tr><td>826099999</td><td>2008-01-01 02:53:00</td><td>4</td><td>0.0</td><td>0.0</td><td>0.0</td><td>WXPOD8270</td><td>AUTO </td><td>KCGI </td><td>V020</td><td>280,1,N,0041,1</td><td>22000,1,9,N</td><td>016093,1,N,1</td><td>+0020,1</td><td>-0040,1</td><td>10190,1</td><td>2.0</td><td>-4.0</td><td>4.1</td><td>22000</td><td>Winter</td><td>2008</td></tr>\n",
       "<tr><td>826099999</td><td>2008-01-01 03:00:00</td><td>4</td><td>0.0</td><td>0.0</td><td>0.0</td><td>WXPOD8270</td><td>SY-MT</td><td>KFMH </td><td>V020</td><td>300,1,N,0041,1</td><td>22000,1,9,N</td><td>016000,1,N,1</td><td>+0017,1</td><td>-0044,1</td><td>10203,1</td><td>1.7</td><td>-4.4</td><td>4.1</td><td>22000</td><td>Winter</td><td>2008</td></tr>\n",
       "<tr><td>826099999</td><td>2008-01-01 03:53:00</td><td>4</td><td>0.0</td><td>0.0</td><td>0.0</td><td>WXPOD8270</td><td>AUTO </td><td>KCGI </td><td>V020</td><td>280,1,N,0041,1</td><td>22000,1,9,N</td><td>016093,1,N,1</td><td>+0010,1</td><td>-0030,1</td><td>10200,1</td><td>1.0</td><td>-3.0</td><td>4.1</td><td>22000</td><td>Winter</td><td>2008</td></tr>\n",
       "<tr><td>826099999</td><td>2008-01-01 04:00:00</td><td>4</td><td>0.0</td><td>0.0</td><td>0.0</td><td>WXPOD8270</td><td>FM-15</td><td>KFMH </td><td>V020</td><td>999,9,V,0010,1</td><td>22000,1,9,N</td><td>024140,1,N,1</td><td>-0030,1</td><td>-0050,1</td><td>10196,1</td><td>-3.0</td><td>-5.0</td><td>1.0</td><td>22000</td><td>Winter</td><td>2008</td></tr>\n",
       "<tr><td>826099999</td><td>2008-01-01 04:53:00</td><td>4</td><td>0.0</td><td>0.0</td><td>0.0</td><td>WXPOD8270</td><td>AUTO </td><td>KCGI </td><td>V020</td><td>260,1,N,0036,1</td><td>22000,1,9,N</td><td>016093,1,N,1</td><td>+0000,1</td><td>-0030,1</td><td>10207,1</td><td>0.0</td><td>-3.0</td><td>3.6</td><td>22000</td><td>Winter</td><td>2008</td></tr>\n",
       "<tr><td>826099999</td><td>2008-01-01 05:00:00</td><td>4</td><td>0.0</td><td>0.0</td><td>0.0</td><td>WXPOD8270</td><td>FM-15</td><td>KFMH </td><td>V020</td><td>210,1,N,0015,1</td><td>22000,1,9,N</td><td>024140,1,N,1</td><td>-0040,1</td><td>-0050,1</td><td>10199,1</td><td>-4.0</td><td>-5.0</td><td>1.5</td><td>22000</td><td>Winter</td><td>2008</td></tr>\n",
       "<tr><td>826099999</td><td>2008-01-01 05:53:00</td><td>4</td><td>0.0</td><td>0.0</td><td>0.0</td><td>WXPOD8270</td><td>AUTO </td><td>KCGI </td><td>V020</td><td>290,1,N,0051,1</td><td>22000,1,9,N</td><td>016093,1,N,1</td><td>+0010,1</td><td>-0040,1</td><td>10216,1</td><td>1.0</td><td>-4.0</td><td>5.1</td><td>22000</td><td>Winter</td><td>2008</td></tr>\n",
       "<tr><td>826099999</td><td>2008-01-01 06:00:00</td><td>4</td><td>0.0</td><td>0.0</td><td>0.0</td><td>WXPOD8270</td><td>FM-15</td><td>KFMH </td><td>V020</td><td>260,1,N,0005,1</td><td>22000,1,9,N</td><td>024140,1,N,1</td><td>-0040,1</td><td>-0050,1</td><td>10209,1</td><td>-4.0</td><td>-5.0</td><td>0.5</td><td>22000</td><td>Winter</td><td>2008</td></tr>\n",
       "<tr><td>826099999</td><td>2008-01-01 06:53:00</td><td>4</td><td>0.0</td><td>0.0</td><td>0.0</td><td>WXPOD8270</td><td>AUTO </td><td>KCGI </td><td>V020</td><td>290,1,N,0051,1</td><td>22000,1,9,N</td><td>016093,1,N,1</td><td>+0000,1</td><td>-0060,1</td><td>10226,1</td><td>0.0</td><td>-6.0</td><td>5.1</td><td>22000</td><td>Winter</td><td>2008</td></tr>\n",
       "<tr><td>826099999</td><td>2008-01-01 07:00:00</td><td>4</td><td>0.0</td><td>0.0</td><td>0.0</td><td>WXPOD8270</td><td>FM-15</td><td>KFMH </td><td>V020</td><td>999,9,C,0000,1</td><td>22000,1,9,N</td><td>024140,1,N,1</td><td>-0030,1</td><td>-0050,1</td><td>10209,1</td><td>-3.0</td><td>-5.0</td><td>0.0</td><td>22000</td><td>Winter</td><td>2008</td></tr>\n",
       "<tr><td>826099999</td><td>2008-01-01 07:53:00</td><td>4</td><td>0.0</td><td>0.0</td><td>0.0</td><td>WXPOD8270</td><td>AUTO </td><td>KCGI </td><td>V020</td><td>300,1,N,0093,1</td><td>22000,1,9,N</td><td>016093,1,N,1</td><td>+0010,1</td><td>-0080,1</td><td>10233,1</td><td>1.0</td><td>-8.0</td><td>9.3</td><td>22000</td><td>Winter</td><td>2008</td></tr>\n",
       "<tr><td>826099999</td><td>2008-01-01 08:00:00</td><td>4</td><td>0.0</td><td>0.0</td><td>0.0</td><td>WXPOD8270</td><td>FM-15</td><td>KFMH </td><td>V020</td><td>999,9,V,0005,1</td><td>22000,1,9,N</td><td>024140,1,N,1</td><td>-0050,1</td><td>-0060,1</td><td>10216,1</td><td>-5.0</td><td>-6.0</td><td>0.5</td><td>22000</td><td>Winter</td><td>2008</td></tr>\n",
       "<tr><td>826099999</td><td>2008-01-01 08:53:00</td><td>4</td><td>0.0</td><td>0.0</td><td>0.0</td><td>WXPOD8270</td><td>AUTO </td><td>KCGI </td><td>V020</td><td>300,1,N,0062,1</td><td>22000,1,9,N</td><td>016093,1,N,1</td><td>-0010,1</td><td>-0080,1</td><td>10243,1</td><td>-1.0</td><td>-8.0</td><td>6.2</td><td>22000</td><td>Winter</td><td>2008</td></tr>\n",
       "<tr><td>826099999</td><td>2008-01-01 08:55:00</td><td>4</td><td>0.0</td><td>0.0</td><td>0.0</td><td>WXPOD8270</td><td>FM-15</td><td>KFMH </td><td>V020</td><td>999,9,V,0015,1</td><td>22000,1,9,N</td><td>024140,1,N,1</td><td>-0060,1</td><td>-0060,1</td><td>10216,1</td><td>-6.0</td><td>-6.0</td><td>1.5</td><td>22000</td><td>Winter</td><td>2008</td></tr>\n",
       "<tr><td>826099999</td><td>2008-01-01 09:00:00</td><td>4</td><td>0.0</td><td>0.0</td><td>0.0</td><td>WXPOD8270</td><td>FM-12</td><td>KFMH </td><td>V020</td><td>310,1,N,0021,1</td><td>22000,1,9,N</td><td>016000,1,N,1</td><td>-0011,1</td><td>-0050,1</td><td>10219,1</td><td>-1.1</td><td>-5.0</td><td>2.1</td><td>22000</td><td>Winter</td><td>2008</td></tr>\n",
       "<tr><td>826099999</td><td>2008-01-01 09:53:00</td><td>4</td><td>0.0</td><td>0.0</td><td>0.0</td><td>WXPOD8270</td><td>AUTO </td><td>KCGI </td><td>V020</td><td>300,1,N,0062,1</td><td>22000,1,9,N</td><td>016093,1,N,1</td><td>-0010,1</td><td>-0070,1</td><td>10250,1</td><td>-1.0</td><td>-7.0</td><td>6.2</td><td>22000</td><td>Winter</td><td>2008</td></tr>\n",
       "</table>\n",
       "only showing top 20 rows\n"
      ],
      "text/plain": [
       "+---------+-------------------+------+--------+---------+---------+---------+-----------+---------+---------------+--------------+-----------+------------+-------+-------+-------+-----------+-------------+----------+--------------+------+----+\n",
       "|  STATION|               DATE|SOURCE|LATITUDE|LONGITUDE|ELEVATION|     NAME|REPORT_TYPE|CALL_SIGN|QUALITY_CONTROL|           WND|        CIG|         VIS|    TMP|    DEW|    SLP|temperature|precipitation|speed_rate|ceiling_height|season|year|\n",
       "+---------+-------------------+------+--------+---------+---------+---------+-----------+---------+---------------+--------------+-----------+------------+-------+-------+-------+-----------+-------------+----------+--------------+------+----+\n",
       "|826099999|2008-01-01 00:00:00|     4|     0.0|      0.0|      0.0|WXPOD8270|      FM-15|    KFMH |           V020|280,1,N,0062,1|22000,1,9,N|024140,1,N,1|+0020,1|-0040,1|10170,1|        2.0|         -4.0|       6.2|         22000|Winter|2008|\n",
       "|826099999|2008-01-01 01:00:00|     4|     0.0|      0.0|      0.0|WXPOD8270|      FM-15|    KFMH |           V020|270,1,N,0046,1|22000,1,9,N|024140,1,N,1|+0010,1|-0040,1|10181,1|        1.0|         -4.0|       4.6|         22000|Winter|2008|\n",
       "|826099999|2008-01-01 01:53:00|     4|     0.0|      0.0|      0.0|WXPOD8270|      AUTO |    KCGI |           V020|300,1,N,0067,1|22000,1,9,N|016093,1,N,1|+0030,1|-0040,1|99999,9|        3.0|         -4.0|       6.7|         22000|Winter|2008|\n",
       "|826099999|2008-01-01 02:00:00|     4|     0.0|      0.0|      0.0|WXPOD8270|      FM-15|    KFMH |           V020|270,1,N,0051,1|22000,1,9,N|024140,1,N,1|+0010,1|-0040,1|10192,1|        1.0|         -4.0|       5.1|         22000|Winter|2008|\n",
       "|826099999|2008-01-01 02:53:00|     4|     0.0|      0.0|      0.0|WXPOD8270|      AUTO |    KCGI |           V020|280,1,N,0041,1|22000,1,9,N|016093,1,N,1|+0020,1|-0040,1|10190,1|        2.0|         -4.0|       4.1|         22000|Winter|2008|\n",
       "|826099999|2008-01-01 03:00:00|     4|     0.0|      0.0|      0.0|WXPOD8270|      SY-MT|    KFMH |           V020|300,1,N,0041,1|22000,1,9,N|016000,1,N,1|+0017,1|-0044,1|10203,1|        1.7|         -4.4|       4.1|         22000|Winter|2008|\n",
       "|826099999|2008-01-01 03:53:00|     4|     0.0|      0.0|      0.0|WXPOD8270|      AUTO |    KCGI |           V020|280,1,N,0041,1|22000,1,9,N|016093,1,N,1|+0010,1|-0030,1|10200,1|        1.0|         -3.0|       4.1|         22000|Winter|2008|\n",
       "|826099999|2008-01-01 04:00:00|     4|     0.0|      0.0|      0.0|WXPOD8270|      FM-15|    KFMH |           V020|999,9,V,0010,1|22000,1,9,N|024140,1,N,1|-0030,1|-0050,1|10196,1|       -3.0|         -5.0|       1.0|         22000|Winter|2008|\n",
       "|826099999|2008-01-01 04:53:00|     4|     0.0|      0.0|      0.0|WXPOD8270|      AUTO |    KCGI |           V020|260,1,N,0036,1|22000,1,9,N|016093,1,N,1|+0000,1|-0030,1|10207,1|        0.0|         -3.0|       3.6|         22000|Winter|2008|\n",
       "|826099999|2008-01-01 05:00:00|     4|     0.0|      0.0|      0.0|WXPOD8270|      FM-15|    KFMH |           V020|210,1,N,0015,1|22000,1,9,N|024140,1,N,1|-0040,1|-0050,1|10199,1|       -4.0|         -5.0|       1.5|         22000|Winter|2008|\n",
       "|826099999|2008-01-01 05:53:00|     4|     0.0|      0.0|      0.0|WXPOD8270|      AUTO |    KCGI |           V020|290,1,N,0051,1|22000,1,9,N|016093,1,N,1|+0010,1|-0040,1|10216,1|        1.0|         -4.0|       5.1|         22000|Winter|2008|\n",
       "|826099999|2008-01-01 06:00:00|     4|     0.0|      0.0|      0.0|WXPOD8270|      FM-15|    KFMH |           V020|260,1,N,0005,1|22000,1,9,N|024140,1,N,1|-0040,1|-0050,1|10209,1|       -4.0|         -5.0|       0.5|         22000|Winter|2008|\n",
       "|826099999|2008-01-01 06:53:00|     4|     0.0|      0.0|      0.0|WXPOD8270|      AUTO |    KCGI |           V020|290,1,N,0051,1|22000,1,9,N|016093,1,N,1|+0000,1|-0060,1|10226,1|        0.0|         -6.0|       5.1|         22000|Winter|2008|\n",
       "|826099999|2008-01-01 07:00:00|     4|     0.0|      0.0|      0.0|WXPOD8270|      FM-15|    KFMH |           V020|999,9,C,0000,1|22000,1,9,N|024140,1,N,1|-0030,1|-0050,1|10209,1|       -3.0|         -5.0|       0.0|         22000|Winter|2008|\n",
       "|826099999|2008-01-01 07:53:00|     4|     0.0|      0.0|      0.0|WXPOD8270|      AUTO |    KCGI |           V020|300,1,N,0093,1|22000,1,9,N|016093,1,N,1|+0010,1|-0080,1|10233,1|        1.0|         -8.0|       9.3|         22000|Winter|2008|\n",
       "|826099999|2008-01-01 08:00:00|     4|     0.0|      0.0|      0.0|WXPOD8270|      FM-15|    KFMH |           V020|999,9,V,0005,1|22000,1,9,N|024140,1,N,1|-0050,1|-0060,1|10216,1|       -5.0|         -6.0|       0.5|         22000|Winter|2008|\n",
       "|826099999|2008-01-01 08:53:00|     4|     0.0|      0.0|      0.0|WXPOD8270|      AUTO |    KCGI |           V020|300,1,N,0062,1|22000,1,9,N|016093,1,N,1|-0010,1|-0080,1|10243,1|       -1.0|         -8.0|       6.2|         22000|Winter|2008|\n",
       "|826099999|2008-01-01 08:55:00|     4|     0.0|      0.0|      0.0|WXPOD8270|      FM-15|    KFMH |           V020|999,9,V,0015,1|22000,1,9,N|024140,1,N,1|-0060,1|-0060,1|10216,1|       -6.0|         -6.0|       1.5|         22000|Winter|2008|\n",
       "|826099999|2008-01-01 09:00:00|     4|     0.0|      0.0|      0.0|WXPOD8270|      FM-12|    KFMH |           V020|310,1,N,0021,1|22000,1,9,N|016000,1,N,1|-0011,1|-0050,1|10219,1|       -1.1|         -5.0|       2.1|         22000|Winter|2008|\n",
       "|826099999|2008-01-01 09:53:00|     4|     0.0|      0.0|      0.0|WXPOD8270|      AUTO |    KCGI |           V020|300,1,N,0062,1|22000,1,9,N|016093,1,N,1|-0010,1|-0070,1|10250,1|       -1.0|         -7.0|       6.2|         22000|Winter|2008|\n",
       "+---------+-------------------+------+--------+---------+---------+---------+-----------+---------+---------------+--------------+-----------+------------+-------+-------+-------+-----------+-------------+----------+--------------+------+----+\n",
       "only showing top 20 rows"
      ]
     },
     "execution_count": 28,
     "metadata": {},
     "output_type": "execute_result"
    }
   ],
   "source": [
    "all_stations = all_stations.withColumn(\"year\", year(all_stations[\"DATE\"]))\n",
    "all_stations"
   ]
  },
  {
   "cell_type": "code",
   "execution_count": null,
   "id": "saved-minimum",
   "metadata": {},
   "outputs": [],
   "source": []
  },
  {
   "cell_type": "markdown",
   "id": "primary-criminal",
   "metadata": {},
   "source": [
    "## Longitude et latitude par station"
   ]
  },
  {
   "cell_type": "code",
   "execution_count": 29,
   "id": "apparent-apparatus",
   "metadata": {
    "scrolled": true
   },
   "outputs": [
    {
     "name": "stdout",
     "output_type": "stream",
     "text": [
      "Quelle année? : 2016\n",
      "+----------+-----------------+------------------+\n",
      "|   STATION|              lat|              long|\n",
      "+----------+-----------------+------------------+\n",
      "|1001499999|59.79192352294922| 5.340849876403809|\n",
      "|1083099999|70.86666870117188| 29.03333282470703|\n",
      "|1068099999|71.01667022705078|25.983333587646484|\n",
      "|1046099999| 69.7868423461914|20.959444046020508|\n",
      "|1045099999|69.83333587646484|21.883333206176758|\n",
      "|1059099999|70.06881713867188| 24.97348976135254|\n",
      "|1074099999|71.03333282470703| 27.83333396911621|\n",
      "|1052099999|70.68333435058594|23.683332443237305|\n",
      "|1023099999|69.05575561523438|18.540355682373047|\n",
      "|1062099999|             76.5|25.066667556762695|\n",
      "|1007099999|78.91666412353516|11.933333396911621|\n",
      "|1023199999| 64.3499984741211| 7.800000190734863|\n",
      "|1010099999| 69.2925033569336|16.144166946411133|\n",
      "|1028099999|74.51667022705078|19.016666412353516|\n",
      "|1078099999| 71.0999984741211|28.233333587646484|\n",
      "|1057099999|69.36666870117188|24.433332443237305|\n",
      "| 702699999|              0.0|               0.0|\n",
      "|1044099999| 70.4866714477539| 22.13974380493164|\n",
      "|1003099999|             77.0|              15.5|\n",
      "|1049099999|69.97611236572266|23.371667861938477|\n",
      "+----------+-----------------+------------------+\n",
      "only showing top 20 rows\n",
      "\n"
     ]
    }
   ],
   "source": [
    "annee = int(input(\"Quelle année? : \"))\n",
    "longitude_latitude_par_station = all_stations.filter(all_stations.year == annee).groupBy([\"STATION\"]).agg(mean(\"LATITUDE\").alias(\"lat\"), mean(\"LONGITUDE\").alias(\"long\"))\n",
    "longitude_latitude_par_station.show()"
   ]
  },
  {
   "cell_type": "code",
   "execution_count": 30,
   "id": "entertaining-devon",
   "metadata": {},
   "outputs": [
    {
     "data": {
      "text/plain": [
       "25"
      ]
     },
     "execution_count": 30,
     "metadata": {},
     "output_type": "execute_result"
    }
   ],
   "source": [
    "longitude_latitude_par_station.count()"
   ]
  },
  {
   "cell_type": "code",
   "execution_count": 31,
   "id": "colored-compilation",
   "metadata": {},
   "outputs": [
    {
     "data": {
      "text/html": [
       "<table border='1'>\n",
       "<tr><th>STATION</th><th>lat</th><th>long</th></tr>\n",
       "<tr><td>1001499999</td><td>59.79192352294922</td><td>5.340849876403809</td></tr>\n",
       "<tr><td>1023199999</td><td>64.3499984741211</td><td>7.800000190734863</td></tr>\n",
       "</table>\n"
      ],
      "text/plain": [
       "+----------+-----------------+-----------------+\n",
       "|   STATION|              lat|             long|\n",
       "+----------+-----------------+-----------------+\n",
       "|1001499999|59.79192352294922|5.340849876403809|\n",
       "|1023199999| 64.3499984741211|7.800000190734863|\n",
       "+----------+-----------------+-----------------+"
      ]
     },
     "execution_count": 31,
     "metadata": {},
     "output_type": "execute_result"
    }
   ],
   "source": [
    "filtre_norvege = longitude_latitude_par_station.filter(longitude_latitude_par_station.long >= 5).filter(longitude_latitude_par_station.long <= 12).filter(longitude_latitude_par_station.lat >= 57).filter(longitude_latitude_par_station.lat <= 65)\n",
    "filtre_norvege"
   ]
  },
  {
   "cell_type": "code",
   "execution_count": 32,
   "id": "greenhouse-frequency",
   "metadata": {},
   "outputs": [
    {
     "name": "stdout",
     "output_type": "stream",
     "text": [
      "Quelle station ? : 1023199999\n",
      "+----------+--------+--------------+---------------+-------------------+--------+\n",
      "|      date|mean_tmp|mean_elevation|mean_speed_rate|mean_ceiling_height|mean_dew|\n",
      "+----------+--------+--------------+---------------+-------------------+--------+\n",
      "|2016-01-01|    7.67|           0.0|          15.27|             2438.0|    -1.0|\n",
      "|2016-01-04|    -3.0|           0.0|          11.85|              610.0|   -10.0|\n",
      "|2016-01-05|   -0.33|           0.0|           10.3|              437.0|   -6.33|\n",
      "|2016-01-06|     1.0|           0.0|            8.5|             495.25|   -1.75|\n",
      "|2016-01-07|    -0.5|           0.0|            8.0|              610.0|    -7.5|\n",
      "|2016-01-08|    -5.0|           0.0|          11.05|              503.0|   -10.5|\n",
      "|2016-01-10|    -3.5|           0.0|           19.3|              853.0|   -11.5|\n",
      "|2016-01-11|    2.67|           0.0|            9.8|            2712.67|    -6.0|\n",
      "|2016-01-12|    -2.0|           0.0|          14.27|              686.0|    -9.5|\n",
      "|2016-01-13|    -1.5|           0.0|          12.35|             6096.0|    -9.0|\n",
      "|2016-01-16|     2.5|           0.0|           5.15|             1524.0|    -4.5|\n",
      "|2016-01-17|     2.0|           0.0|          15.63|             731.67|    1.67|\n",
      "|2016-01-18|     3.0|           0.0|           3.93|            1117.67|   -5.33|\n",
      "|2016-01-19|     0.5|           0.0|            7.5|             1524.0|    -3.5|\n",
      "|2016-01-20|     1.5|           0.0|          10.55|              381.0|    -4.5|\n",
      "|2016-01-21|     1.5|           0.0|           4.12|            1066.75|   -3.25|\n",
      "|2016-01-22|     2.0|           0.0|           11.8|             1829.0|    -5.0|\n",
      "|2016-01-23|     6.5|           0.0|           13.9|              990.5|     4.5|\n",
      "|2016-01-24|     7.0|           0.0|            6.7|             1829.0|     5.0|\n",
      "|2016-01-25|     7.0|           0.0|           11.3|              152.0|     6.0|\n",
      "|2016-01-26|     5.0|           0.0|           19.6|              610.0|    -1.0|\n",
      "|2016-01-27|     6.0|           0.0|           14.2|             1524.0|    -2.5|\n",
      "|2016-01-28|     4.0|           0.0|           11.0|             609.67|   -6.33|\n",
      "|2016-01-29|    6.33|           0.0|          15.97|             1321.0|  -11.67|\n",
      "|2016-01-30|     3.0|           0.0|            8.2|             1829.0|   -14.0|\n",
      "|2016-02-03|     4.0|           0.0|            7.7|              762.0|    -2.0|\n",
      "|2016-02-06|     6.0|           0.0|           10.3|             2134.0|     4.0|\n",
      "|2016-02-09|     5.0|           0.0|            6.2|              914.0|     3.0|\n",
      "|2016-02-11|     2.0|           0.0|          11.35|              457.0|    -3.5|\n",
      "|2016-02-12|     2.0|           0.0|          12.37|             304.67|   -3.67|\n",
      "|2016-02-13|     2.0|           0.0|           11.0|             700.67|    -5.0|\n",
      "|2016-02-14|    1.33|           0.0|           3.77|            2235.33|   -1.33|\n",
      "|2016-02-15|     1.0|           0.0|            8.5|              457.0|    -3.5|\n",
      "|2016-02-16|    2.25|           0.0|          11.57|              563.5|    -2.5|\n",
      "|2016-02-17|    5.75|           0.0|           19.7|              488.0|    2.25|\n",
      "|2016-02-18|     3.0|           0.0|          12.57|              508.0|    0.33|\n",
      "|2016-02-19|    4.67|           0.0|           17.0|             497.67|    0.67|\n",
      "|2016-02-20|    5.67|           0.0|          11.17|             457.33|     0.0|\n",
      "|2016-02-21|     3.5|           0.0|          11.85|             3154.5|    -0.5|\n",
      "|2016-02-22|    3.33|           0.0|           9.97|             457.33|     0.0|\n",
      "|2016-02-23|     4.0|           0.0|          12.72|              442.0|    1.25|\n",
      "|2016-02-24|     4.5|           0.0|           11.8|             3276.5|    -1.0|\n",
      "|2016-02-25|    4.33|           0.0|            8.4|            2235.33|   -0.33|\n",
      "|2016-02-26|    4.67|           0.0|            4.8|             711.33|     0.0|\n",
      "|2016-02-27|     3.0|           0.0|           10.8|              610.0|    -1.0|\n",
      "|2016-02-28|     5.5|           0.0|           6.15|              762.0|    -1.5|\n",
      "|2016-02-29|     4.0|           0.0|           11.3|             1219.0|    -1.0|\n",
      "|2016-03-01|     4.0|           0.0|            8.8|             1219.0|    -2.0|\n",
      "|2016-03-02|     4.5|           0.0|            3.6|             1524.0|    -2.0|\n",
      "|2016-03-03|     2.0|           0.0|            7.7|              899.0|    -1.5|\n",
      "|2016-03-04|     5.0|           0.0|            9.0|             1371.5|     0.0|\n",
      "|2016-03-05|    4.33|           0.0|           6.33|             487.67|    0.33|\n",
      "|2016-03-06|     3.0|           0.0|            7.2|             1829.0|    -3.0|\n",
      "|2016-03-07|    3.25|           0.0|           6.15|             1676.5|    -3.5|\n",
      "|2016-03-08|     3.0|           0.0|            4.1|            1625.67|   -1.33|\n",
      "|2016-03-09|     4.5|           0.0|           7.95|              838.0|     1.0|\n",
      "|2016-03-10|     6.0|           0.0|          15.63|              711.0|    2.33|\n",
      "|2016-03-11|     6.0|           0.0|           14.9|              914.0|     0.0|\n",
      "|2016-03-13|     7.0|           0.0|          14.02|             655.25|     6.0|\n",
      "|2016-03-14|     7.0|           0.0|           13.4|              193.0|     7.0|\n",
      "|2016-03-15|    7.25|           0.0|            8.1|             891.25|    6.25|\n",
      "|2016-03-17|     6.5|           0.0|           12.6|             1341.0|     1.5|\n",
      "|2016-03-18|     4.0|           0.0|            7.7|             1219.0|    -4.0|\n",
      "|2016-03-20|     5.5|           0.0|           13.1|             1143.0|     3.5|\n",
      "|2016-03-21|     5.5|           0.0|            6.7|             1371.5|     0.0|\n",
      "|2016-03-22|     6.0|           0.0|            8.8|             1676.0|     2.0|\n",
      "|2016-03-23|     4.0|           0.0|            5.7|             1829.0|     1.0|\n",
      "|2016-03-24|     2.0|           0.0|            8.8|              305.0|     1.0|\n",
      "|2016-03-25|    5.75|           0.0|          12.35|            1828.75|    1.75|\n",
      "|2016-03-26|     7.0|           0.0|           14.7|             1066.5|     0.5|\n",
      "|2016-03-27|     8.0|           0.0|          12.83|             2032.0|    3.33|\n",
      "|2016-03-28|     7.0|           0.0|            9.0|             2133.5|     2.5|\n",
      "|2016-03-29|     8.0|           0.0|          13.07|            2336.67|    2.33|\n",
      "|2016-03-30|     3.5|           0.0|           7.95|              366.0|     0.0|\n",
      "|2016-03-31|    3.25|           0.0|           9.15|              457.0|   -1.25|\n",
      "|2016-04-01|     3.0|           0.0|           6.05|              830.5|   -0.25|\n",
      "|2016-04-02|    6.33|           0.0|           14.8|             274.33|    4.33|\n",
      "|2016-04-03|    8.25|           0.0|           7.97|             1821.0|     4.5|\n",
      "|2016-04-04|     8.0|           0.0|           8.25|             2438.0|     3.0|\n",
      "|2016-04-05|    7.33|           0.0|          13.37|            1117.33|    3.33|\n",
      "|2016-04-06|    7.25|           0.0|           8.38|             1600.0|     3.0|\n",
      "|2016-04-07|     6.0|           0.0|           9.27|            1930.33|    0.33|\n",
      "|2016-04-08|     5.8|           0.0|            8.3|             1280.2|    -0.4|\n",
      "|2016-04-09|     5.0|           0.0|            9.8|             2134.0|     0.0|\n",
      "|2016-04-10|     6.5|           0.0|           2.42|             937.25|     4.0|\n",
      "|2016-04-11|     8.0|           0.0|           2.85|             1981.5|     2.0|\n",
      "|2016-04-12|     7.0|           0.0|           1.55|             1676.5|     1.5|\n",
      "|2016-04-14|     2.5|           0.0|            9.0|             1295.5|    -2.5|\n",
      "|2016-04-16|    5.67|           0.0|          10.13|             1321.0|    1.67|\n",
      "|2016-04-17|    4.67|           0.0|            7.9|            1320.67|   -1.33|\n",
      "|2016-04-18|     4.5|           0.0|            7.7|             1143.0|     2.0|\n",
      "|2016-04-19|     6.0|           0.0|            2.6|             1524.0|     3.0|\n",
      "|2016-04-20|     5.0|           0.0|          14.02|             556.25|     1.5|\n",
      "|2016-04-21|     6.0|           0.0|           15.4|             1524.0|    -1.0|\n",
      "|2016-04-23|     4.0|           0.0|            7.2|             1402.0|    -4.5|\n",
      "|2016-04-24|     3.0|           0.0|           3.93|             1087.0|   -3.33|\n",
      "|2016-04-25|     3.0|           0.0|            5.7|              914.0|    -2.0|\n",
      "|2016-04-27|     7.0|           0.0|            8.8|             1524.0|     1.0|\n",
      "|2016-04-30|     8.0|           0.0|           19.0|             1524.0|     2.0|\n",
      "|2016-05-02|    10.0|           0.0|           15.4|             1768.0|     5.0|\n",
      "|2016-05-03|     6.0|           0.0|            5.7|              853.0|     6.0|\n",
      "|2016-05-04|     7.0|           0.0|           10.3|              366.0|     5.0|\n",
      "|2016-05-05|     9.5|           0.0|          10.05|             1829.0|     1.5|\n",
      "|2016-05-06|     8.5|           0.0|          10.05|             1676.5|     5.0|\n",
      "|2016-05-07|    8.33|           0.0|           7.87|            1625.67|    5.67|\n",
      "|2016-05-08|    7.67|           0.0|           5.63|             1524.0|     4.0|\n",
      "|2016-05-09|     8.0|           0.0|           9.47|            4876.67|    4.33|\n",
      "|2016-05-10|    7.67|           0.0|           7.03|             843.33|    0.67|\n",
      "|2016-05-11|     7.0|           0.0|            6.7|             6096.0|     1.0|\n",
      "|2016-05-12|     7.0|           0.0|          10.18|            1120.25|    1.75|\n",
      "|2016-05-13|    5.25|           0.0|           9.28|            1104.75|     1.5|\n",
      "|2016-05-14|     6.0|           0.0|            8.5|             1447.5|     2.0|\n",
      "|2016-05-15|     7.0|           0.0|           4.13|             406.33|     2.0|\n",
      "|2016-05-16|    4.75|           0.0|           7.98|              632.5|    0.75|\n",
      "|2016-05-17|    3.75|           0.0|           7.97|              381.0|    -0.5|\n",
      "|2016-05-18|     4.0|           0.0|            4.5|            3276.75|   -2.25|\n",
      "|2016-05-21|     8.0|           0.0|            9.8|              914.0|     7.0|\n",
      "|2016-05-25|     8.0|           0.0|            7.7|              762.0|     2.0|\n",
      "|2016-05-26|     9.0|           0.0|            8.2|              853.0|     5.0|\n",
      "|2016-05-31|   10.33|           0.0|           9.43|             873.67|    9.33|\n",
      "|2016-06-01|     9.0|           0.0|           14.4|              274.5|     7.0|\n",
      "|2016-06-02|     9.0|           0.0|           12.9|              305.0|     7.0|\n",
      "|2016-06-03|    10.0|           0.0|           8.25|             1356.5|     3.5|\n",
      "|2016-06-04|     8.5|           0.0|            6.2|             1341.0|     3.0|\n",
      "|2016-06-05|   10.67|           0.0|           2.93|              853.0|     3.0|\n",
      "|2016-06-07|     9.0|           0.0|           7.53|             355.67|     7.0|\n",
      "|2016-06-08|     7.0|           0.0|            4.6|              914.0|     2.0|\n",
      "|2016-06-09|     7.5|           0.0|            7.5|             1219.0|     1.0|\n",
      "|2016-06-11|    10.0|           0.0|            4.6|              884.0|     3.0|\n",
      "|2016-06-12|     9.0|           0.0|           4.97|            1076.67|    2.67|\n",
      "|2016-06-14|    10.0|           0.0|            7.2|             1128.0|     2.0|\n",
      "|2016-06-16|    10.0|           0.0|           13.9|              457.5|     6.5|\n",
      "|2016-06-17|     9.0|           0.0|           15.4|              305.0|     6.0|\n",
      "|2016-06-18|     8.0|           0.0|           10.8|              610.0|     6.0|\n",
      "|2016-06-19|     8.0|           0.0|            8.8|              427.0|     6.0|\n",
      "|2016-06-21|    11.0|           0.0|           13.9|              610.0|     9.0|\n",
      "|2016-06-22|    13.0|           0.0|            5.1|             1829.0|     7.0|\n",
      "|2016-06-23|    12.0|           0.0|            7.2|            1066.67|    11.0|\n",
      "|2016-06-24|    11.5|           0.0|            6.8|             281.75|    9.25|\n",
      "|2016-06-25|   11.33|           0.0|            4.8|             508.33|     8.0|\n",
      "|2016-06-26|   10.75|           0.0|           13.0|             1257.5|     8.5|\n",
      "|2016-06-27|   11.25|           0.0|           7.63|             700.75|   10.75|\n",
      "|2016-06-28|    11.0|           0.0|            7.2|             2438.0|     8.5|\n",
      "|2016-06-30|    14.0|           0.0|            8.2|             2438.0|     9.0|\n",
      "|2016-07-01|    14.0|           0.0|           12.4|             1829.0|     7.0|\n",
      "|2016-07-02|   12.33|           0.0|            1.7|            1981.33|    10.0|\n",
      "|2016-07-03|    11.0|           0.0|          14.17|              686.0|    9.25|\n",
      "|2016-07-05|    11.0|           0.0|            4.6|             1524.0|    8.67|\n",
      "|2016-07-06|    11.0|           0.0|            9.3|             1676.5|     7.0|\n",
      "|2016-07-07|   10.67|           0.0|           5.83|            1727.33|    6.33|\n",
      "|2016-07-08|   12.33|           0.0|           2.57|             1219.0|    10.0|\n",
      "|2016-07-09|    13.5|           0.0|            4.9|             2438.5|     6.5|\n",
      "|2016-07-12|    13.5|           0.0|            6.7|              213.5|    12.0|\n",
      "|2016-07-13|    12.5|           0.0|           6.95|              579.0|    10.5|\n",
      "|2016-07-14|   11.67|           0.0|            5.3|              681.0|    7.67|\n",
      "|2016-07-15|    12.0|           0.0|            1.0|             1128.0|     7.0|\n",
      "|2016-07-16|    12.0|           0.0|            5.1|             1524.0|     7.0|\n",
      "|2016-07-17|    12.0|           0.0|           5.95|              869.0|    10.5|\n",
      "|2016-07-18|    14.0|           0.0|            3.6|              671.0|     5.0|\n",
      "|2016-07-20|    12.0|           0.0|            8.8|               91.0|    12.0|\n",
      "|2016-07-23|    14.0|           0.0|            3.6|              427.0|    14.0|\n",
      "|2016-07-24|    16.0|           0.0|            7.2|               91.0|    14.0|\n",
      "|2016-07-26|    14.0|           0.0|            3.1|             1783.0|    12.0|\n",
      "|2016-07-28|   14.33|           0.0|           7.07|             3353.0|   11.67|\n",
      "|2016-07-29|    15.5|           0.0|           2.85|             2134.0|    12.0|\n",
      "|2016-07-30|    14.5|           0.0|            5.9|             838.25|    13.0|\n",
      "|2016-07-31|    14.0|           0.0|            7.7|             6096.0|    10.5|\n",
      "|2016-08-01|    14.0|           0.0|           6.87|            3657.33|   10.33|\n",
      "|2016-08-02|   12.75|           0.0|          11.22|              769.5|   10.75|\n",
      "|2016-08-03|   13.67|           0.0|            1.9|              305.0|   11.33|\n",
      "|2016-08-05|    15.0|           0.0|            4.0|             1067.0|    9.75|\n",
      "|2016-08-06|   14.33|           0.0|           4.63|             3556.0|    7.67|\n",
      "|2016-08-07|   13.25|           0.0|            8.0|             1067.0|    10.5|\n",
      "|2016-08-08|    14.5|           0.0|           8.75|             1189.0|     9.0|\n",
      "|2016-08-09|    12.5|           0.0|          12.87|              381.0|    9.25|\n",
      "|2016-08-10|    10.0|           0.0|            9.1|             1727.0|     4.0|\n",
      "|2016-08-11|    10.5|           0.0|           10.3|             1524.0|     4.5|\n",
      "|2016-08-12|    11.0|           0.0|           6.17|            1727.33|     6.0|\n",
      "|2016-08-14|    12.0|           0.0|            3.1|              914.0|     5.0|\n",
      "|2016-08-15|    12.0|           0.0|            8.1|             381.25|    10.5|\n",
      "|2016-08-16|    13.0|           0.0|           1.37|             812.67|    11.0|\n",
      "|2016-08-18|    13.0|           0.0|           3.85|              183.0|    12.0|\n",
      "|2016-08-20|   13.75|           0.0|           3.07|             1219.0|   10.75|\n",
      "|2016-08-21|    13.0|           0.0|            2.6|              610.0|    13.0|\n",
      "|2016-08-22|    15.4|           0.0|           5.02|              640.0|    13.2|\n",
      "|2016-08-23|    14.0|           0.0|           3.85|             952.25|    9.75|\n",
      "|2016-08-24|   12.75|           0.0|           5.67|             914.25|    10.5|\n",
      "|2016-08-25|    13.5|           0.0|           8.75|              883.5|     9.5|\n",
      "|2016-08-26|    13.0|           0.0|          16.97|            1625.67|   10.33|\n",
      "|2016-08-27|    12.0|           0.0|           8.75|             1066.5|     8.5|\n",
      "|2016-08-29|   13.33|           0.0|           4.97|            2499.67|    8.33|\n",
      "|2016-08-30|    11.0|           0.0|           7.37|             223.33|   10.33|\n",
      "|2016-08-31|   14.25|           0.0|          16.97|             464.75|    12.5|\n",
      "|2016-09-01|    12.5|           0.0|          15.85|             914.25|    10.0|\n",
      "|2016-09-02|    12.0|           0.0|            2.8|            1219.25|     5.0|\n",
      "|2016-09-03|    12.0|           0.0|           8.57|            2336.67|    10.0|\n",
      "|2016-09-04|   12.67|           0.0|           6.67|             1473.0|    6.67|\n",
      "|2016-09-05|    11.5|           0.0|            7.7|             6096.0|     3.0|\n",
      "|2016-09-06|   13.67|           0.0|          17.67|              193.0|   12.33|\n",
      "|2016-09-07|   11.75|           0.0|          16.32|             1783.0|     9.5|\n",
      "|2016-09-08|   11.67|           0.0|           6.17|            4876.67|     9.0|\n",
      "|2016-09-09|   12.75|           0.0|           6.02|             2232.5|   12.25|\n",
      "|2016-09-10|   14.33|           0.0|           12.7|            3454.67|    11.0|\n",
      "|2016-09-11|    11.5|           0.0|           5.02|            1447.75|    9.25|\n",
      "|2016-09-12|    13.0|           0.0|            9.3|             3759.0|   10.33|\n",
      "|2016-09-13|    16.0|           0.0|            7.6|            1752.75|    8.25|\n",
      "|2016-09-14|   11.33|           0.0|           3.77|             863.67|   10.33|\n",
      "|2016-09-15|    13.0|           0.0|            8.2|             2134.0|     8.0|\n",
      "|2016-09-16|    15.0|           0.0|            7.7|             6096.0|    12.0|\n",
      "|2016-09-17|    12.5|           0.0|            6.4|              106.5|    12.5|\n",
      "|2016-09-18|   14.25|           0.0|          10.58|              899.0|    13.0|\n",
      "|2016-09-19|    13.0|           0.0|           7.73|             1981.5|    12.0|\n",
      "|2016-09-20|   12.75|           0.0|           2.95|            1371.75|   10.75|\n",
      "|2016-09-21|   12.67|           0.0|            5.3|            1168.33|   12.33|\n",
      "|2016-09-22|    14.5|           0.0|            9.5|             1524.0|    11.0|\n",
      "|2016-09-23|    13.0|           0.0|            6.7|             1219.0|    12.0|\n",
      "|2016-09-24|    12.0|           0.0|           11.8|             1829.0|     9.0|\n",
      "|2016-09-25|    14.5|           0.0|           10.0|             1829.0|    10.5|\n",
      "|2016-09-26|    13.0|           0.0|           7.87|             1829.0|    9.67|\n",
      "|2016-09-27|    12.0|           0.0|           7.32|             1143.0|     9.0|\n",
      "|2016-09-28|    10.8|           0.0|          18.64|              548.6|     9.0|\n",
      "|2016-09-29|     9.0|           0.0|           6.95|              914.0|     6.5|\n",
      "|2016-09-30|     9.5|           0.0|           8.63|            1981.25|    4.25|\n",
      "|2016-10-01|     9.0|           0.0|          11.13|            1422.33|    4.33|\n",
      "|2016-10-02|    9.25|           0.0|           5.52|             1067.0|     1.5|\n",
      "|2016-10-03|    10.5|           0.0|            1.0|             1600.5|     1.5|\n",
      "|2016-10-05|    12.0|           0.0|            9.8|             3200.5|     9.0|\n",
      "|2016-10-12|   10.67|           0.0|            4.8|             772.33|     5.0|\n",
      "|2016-10-20|    10.0|           0.0|            5.7|            22000.0|     5.0|\n",
      "|2016-10-21|    9.25|           0.0|           8.25|            1097.25|    4.75|\n",
      "|2016-10-22|     9.0|           0.0|           5.83|             2438.0|    3.67|\n",
      "|2016-10-23|    7.33|           0.0|          14.23|             4572.0|     0.0|\n",
      "|2016-10-24|     9.0|           0.0|           7.45|             2438.0|     3.5|\n",
      "|2016-10-25|    10.0|           0.0|           6.57|             3124.0|    4.25|\n",
      "|2016-10-26|   10.33|           0.0|          14.73|            1361.67|    2.33|\n",
      "|2016-10-27|     9.5|           0.0|           18.9|              655.5|     6.5|\n",
      "|2016-10-28|     7.0|           0.0|          18.03|            2671.67|     2.0|\n",
      "|2016-10-29|    8.67|           0.0|          19.57|             447.33|     6.0|\n",
      "|2016-10-30|    7.67|           0.0|           6.53|             609.67|    4.33|\n",
      "|2016-10-31|     9.0|           0.0|           7.35|            2880.25|     5.0|\n",
      "|2016-11-01|     8.5|           0.0|            3.6|            1843.75|    4.25|\n",
      "|2016-11-02|    7.25|           0.0|           2.32|            1402.25|    1.75|\n",
      "|2016-11-03|     6.0|           0.0|           3.23|            1097.33|    1.33|\n",
      "|2016-11-04|     3.0|           0.0|          12.38|              853.2|    -3.0|\n",
      "|2016-11-05|     2.5|           0.0|          17.13|             685.75|   -1.75|\n",
      "|2016-11-06|    0.67|           0.0|          12.57|             863.33|   -5.33|\n",
      "|2016-11-07|    -1.0|           0.0|           10.8|              914.0|    -8.0|\n",
      "|2016-11-09|    0.67|           0.0|          17.83|            4775.33|   -4.67|\n",
      "|2016-11-10|     0.0|           0.0|            9.3|              914.0|    -5.0|\n",
      "|2016-11-11|     6.5|           0.0|          16.63|             899.25|    4.75|\n",
      "|2016-11-13|     8.0|           0.0|           10.3|             1722.5|     4.5|\n",
      "|2016-11-14|     8.0|           0.0|          11.22|             823.25|    5.75|\n",
      "|2016-11-15|     8.0|           0.0|          22.13|            1105.25|     5.0|\n",
      "|2016-11-16|    7.67|           0.0|          12.87|             965.33|     4.0|\n",
      "|2016-11-17|    5.33|           0.0|           8.43|            1320.67|    1.67|\n",
      "|2016-11-19|     6.0|           0.0|            6.7|             1524.0|     2.0|\n",
      "|2016-11-20|     7.0|           0.0|           8.75|             1143.0|     0.0|\n",
      "|2016-11-21|     6.0|           0.0|            2.1|             1219.0|     0.0|\n",
      "|2016-11-22|    5.75|           0.0|           6.55|            1181.25|     2.0|\n",
      "|2016-11-24|     5.0|           0.0|            6.2|              701.0|     1.0|\n",
      "|2016-11-25|     9.0|           0.0|           18.8|              137.0|     9.0|\n",
      "|2016-11-26|    5.33|           0.0|          19.07|             599.33|    1.67|\n",
      "|2016-11-27|    3.33|           0.0|          12.03|             609.67|    -1.0|\n",
      "|2016-11-28|     7.0|           0.0|          20.77|             640.33|     3.0|\n",
      "|2016-11-29|    6.75|           0.0|          23.15|             1371.5|     3.5|\n",
      "|2016-11-30|    4.33|           0.0|          15.27|            1036.33|    -3.0|\n",
      "|2016-12-01|     3.0|           0.0|           6.03|            2011.67|    1.33|\n",
      "|2016-12-02|     4.5|           0.0|          11.95|            1127.75|   -2.25|\n",
      "|2016-12-03|     5.0|           0.0|            9.0|              381.0|     3.5|\n",
      "|2016-12-04|     8.5|           0.0|          19.03|              236.0|    7.75|\n",
      "|2016-12-05|     4.0|           0.0|            6.0|              894.0|     1.0|\n",
      "|2016-12-06|    5.75|           0.0|          11.47|             1897.5|    2.25|\n",
      "|2016-12-07|     5.5|           0.0|          10.55|              587.0|    4.75|\n",
      "|2016-12-08|     7.4|           0.0|           4.62|              432.8|     7.4|\n",
      "|2016-12-09|     5.5|           0.0|           9.65|             1531.5|    1.75|\n",
      "|2016-12-10|     3.0|           0.0|          11.35|             3155.0|    -3.5|\n",
      "|2016-12-12|     4.0|           0.0|            5.8|             4389.0|   -0.25|\n",
      "|2016-12-13|    7.67|           0.0|          13.73|              965.0|    2.33|\n",
      "|2016-12-14|     7.0|           0.0|            7.7|              762.0|     1.0|\n",
      "|2016-12-15|     7.5|           0.0|           10.8|             586.75|    6.25|\n",
      "|2016-12-16|     9.0|           0.0|           12.5|              823.0|     7.0|\n",
      "|2016-12-17|     7.5|           0.0|           7.75|            2118.25|     5.0|\n",
      "|2016-12-18|     8.0|           0.0|          19.93|              236.0|     7.5|\n",
      "|2016-12-19|     9.0|           0.0|          18.15|             220.75|     8.5|\n",
      "|2016-12-20|    7.67|           0.0|           14.4|            1290.33|    2.33|\n",
      "|2016-12-21|    5.67|           0.0|           17.5|            2489.33|     3.0|\n",
      "|2016-12-22|     5.0|           0.0|           18.3|            1569.75|    0.25|\n",
      "|2016-12-23|     4.5|           0.0|           14.7|              975.0|     0.0|\n",
      "|2016-12-24|    3.67|           0.0|           18.2|             965.33|     1.0|\n",
      "|2016-12-25|     6.0|           0.0|            4.1|              533.5|     2.5|\n",
      "|2016-12-26|    4.25|           0.0|           20.2|             571.75|   -0.25|\n",
      "|2016-12-27|    4.25|           0.0|          14.42|            1257.25|   -4.25|\n",
      "|2016-12-28|     8.0|           0.0|           24.2|             739.25|    5.75|\n",
      "|2016-12-29|    6.33|           0.0|           8.57|             477.67|    4.33|\n",
      "|2016-12-30|    6.25|           0.0|          23.03|             746.75|     4.0|\n",
      "|2016-12-31|    5.33|           0.0|          24.03|             1016.0|   -0.67|\n",
      "+----------+--------+--------------+---------------+-------------------+--------+\n",
      "\n"
     ]
    }
   ],
   "source": [
    "# Par jour, pour l'année choisie et pour une station choisie\n",
    "num_station = int(input(\"Quelle station ? : \"))\n",
    "means_by_day = all_stations.filter(all_stations.year == annee).filter(all_stations.STATION == num_station).groupBy([to_date(\"DATE\").cast(\"date\").alias(\"date\")]).agg(F.round(mean(\"temperature\"), 2).alias(\"mean_tmp\"), F.round(mean(\"ELEVATION\"), 2).alias(\"mean_elevation\"), F.round(mean(\"speed_rate\"), 2).alias(\"mean_speed_rate\"), F.round(mean(\"ceiling_height\"), 2).alias(\"mean_ceiling_height\"), F.round(mean(\"precipitation\"), 2).alias(\"mean_dew\"))\n",
    "means_by_day = means_by_day.sort(\"date\")\n",
    "means_by_day.show(365)"
   ]
  },
  {
   "cell_type": "code",
   "execution_count": 33,
   "id": "american-fitting",
   "metadata": {},
   "outputs": [
    {
     "data": {
      "text/plain": [
       "296"
      ]
     },
     "execution_count": 33,
     "metadata": {},
     "output_type": "execute_result"
    }
   ],
   "source": [
    "means_by_day.count()"
   ]
  },
  {
   "cell_type": "markdown",
   "id": "focal-nature",
   "metadata": {},
   "source": [
    "# Apprentissage"
   ]
  },
  {
   "cell_type": "markdown",
   "id": "constant-brooks",
   "metadata": {},
   "source": [
    "## Définition features/valeur cible + splits"
   ]
  },
  {
   "cell_type": "code",
   "execution_count": 36,
   "id": "played-perception",
   "metadata": {},
   "outputs": [
    {
     "name": "stdout",
     "output_type": "stream",
     "text": [
      "+-----------------+---------------+\n",
      "|         features|mean_speed_rate|\n",
      "+-----------------+---------------+\n",
      "|[7.67,0.0,2438.0]|          15.27|\n",
      "| [-3.0,0.0,610.0]|          11.85|\n",
      "|[-0.33,0.0,437.0]|           10.3|\n",
      "+-----------------+---------------+\n",
      "only showing top 3 rows\n",
      "\n"
     ]
    }
   ],
   "source": [
    "from pyspark.ml.regression import LinearRegression\n",
    "from pyspark.ml.feature import VectorAssembler\n",
    "\n",
    "# Load training data\n",
    "training = means_by_day\n",
    "\n",
    "vectorAssembler = VectorAssembler(inputCols = [\"mean_tmp\", \"mean_elevation\", \"mean_ceiling_height\"], outputCol = 'features')\n",
    "v_training = vectorAssembler.transform(training)\n",
    "v_training = v_training.select(['features', 'mean_speed_rate'])\n",
    "v_training.show(3)"
   ]
  },
  {
   "cell_type": "code",
   "execution_count": 37,
   "id": "governmental-exception",
   "metadata": {},
   "outputs": [],
   "source": [
    "splits = v_training.randomSplit([0.7, 0.3])\n",
    "train_df = splits[0]\n",
    "test_df = splits[1]"
   ]
  },
  {
   "cell_type": "markdown",
   "id": "ordered-scratch",
   "metadata": {},
   "source": [
    "## 1) Linear regression"
   ]
  },
  {
   "cell_type": "code",
   "execution_count": 38,
   "id": "primary-slope",
   "metadata": {},
   "outputs": [
    {
     "name": "stdout",
     "output_type": "stream",
     "text": [
      "Coefficients: [-0.2127699546786564,0.0,-0.0002448568330335039]\n",
      "Intercept: 11.328645976849419\n"
     ]
    }
   ],
   "source": [
    "lr = LinearRegression(featuresCol = 'features', labelCol='mean_speed_rate', maxIter=10, regParam=0.3, elasticNetParam=0.8)\n",
    "\n",
    "# Fit the model\n",
    "lrModel = lr.fit(train_df)\n",
    "\n",
    "# Print the coefficients and intercept for linear regression\n",
    "print(\"Coefficients: %s\" % str(lrModel.coefficients))\n",
    "print(\"Intercept: %s\" % str(lrModel.intercept))"
   ]
  },
  {
   "cell_type": "markdown",
   "id": "dental-diagram",
   "metadata": {},
   "source": [
    "### Viz des corrélations entre les features et la valeur cible"
   ]
  },
  {
   "cell_type": "code",
   "execution_count": 39,
   "id": "material-numbers",
   "metadata": {},
   "outputs": [
    {
     "data": {
      "text/html": [
       "<div>\n",
       "<style scoped>\n",
       "    .dataframe tbody tr th:only-of-type {\n",
       "        vertical-align: middle;\n",
       "    }\n",
       "\n",
       "    .dataframe tbody tr th {\n",
       "        vertical-align: top;\n",
       "    }\n",
       "\n",
       "    .dataframe thead th {\n",
       "        text-align: right;\n",
       "    }\n",
       "</style>\n",
       "<table border=\"1\" class=\"dataframe\">\n",
       "  <thead>\n",
       "    <tr style=\"text-align: right;\">\n",
       "      <th></th>\n",
       "      <th>date</th>\n",
       "      <th>mean_tmp</th>\n",
       "      <th>mean_elevation</th>\n",
       "      <th>mean_speed_rate</th>\n",
       "      <th>mean_ceiling_height</th>\n",
       "      <th>mean_dew</th>\n",
       "    </tr>\n",
       "  </thead>\n",
       "  <tbody>\n",
       "    <tr>\n",
       "      <th>0</th>\n",
       "      <td>2016-01-01</td>\n",
       "      <td>7.67</td>\n",
       "      <td>0.0</td>\n",
       "      <td>15.27</td>\n",
       "      <td>2438.00</td>\n",
       "      <td>-1.00</td>\n",
       "    </tr>\n",
       "    <tr>\n",
       "      <th>1</th>\n",
       "      <td>2016-01-04</td>\n",
       "      <td>-3.00</td>\n",
       "      <td>0.0</td>\n",
       "      <td>11.85</td>\n",
       "      <td>610.00</td>\n",
       "      <td>-10.00</td>\n",
       "    </tr>\n",
       "    <tr>\n",
       "      <th>2</th>\n",
       "      <td>2016-01-05</td>\n",
       "      <td>-0.33</td>\n",
       "      <td>0.0</td>\n",
       "      <td>10.30</td>\n",
       "      <td>437.00</td>\n",
       "      <td>-6.33</td>\n",
       "    </tr>\n",
       "    <tr>\n",
       "      <th>3</th>\n",
       "      <td>2016-01-06</td>\n",
       "      <td>1.00</td>\n",
       "      <td>0.0</td>\n",
       "      <td>8.50</td>\n",
       "      <td>495.25</td>\n",
       "      <td>-1.75</td>\n",
       "    </tr>\n",
       "    <tr>\n",
       "      <th>4</th>\n",
       "      <td>2016-01-07</td>\n",
       "      <td>-0.50</td>\n",
       "      <td>0.0</td>\n",
       "      <td>8.00</td>\n",
       "      <td>610.00</td>\n",
       "      <td>-7.50</td>\n",
       "    </tr>\n",
       "    <tr>\n",
       "      <th>...</th>\n",
       "      <td>...</td>\n",
       "      <td>...</td>\n",
       "      <td>...</td>\n",
       "      <td>...</td>\n",
       "      <td>...</td>\n",
       "      <td>...</td>\n",
       "    </tr>\n",
       "    <tr>\n",
       "      <th>291</th>\n",
       "      <td>2016-12-27</td>\n",
       "      <td>4.25</td>\n",
       "      <td>0.0</td>\n",
       "      <td>14.42</td>\n",
       "      <td>1257.25</td>\n",
       "      <td>-4.25</td>\n",
       "    </tr>\n",
       "    <tr>\n",
       "      <th>292</th>\n",
       "      <td>2016-12-28</td>\n",
       "      <td>8.00</td>\n",
       "      <td>0.0</td>\n",
       "      <td>24.20</td>\n",
       "      <td>739.25</td>\n",
       "      <td>5.75</td>\n",
       "    </tr>\n",
       "    <tr>\n",
       "      <th>293</th>\n",
       "      <td>2016-12-29</td>\n",
       "      <td>6.33</td>\n",
       "      <td>0.0</td>\n",
       "      <td>8.57</td>\n",
       "      <td>477.67</td>\n",
       "      <td>4.33</td>\n",
       "    </tr>\n",
       "    <tr>\n",
       "      <th>294</th>\n",
       "      <td>2016-12-30</td>\n",
       "      <td>6.25</td>\n",
       "      <td>0.0</td>\n",
       "      <td>23.03</td>\n",
       "      <td>746.75</td>\n",
       "      <td>4.00</td>\n",
       "    </tr>\n",
       "    <tr>\n",
       "      <th>295</th>\n",
       "      <td>2016-12-31</td>\n",
       "      <td>5.33</td>\n",
       "      <td>0.0</td>\n",
       "      <td>24.03</td>\n",
       "      <td>1016.00</td>\n",
       "      <td>-0.67</td>\n",
       "    </tr>\n",
       "  </tbody>\n",
       "</table>\n",
       "<p>296 rows × 6 columns</p>\n",
       "</div>"
      ],
      "text/plain": [
       "           date  mean_tmp  mean_elevation  mean_speed_rate  \\\n",
       "0    2016-01-01      7.67             0.0            15.27   \n",
       "1    2016-01-04     -3.00             0.0            11.85   \n",
       "2    2016-01-05     -0.33             0.0            10.30   \n",
       "3    2016-01-06      1.00             0.0             8.50   \n",
       "4    2016-01-07     -0.50             0.0             8.00   \n",
       "..          ...       ...             ...              ...   \n",
       "291  2016-12-27      4.25             0.0            14.42   \n",
       "292  2016-12-28      8.00             0.0            24.20   \n",
       "293  2016-12-29      6.33             0.0             8.57   \n",
       "294  2016-12-30      6.25             0.0            23.03   \n",
       "295  2016-12-31      5.33             0.0            24.03   \n",
       "\n",
       "     mean_ceiling_height  mean_dew  \n",
       "0                2438.00     -1.00  \n",
       "1                 610.00    -10.00  \n",
       "2                 437.00     -6.33  \n",
       "3                 495.25     -1.75  \n",
       "4                 610.00     -7.50  \n",
       "..                   ...       ...  \n",
       "291              1257.25     -4.25  \n",
       "292               739.25      5.75  \n",
       "293               477.67      4.33  \n",
       "294               746.75      4.00  \n",
       "295              1016.00     -0.67  \n",
       "\n",
       "[296 rows x 6 columns]"
      ]
     },
     "execution_count": 39,
     "metadata": {},
     "output_type": "execute_result"
    }
   ],
   "source": [
    "traindf=training.toPandas()\n",
    "traindf"
   ]
  },
  {
   "cell_type": "code",
   "execution_count": 41,
   "id": "listed-summer",
   "metadata": {},
   "outputs": [
    {
     "data": {
      "text/plain": [
       "[<matplotlib.lines.Line2D at 0x7f36b40bf7c0>]"
      ]
     },
     "execution_count": 41,
     "metadata": {},
     "output_type": "execute_result"
    },
    {
     "data": {
      "image/png": "[encoded data removed]",
      "text/plain": [
       "<Figure size 432x288 with 1 Axes>"
      ]
     },
     "metadata": {
      "needs_background": "light"
     },
     "output_type": "display_data"
    }
   ],
   "source": [
    "# Temperature\n",
    "traindf.plot.scatter('mean_tmp','mean_speed_rate')\n",
    "plt.plot(traindf['mean_tmp'], (-0.2127699546786564*traindf['mean_tmp']) + 11.328645976849419, color='red')"
   ]
  },
  {
   "cell_type": "code",
   "execution_count": 47,
   "id": "alive-productivity",
   "metadata": {},
   "outputs": [
    {
     "data": {
      "text/plain": [
       "[<matplotlib.lines.Line2D at 0x7f36b40ae190>]"
      ]
     },
     "execution_count": 47,
     "metadata": {},
     "output_type": "execute_result"
    },
    {
     "data": {
      "image/png": "[encoded data removed]",
      "text/plain": [
       "<Figure size 432x288 with 1 Axes>"
      ]
     },
     "metadata": {
      "needs_background": "light"
     },
     "output_type": "display_data"
    }
   ],
   "source": [
    "# Elevation\n",
    "traindf.plot.scatter('mean_elevation','mean_speed_rate')\n",
    "plt.plot(traindf['mean_elevation'], (0*traindf['mean_elevation']) + 11.328645976849419, color='red')"
   ]
  },
  {
   "cell_type": "code",
   "execution_count": 48,
   "id": "silver-permission",
   "metadata": {},
   "outputs": [
    {
     "data": {
      "text/plain": [
       "[<matplotlib.lines.Line2D at 0x7f36b4066cd0>]"
      ]
     },
     "execution_count": 48,
     "metadata": {},
     "output_type": "execute_result"
    },
    {
     "data": {
      "image/png": "[encoded data removed]",
      "text/plain": [
       "<Figure size 432x288 with 1 Axes>"
      ]
     },
     "metadata": {
      "needs_background": "light"
     },
     "output_type": "display_data"
    }
   ],
   "source": [
    "# Ceiling height\n",
    "traindf.plot.scatter('mean_ceiling_height','mean_speed_rate')\n",
    "plt.plot(traindf['mean_ceiling_height'], (-0.0002448568330335039*traindf['mean_ceiling_height']) + 11.328645976849419, color='red')"
   ]
  },
  {
   "cell_type": "code",
   "execution_count": 49,
   "id": "incident-malta",
   "metadata": {},
   "outputs": [
    {
     "name": "stdout",
     "output_type": "stream",
     "text": [
      "RMSE: 4.686106\n",
      "r2: 0.071116\n"
     ]
    }
   ],
   "source": [
    "# Summarize the model over the training set and print out some metrics\n",
    "trainingSummary = lrModel.summary\n",
    "print(\"RMSE: %f\" % trainingSummary.rootMeanSquaredError)\n",
    "print(\"r2: %f\" % trainingSummary.r2)"
   ]
  },
  {
   "cell_type": "code",
   "execution_count": 50,
   "id": "stylish-status",
   "metadata": {},
   "outputs": [
    {
     "name": "stdout",
     "output_type": "stream",
     "text": [
      "+-------+-----------------+\n",
      "|summary|  mean_speed_rate|\n",
      "+-------+-----------------+\n",
      "|  count|              206|\n",
      "|   mean|9.294466019417476|\n",
      "| stddev|4.874027778608219|\n",
      "|    min|              1.0|\n",
      "|    max|             24.2|\n",
      "+-------+-----------------+\n",
      "\n"
     ]
    }
   ],
   "source": [
    "train_df.describe().show()"
   ]
  },
  {
   "cell_type": "code",
   "execution_count": 51,
   "id": "hidden-stephen",
   "metadata": {
    "scrolled": true
   },
   "outputs": [
    {
     "name": "stdout",
     "output_type": "stream",
     "text": [
      "+------------------+---------------+-----------------+\n",
      "|        prediction|mean_speed_rate|         features|\n",
      "+------------------+---------------+-----------------+\n",
      "| 11.81759317273495|          11.85| [-3.0,0.0,610.0]|\n",
      "| 10.99461067561092|            8.5| [1.0,0.0,495.25]|\n",
      "|11.864477939647138|           19.3| [-3.5,0.0,853.0]|\n",
      "|10.423559276609717|           5.15| [2.5,0.0,1524.0]|\n",
      "|10.849099185967031|            7.5| [0.5,0.0,1524.0]|\n",
      "| 9.703110578318467|           13.9|  [6.5,0.0,990.5]|\n",
      "| 9.391413146480545|            6.7| [7.0,0.0,1829.0]|\n",
      "|10.242492965195172|            8.2| [3.0,0.0,1829.0]|\n",
      "|11.003976449474452|            8.5|  [1.0,0.0,457.0]|\n",
      "| 9.811550255669934|          11.85| [3.5,0.0,3154.5]|\n",
      "|10.010259958370225|          11.17|[5.67,0.0,457.33]|\n",
      "|10.540973444663013|           10.8|  [3.0,0.0,610.0]|\n",
      "| 10.16083627745837|            4.8|[4.67,0.0,711.33]|\n",
      "|10.179085678666953|            8.8| [4.0,0.0,1219.0]|\n",
      "|10.682979774594987|            7.7|  [2.0,0.0,899.0]|\n",
      "|10.242492965195172|            7.2| [3.0,0.0,1829.0]|\n",
      "|10.165991154713389|           7.95|  [4.5,0.0,838.0]|\n",
      "| 9.791998925323359|           13.4|  [7.0,0.0,193.0]|\n",
      "| 9.128937254696087|          12.83| [8.0,0.0,2032.0]|\n",
      "|  9.05433672337577|          13.07|[8.0,0.0,2336.67]|\n",
      "+------------------+---------------+-----------------+\n",
      "only showing top 20 rows\n",
      "\n"
     ]
    }
   ],
   "source": [
    "lr_predictions = lrModel.transform(test_df)\n",
    "lr_predictions.select(\"prediction\",\"mean_speed_rate\",\"features\").show()"
   ]
  },
  {
   "cell_type": "code",
   "execution_count": 52,
   "id": "supreme-martial",
   "metadata": {},
   "outputs": [
    {
     "name": "stdout",
     "output_type": "stream",
     "text": [
      "R Squared (R2) on test data = 0.0111534\n",
      "Root Mean Squared Error (RMSE) on test data = 4.40174\n"
     ]
    }
   ],
   "source": [
    "from pyspark.ml.evaluation import RegressionEvaluator\n",
    "lr_evaluator = RegressionEvaluator(predictionCol=\"prediction\", \\\n",
    "                 labelCol=\"mean_speed_rate\",metricName=\"r2\")\n",
    "print(\"R Squared (R2) on test data = %g\" % lr_evaluator.evaluate(lr_predictions))\n",
    "\n",
    "test_result = lrModel.evaluate(test_df)\n",
    "print(\"Root Mean Squared Error (RMSE) on test data = %g\" % test_result.rootMeanSquaredError)"
   ]
  },
  {
   "cell_type": "code",
   "execution_count": null,
   "id": "fitted-closure",
   "metadata": {},
   "outputs": [],
   "source": []
  },
  {
   "cell_type": "markdown",
   "id": "dense-constitution",
   "metadata": {},
   "source": [
    "## 2) Decision tree regression"
   ]
  },
  {
   "cell_type": "code",
   "execution_count": 53,
   "id": "martial-preserve",
   "metadata": {},
   "outputs": [],
   "source": [
    "from pyspark.ml.regression import DecisionTreeRegressor\n",
    "from pyspark.ml.evaluation import RegressionEvaluator\n",
    "\n",
    "# Train a DecisionTree model.\n",
    "dt = DecisionTreeRegressor(featuresCol=\"features\", labelCol = 'mean_speed_rate')"
   ]
  },
  {
   "cell_type": "code",
   "execution_count": 54,
   "id": "conservative-consumption",
   "metadata": {},
   "outputs": [],
   "source": [
    "# Train model\n",
    "dt_model = dt.fit(train_df)"
   ]
  },
  {
   "cell_type": "code",
   "execution_count": 55,
   "id": "given-choice",
   "metadata": {},
   "outputs": [
    {
     "name": "stdout",
     "output_type": "stream",
     "text": [
      "+------------------+---------------+-----------------+\n",
      "|        prediction|mean_speed_rate|         features|\n",
      "+------------------+---------------+-----------------+\n",
      "|10.436923076923078|          11.85| [-3.0,0.0,610.0]|\n",
      "|10.436923076923078|            8.5| [1.0,0.0,495.25]|\n",
      "|            11.575|           19.3| [-3.5,0.0,853.0]|\n",
      "|7.2368421052631575|           5.15| [2.5,0.0,1524.0]|\n",
      "|7.2368421052631575|            7.5| [0.5,0.0,1524.0]|\n",
      "| 8.125000000000002|           13.9|  [6.5,0.0,990.5]|\n",
      "| 8.125000000000002|            6.7| [7.0,0.0,1829.0]|\n",
      "|7.2368421052631575|            8.2| [3.0,0.0,1829.0]|\n",
      "|10.436923076923078|            8.5|  [1.0,0.0,457.0]|\n",
      "|7.2368421052631575|          11.85| [3.5,0.0,3154.5]|\n",
      "|12.818888888888885|          11.17|[5.67,0.0,457.33]|\n",
      "|10.436923076923078|           10.8|  [3.0,0.0,610.0]|\n",
      "|           14.1325|            4.8|[4.67,0.0,711.33]|\n",
      "|7.2368421052631575|            8.8| [4.0,0.0,1219.0]|\n",
      "|7.2368421052631575|            7.7|  [2.0,0.0,899.0]|\n",
      "|7.2368421052631575|            7.2| [3.0,0.0,1829.0]|\n",
      "|11.062857142857142|           7.95|  [4.5,0.0,838.0]|\n",
      "|12.818888888888885|           13.4|  [7.0,0.0,193.0]|\n",
      "|              2.85|          12.83| [8.0,0.0,2032.0]|\n",
      "|              8.86|          13.07|[8.0,0.0,2336.67]|\n",
      "+------------------+---------------+-----------------+\n",
      "only showing top 20 rows\n",
      "\n"
     ]
    }
   ],
   "source": [
    "# Make test predictions\n",
    "dt_predictions = dt_model.transform(test_df)\n",
    "dt_predictions.select(\"prediction\",\"mean_speed_rate\",\"features\").show()"
   ]
  },
  {
   "cell_type": "code",
   "execution_count": 56,
   "id": "fixed-arthur",
   "metadata": {},
   "outputs": [
    {
     "data": {
      "text/plain": [
       "SparseVector(3, {0: 0.4766, 2: 0.5234})"
      ]
     },
     "execution_count": 56,
     "metadata": {},
     "output_type": "execute_result"
    }
   ],
   "source": [
    "# Importance des features dans la prédiction\n",
    "dt_model.featureImportances"
   ]
  },
  {
   "cell_type": "code",
   "execution_count": 57,
   "id": "architectural-consolidation",
   "metadata": {},
   "outputs": [
    {
     "name": "stdout",
     "output_type": "stream",
     "text": [
      "Root Mean Squared Error (RMSE) on test data = 6.06067\n",
      "R Squared (R2) on test data = -0.874655\n"
     ]
    }
   ],
   "source": [
    "# Select (prediction, true label) and compute test error\n",
    "dt_evaluator = RegressionEvaluator(\n",
    "    labelCol=\"mean_speed_rate\", predictionCol=\"prediction\", metricName=\"rmse\")\n",
    "rmse = dt_evaluator.evaluate(dt_predictions)\n",
    "print(\"Root Mean Squared Error (RMSE) on test data = %g\" % rmse)\n",
    "\n",
    "dt_evaluator_2 = RegressionEvaluator(predictionCol=\"prediction\", \\\n",
    "                 labelCol=\"mean_speed_rate\",metricName=\"r2\")\n",
    "print(\"R Squared (R2) on test data = %g\" % dt_evaluator_2.evaluate(dt_predictions))"
   ]
  },
  {
   "cell_type": "code",
   "execution_count": null,
   "id": "hourly-locator",
   "metadata": {},
   "outputs": [],
   "source": []
  },
  {
   "cell_type": "markdown",
   "id": "second-mouth",
   "metadata": {},
   "source": [
    "## 3) Random forest regression"
   ]
  },
  {
   "cell_type": "code",
   "execution_count": 58,
   "id": "falling-digit",
   "metadata": {},
   "outputs": [],
   "source": [
    "from pyspark.ml.regression import RandomForestRegressor\n",
    "from pyspark.ml.evaluation import RegressionEvaluator\n",
    "\n",
    "# Train a RandomForest model.\n",
    "rf = RandomForestRegressor(featuresCol=\"features\", labelCol = 'mean_speed_rate')"
   ]
  },
  {
   "cell_type": "code",
   "execution_count": 59,
   "id": "fluid-snowboard",
   "metadata": {},
   "outputs": [],
   "source": [
    "# Train model\n",
    "rf_model = rf.fit(train_df)"
   ]
  },
  {
   "cell_type": "code",
   "execution_count": 60,
   "id": "rising-benefit",
   "metadata": {},
   "outputs": [
    {
     "name": "stdout",
     "output_type": "stream",
     "text": [
      "+------------------+---------------+-----------------+\n",
      "|        prediction|mean_speed_rate|         features|\n",
      "+------------------+---------------+-----------------+\n",
      "| 9.676202951922983|          11.85| [-3.0,0.0,610.0]|\n",
      "| 9.956877194347227|            8.5| [1.0,0.0,495.25]|\n",
      "| 9.798269023351555|           19.3| [-3.5,0.0,853.0]|\n",
      "|   8.9412472816309|           5.15| [2.5,0.0,1524.0]|\n",
      "| 8.774930614964232|            7.5| [0.5,0.0,1524.0]|\n",
      "| 8.793903199729227|           13.9|  [6.5,0.0,990.5]|\n",
      "|  8.75534034736841|            6.7| [7.0,0.0,1829.0]|\n",
      "| 8.667979749163369|            8.2| [3.0,0.0,1829.0]|\n",
      "| 9.908777194347227|            8.5|  [1.0,0.0,457.0]|\n",
      "| 8.667979749163369|          11.85| [3.5,0.0,3154.5]|\n",
      "|10.606037255669055|          11.17|[5.67,0.0,457.33]|\n",
      "| 9.470371133741166|           10.8|  [3.0,0.0,610.0]|\n",
      "|10.609177298959096|            4.8|[4.67,0.0,711.33]|\n",
      "| 8.667961567345184|            8.8| [4.0,0.0,1219.0]|\n",
      "|   9.3109212859525|            7.7|  [2.0,0.0,899.0]|\n",
      "| 8.667979749163369|            7.2| [3.0,0.0,1829.0]|\n",
      "|10.205834161704194|           7.95|  [4.5,0.0,838.0]|\n",
      "|10.035411630945477|           13.4|  [7.0,0.0,193.0]|\n",
      "| 8.969265932652691|          12.83| [8.0,0.0,2032.0]|\n",
      "| 8.969265932652691|          13.07|[8.0,0.0,2336.67]|\n",
      "+------------------+---------------+-----------------+\n",
      "only showing top 20 rows\n",
      "\n"
     ]
    }
   ],
   "source": [
    "# Make test predictions\n",
    "rf_predictions = rf_model.transform(test_df)\n",
    "rf_predictions.select(\"prediction\",\"mean_speed_rate\",\"features\").show()"
   ]
  },
  {
   "cell_type": "code",
   "execution_count": 61,
   "id": "occasional-discretion",
   "metadata": {},
   "outputs": [
    {
     "data": {
      "text/plain": [
       "SparseVector(3, {0: 0.5462, 2: 0.4538})"
      ]
     },
     "execution_count": 61,
     "metadata": {},
     "output_type": "execute_result"
    }
   ],
   "source": [
    "# Importance des features dans la prédiction\n",
    "rf_model.featureImportances"
   ]
  },
  {
   "cell_type": "code",
   "execution_count": 62,
   "id": "pressed-doubt",
   "metadata": {},
   "outputs": [
    {
     "name": "stdout",
     "output_type": "stream",
     "text": [
      "Root Mean Squared Error (RMSE) on test data = 4.51179\n",
      "R Squared (R2) on test data = -0.0389105\n"
     ]
    }
   ],
   "source": [
    "# Select (prediction, true label) and compute test error\n",
    "rf_evaluator = RegressionEvaluator(\n",
    "    labelCol=\"mean_speed_rate\", predictionCol=\"prediction\", metricName=\"rmse\")\n",
    "rmse = rf_evaluator.evaluate(rf_predictions)\n",
    "print(\"Root Mean Squared Error (RMSE) on test data = %g\" % rmse)\n",
    "\n",
    "rf_evaluator_2 = RegressionEvaluator(predictionCol=\"prediction\", \\\n",
    "                 labelCol=\"mean_speed_rate\",metricName=\"r2\")\n",
    "print(\"R Squared (R2) on test data = %g\" % rf_evaluator_2.evaluate(rf_predictions))"
   ]
  },
  {
   "cell_type": "code",
   "execution_count": null,
   "id": "northern-airplane",
   "metadata": {},
   "outputs": [],
   "source": []
  },
  {
   "cell_type": "markdown",
   "id": "graphic-pleasure",
   "metadata": {},
   "source": [
    "## 4) Gradient-boosted tree regression"
   ]
  },
  {
   "cell_type": "code",
   "execution_count": 63,
   "id": "trying-tribe",
   "metadata": {},
   "outputs": [],
   "source": [
    "from pyspark.ml.regression import GBTRegressor\n",
    "from pyspark.ml.evaluation import RegressionEvaluator\n",
    "\n",
    "# Train a GBT model.\n",
    "gbt = GBTRegressor(featuresCol=\"features\", labelCol = 'mean_speed_rate')"
   ]
  },
  {
   "cell_type": "code",
   "execution_count": 64,
   "id": "controlling-millennium",
   "metadata": {},
   "outputs": [],
   "source": [
    "# Train model\n",
    "gbt_model = gbt.fit(train_df)"
   ]
  },
  {
   "cell_type": "code",
   "execution_count": 65,
   "id": "annoying-brush",
   "metadata": {},
   "outputs": [
    {
     "name": "stdout",
     "output_type": "stream",
     "text": [
      "+------------------+---------------+-----------------+\n",
      "|        prediction|mean_speed_rate|         features|\n",
      "+------------------+---------------+-----------------+\n",
      "| 8.907886607990056|          11.85| [-3.0,0.0,610.0]|\n",
      "|11.483807631056004|            8.5| [1.0,0.0,495.25]|\n",
      "|12.714978795739993|           19.3| [-3.5,0.0,853.0]|\n",
      "| 5.727068615852347|           5.15| [2.5,0.0,1524.0]|\n",
      "|3.8964610357200447|            7.5| [0.5,0.0,1524.0]|\n",
      "| 6.534081858861865|           13.9|  [6.5,0.0,990.5]|\n",
      "|  8.32009665787896|            6.7| [7.0,0.0,1829.0]|\n",
      "| 7.620299110172512|            8.2| [3.0,0.0,1829.0]|\n",
      "|10.445203373226759|            8.5|  [1.0,0.0,457.0]|\n",
      "|5.5391639104598065|          11.85| [3.5,0.0,3154.5]|\n",
      "|15.353868870548707|          11.17|[5.67,0.0,457.33]|\n",
      "|   8.7714458311279|           10.8|  [3.0,0.0,610.0]|\n",
      "|13.235308228633421|            4.8|[4.67,0.0,711.33]|\n",
      "| 8.152244536282268|            8.8| [4.0,0.0,1219.0]|\n",
      "| 6.564657263267126|            7.7|  [2.0,0.0,899.0]|\n",
      "| 7.620299110172512|            7.2| [3.0,0.0,1829.0]|\n",
      "|10.486250943941958|           7.95|  [4.5,0.0,838.0]|\n",
      "|11.306492105185923|           13.4|  [7.0,0.0,193.0]|\n",
      "|3.2514168685569818|          12.83| [8.0,0.0,2032.0]|\n",
      "| 9.132444009620444|          13.07|[8.0,0.0,2336.67]|\n",
      "+------------------+---------------+-----------------+\n",
      "only showing top 20 rows\n",
      "\n"
     ]
    }
   ],
   "source": [
    "# Make test predictions\n",
    "gbt_predictions = gbt_model.transform(test_df)\n",
    "gbt_predictions.select(\"prediction\",\"mean_speed_rate\",\"features\").show()"
   ]
  },
  {
   "cell_type": "code",
   "execution_count": 66,
   "id": "contemporary-recognition",
   "metadata": {},
   "outputs": [
    {
     "data": {
      "text/plain": [
       "SparseVector(3, {0: 0.5007, 2: 0.4993})"
      ]
     },
     "execution_count": 66,
     "metadata": {},
     "output_type": "execute_result"
    }
   ],
   "source": [
    "# Importance des features dans la prédiction\n",
    "gbt_model.featureImportances"
   ]
  },
  {
   "cell_type": "code",
   "execution_count": 67,
   "id": "filled-origin",
   "metadata": {},
   "outputs": [
    {
     "name": "stdout",
     "output_type": "stream",
     "text": [
      "Root Mean Squared Error (RMSE) on test data = 5.68366\n",
      "R Squared (R2) on test data = -0.64868\n"
     ]
    }
   ],
   "source": [
    "# Select (prediction, true label) and compute test error\n",
    "gbt_evaluator = RegressionEvaluator(\n",
    "    labelCol=\"mean_speed_rate\", predictionCol=\"prediction\", metricName=\"rmse\")\n",
    "rmse = gbt_evaluator.evaluate(gbt_predictions)\n",
    "print(\"Root Mean Squared Error (RMSE) on test data = %g\" % rmse)\n",
    "\n",
    "gbt_evaluator_2 = RegressionEvaluator(predictionCol=\"prediction\", \\\n",
    "                 labelCol=\"mean_speed_rate\",metricName=\"r2\")\n",
    "print(\"R Squared (R2) on test data = %g\" % gbt_evaluator_2.evaluate(gbt_predictions))"
   ]
  },
  {
   "cell_type": "markdown",
   "id": "cooperative-valve",
   "metadata": {},
   "source": [
    "# Vainqueur"
   ]
  },
  {
   "cell_type": "code",
   "execution_count": null,
   "id": "great-devices",
   "metadata": {},
   "outputs": [],
   "source": []
  },
  {
   "cell_type": "code",
   "execution_count": null,
   "id": "automotive-blake",
   "metadata": {},
   "outputs": [],
   "source": []
  },
  {
   "cell_type": "code",
   "execution_count": null,
   "id": "agreed-modem",
   "metadata": {},
   "outputs": [],
   "source": []
  },
  {
   "cell_type": "markdown",
   "id": "gothic-malta",
   "metadata": {},
   "source": [
    "## Conclusion\n",
    "On a trouvé la valeur moyenne des précipitations pour le \"01/01/2016\" dans la ville la plus proche de la station puisqu'elle est en mer : 2.5° réel contre \"-0.94°\" prédit avec la régression linéaire et \"°\" avec le decision tree.\n"
   ]
  },
  {
   "cell_type": "code",
   "execution_count": 117,
   "id": "vocal-singles",
   "metadata": {},
   "outputs": [],
   "source": [
    "# viz = lr_predictions.select(\"prediction\",\"mean_dew\",\"features\").toPandas()\n",
    "# viz\n",
    "# viz.plot.scatter(\"mean_dew\",\"features\")"
   ]
  },
  {
   "cell_type": "code",
   "execution_count": null,
   "id": "alike-springfield",
   "metadata": {
    "scrolled": true
   },
   "outputs": [],
   "source": []
  },
  {
   "cell_type": "code",
   "execution_count": null,
   "id": "moved-finder",
   "metadata": {},
   "outputs": [],
   "source": []
  },
  {
   "cell_type": "markdown",
   "id": "centered-spank",
   "metadata": {},
   "source": []
  },
  {
   "cell_type": "markdown",
   "id": "aggressive-springfield",
   "metadata": {},
   "source": []
  },
  {
   "cell_type": "code",
   "execution_count": null,
   "id": "lined-founder",
   "metadata": {},
   "outputs": [],
   "source": []
  }
 ],
 "metadata": {
  "kernelspec": {
   "display_name": "Python 3",
   "language": "python",
   "name": "python3"
  },
  "language_info": {
   "codemirror_mode": {
    "name": "ipython",
    "version": 3
   },
   "file_extension": ".py",
   "mimetype": "text/x-python",
   "name": "python",
   "nbconvert_exporter": "python",
   "pygments_lexer": "ipython3",
   "version": "3.8.6"
  },
  "vscode": {
   "interpreter": {
    "hash": "1244337e113376ace9d3ba28cc3e967d40de6258f2c07417df8728b537bd2ce4"
   }
  }
 },
 "nbformat": 4,
 "nbformat_minor": 5
}
