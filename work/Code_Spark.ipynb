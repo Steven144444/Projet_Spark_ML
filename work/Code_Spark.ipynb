{
 "cells": [
  {
   "cell_type": "code",
   "execution_count": 1,
   "id": "extra-vector",
   "metadata": {},
   "outputs": [],
   "source": [
    "from pyspark.sql import SparkSession\n",
    "from pyspark.sql.types import *\n",
    "from pyspark.sql import functions as F\n",
    "from pyspark.sql.types import *\n",
    "from pyspark.sql.functions import udf, hour, mean, month, year, to_date\n",
    "from pyspark.sql.window import Window\n",
    "from tqdm.notebook import tqdm"
   ]
  },
  {
   "cell_type": "code",
   "execution_count": 2,
   "id": "increasing-japanese",
   "metadata": {},
   "outputs": [
    {
     "name": "stdout",
     "output_type": "stream",
     "text": [
      "Requirement already satisfied: tqdm in /opt/conda/lib/python3.8/site-packages (4.56.0)\n"
     ]
    }
   ],
   "source": [
    "!pip install tqdm"
   ]
  },
  {
   "cell_type": "code",
   "execution_count": null,
   "id": "naval-beast",
   "metadata": {},
   "outputs": [],
   "source": []
  },
  {
   "cell_type": "code",
   "execution_count": 3,
   "id": "unlimited-sight",
   "metadata": {},
   "outputs": [],
   "source": [
    "spark = SparkSession.builder.getOrCreate()"
   ]
  },
  {
   "cell_type": "code",
   "execution_count": 4,
   "id": "massive-environment",
   "metadata": {},
   "outputs": [],
   "source": [
    "spark.conf.set('spark.sql.repl.eagerEval.enabled', True)"
   ]
  },
  {
   "cell_type": "code",
   "execution_count": 5,
   "id": "operational-measurement",
   "metadata": {},
   "outputs": [
    {
     "data": {
      "text/html": [
       "\n",
       "            <div>\n",
       "                <p><b>SparkSession - in-memory</b></p>\n",
       "                \n",
       "        <div>\n",
       "            <p><b>SparkContext</b></p>\n",
       "\n",
       "            <p><a href=\"http://3fc0cb7d14cd:4040\">Spark UI</a></p>\n",
       "\n",
       "            <dl>\n",
       "              <dt>Version</dt>\n",
       "                <dd><code>v3.0.1</code></dd>\n",
       "              <dt>Master</dt>\n",
       "                <dd><code>local[*]</code></dd>\n",
       "              <dt>AppName</dt>\n",
       "                <dd><code>pyspark-shell</code></dd>\n",
       "            </dl>\n",
       "        </div>\n",
       "        \n",
       "            </div>\n",
       "        "
      ],
      "text/plain": [
       "<pyspark.sql.session.SparkSession at 0x7faac434a1f0>"
      ]
     },
     "execution_count": 5,
     "metadata": {},
     "output_type": "execute_result"
    }
   ],
   "source": [
    "spark"
   ]
  },
  {
   "cell_type": "markdown",
   "id": "neither-sunset",
   "metadata": {},
   "source": [
    "# Schema de données"
   ]
  },
  {
   "cell_type": "code",
   "execution_count": 6,
   "id": "expanded-hartford",
   "metadata": {},
   "outputs": [],
   "source": [
    "schema = StructType() \\\n",
    "    .add(\"STATION\", IntegerType(), False) \\\n",
    "    .add(\"DATE\", TimestampType(), False) \\\n",
    "    .add(\"SOURCE\", IntegerType(), True) \\\n",
    "    .add(\"LATITUDE\", FloatType(), True) \\\n",
    "    .add(\"LONGITUDE\", FloatType(), True) \\\n",
    "    .add(\"ELEVATION\", StringType(), True) \\\n",
    "    .add(\"NAME\", StringType(), True) \\\n",
    "    .add(\"REPORT_TYPE\", StringType(), True) \\\n",
    "    .add(\"CALL_SIGN\", StringType(), True) \\\n",
    "    .add(\"QUALITY_CONTROL\", StringType(), True) \\\n",
    "    .add(\"WND\", StringType(), True) \\\n",
    "    .add(\"CIG\", StringType(), True) \\\n",
    "    .add(\"VIS\", StringType(), True) \\\n",
    "    .add(\"TMP\", StringType(), True) \\\n",
    "    .add(\"DEW\", StringType(), True) \\\n",
    "    .add(\"SLP\", StringType(), True) \\\n",
    "    .add(\"GA1\", StringType(), True) \\\n",
    "    .add(\"GA2\", StringType(), True) \\\n",
    "    .add(\"GA3\", StringType(), True) \\\n",
    "    .add(\"GA4\", StringType(), True) \\\n",
    "    .add(\"GF1\", StringType(), True) \\\n",
    "    .add(\"MA1\", StringType(), True) \\\n",
    "    .add(\"MW1\", StringType(), True) \\\n",
    "    .add(\"MW2\", StringType(), True) \\\n",
    "    .add(\"MW3\", StringType(), True) \\\n",
    "    .add(\"OC1\", StringType(), True) \\\n",
    "    .add(\"REM\", StringType(), True) \\\n",
    "    .add(\"EQD\", StringType(), True)"
   ]
  },
  {
   "cell_type": "markdown",
   "id": "moving-ending",
   "metadata": {},
   "source": [
    "# Chargement des données"
   ]
  },
  {
   "cell_type": "code",
   "execution_count": 7,
   "id": "aboriginal-opera",
   "metadata": {},
   "outputs": [],
   "source": [
    "# station_2018 = spark.read.load(\"./data/2018\", format=\"csv\", header=True, schema=schema, inferSchema=False)\n",
    "# station_2018.show()"
   ]
  },
  {
   "cell_type": "code",
   "execution_count": 8,
   "id": "built-header",
   "metadata": {},
   "outputs": [],
   "source": [
    "cols_of_interest = (\"STATION\",\"DATE\",\"SOURCE\",\"LATITUDE\",\"LONGITUDE\",\"ELEVATION\",\"NAME\",\"REPORT_TYPE\",\"CALL_SIGN\",\"QUALITY_CONTROL\",\"WND\",\"CIG\",\"VIS\",\"TMP\",\"DEW\",\"SLP\")\n",
    "\n",
    "all_stations = spark.read.load(\"./data/*\", format=\"csv\", header=True, schema=schema, inferSchema=False).select(*cols_of_interest)"
   ]
  },
  {
   "cell_type": "code",
   "execution_count": 9,
   "id": "equipped-tulsa",
   "metadata": {},
   "outputs": [
    {
     "data": {
      "text/html": [
       "<table border='1'>\n",
       "<tr><th>STATION</th><th>DATE</th><th>SOURCE</th><th>LATITUDE</th><th>LONGITUDE</th><th>ELEVATION</th><th>NAME</th><th>REPORT_TYPE</th><th>CALL_SIGN</th><th>QUALITY_CONTROL</th><th>WND</th><th>CIG</th><th>VIS</th><th>TMP</th><th>DEW</th><th>SLP</th></tr>\n",
       "<tr><td>826099999</td><td>2008-01-01 00:00:00</td><td>4</td><td>0.0</td><td>0.0</td><td>0.0</td><td>WXPOD8270</td><td>FM-15</td><td>KFMH </td><td>V020</td><td>280,1,N,0062,1</td><td>22000,1,9,N</td><td>024140,1,N,1</td><td>+0020,1</td><td>-0040,1</td><td>10170,1</td></tr>\n",
       "<tr><td>826099999</td><td>2008-01-01 00:53:00</td><td>4</td><td>0.0</td><td>0.0</td><td>0.0</td><td>WXPOD8270</td><td>FM-15</td><td>KCCR </td><td>V020</td><td>100,1,N,0021,1</td><td>22000,1,9,N</td><td>016093,1,N,1</td><td>+9999,9</td><td>-0030,1</td><td>10231,1</td></tr>\n",
       "<tr><td>826099999</td><td>2008-01-01 00:53:00</td><td>4</td><td>0.0</td><td>0.0</td><td>0.0</td><td>WXPOD8270</td><td>FM-16</td><td>KDAL </td><td>V020</td><td>360,1,N,0057,1</td><td>22000,1,9,N</td><td>016093,1,N,1</td><td>+9999,9</td><td>+9999,9</td><td>99999,9</td></tr>\n",
       "<tr><td>826099999</td><td>2008-01-01 01:00:00</td><td>4</td><td>0.0</td><td>0.0</td><td>0.0</td><td>WXPOD8270</td><td>FM-15</td><td>KFMH </td><td>V020</td><td>270,1,N,0046,1</td><td>22000,1,9,N</td><td>024140,1,N,1</td><td>+0010,1</td><td>-0040,1</td><td>10181,1</td></tr>\n",
       "<tr><td>826099999</td><td>2008-01-01 01:53:00</td><td>4</td><td>0.0</td><td>0.0</td><td>0.0</td><td>WXPOD8270</td><td>AUTO </td><td>KCGI </td><td>V020</td><td>300,1,N,0067,1</td><td>22000,1,9,N</td><td>016093,1,N,1</td><td>+0030,1</td><td>-0040,1</td><td>99999,9</td></tr>\n",
       "<tr><td>826099999</td><td>2008-01-01 01:53:00</td><td>4</td><td>0.0</td><td>0.0</td><td>0.0</td><td>WXPOD8270</td><td>FM-15</td><td>KCCR </td><td>V020</td><td>100,1,N,0031,1</td><td>22000,1,9,N</td><td>016093,1,N,1</td><td>+9999,9</td><td>-0030,1</td><td>10229,1</td></tr>\n",
       "<tr><td>826099999</td><td>2008-01-01 02:00:00</td><td>4</td><td>0.0</td><td>0.0</td><td>0.0</td><td>WXPOD8270</td><td>FM-15</td><td>KFMH </td><td>V020</td><td>270,1,N,0051,1</td><td>22000,1,9,N</td><td>024140,1,N,1</td><td>+0010,1</td><td>-0040,1</td><td>10192,1</td></tr>\n",
       "<tr><td>826099999</td><td>2008-01-01 02:53:00</td><td>4</td><td>0.0</td><td>0.0</td><td>0.0</td><td>WXPOD8270</td><td>AUTO </td><td>KCGI </td><td>V020</td><td>280,1,N,0041,1</td><td>22000,1,9,N</td><td>016093,1,N,1</td><td>+0020,1</td><td>-0040,1</td><td>10190,1</td></tr>\n",
       "<tr><td>826099999</td><td>2008-01-01 02:53:00</td><td>4</td><td>0.0</td><td>0.0</td><td>0.0</td><td>WXPOD8270</td><td>FM-15</td><td>KCCR </td><td>V020</td><td>080,1,N,0041,1</td><td>22000,1,9,N</td><td>016093,1,N,1</td><td>+9999,9</td><td>-0030,1</td><td>10231,1</td></tr>\n",
       "<tr><td>826099999</td><td>2008-01-01 03:00:00</td><td>4</td><td>0.0</td><td>0.0</td><td>0.0</td><td>WXPOD8270</td><td>SY-MT</td><td>KFMH </td><td>V020</td><td>300,1,N,0041,1</td><td>22000,1,9,N</td><td>016000,1,N,1</td><td>+0017,1</td><td>-0044,1</td><td>10203,1</td></tr>\n",
       "<tr><td>826099999</td><td>2008-01-01 03:53:00</td><td>4</td><td>0.0</td><td>0.0</td><td>0.0</td><td>WXPOD8270</td><td>AUTO </td><td>KCGI </td><td>V020</td><td>280,1,N,0041,1</td><td>22000,1,9,N</td><td>016093,1,N,1</td><td>+0010,1</td><td>-0030,1</td><td>10200,1</td></tr>\n",
       "<tr><td>826099999</td><td>2008-01-01 03:53:00</td><td>4</td><td>0.0</td><td>0.0</td><td>0.0</td><td>WXPOD8270</td><td>FM-15</td><td>KCCR </td><td>V020</td><td>100,1,N,0026,1</td><td>22000,1,9,N</td><td>016093,1,N,1</td><td>+9999,9</td><td>-0030,1</td><td>10234,1</td></tr>\n",
       "<tr><td>826099999</td><td>2008-01-01 04:00:00</td><td>4</td><td>0.0</td><td>0.0</td><td>0.0</td><td>WXPOD8270</td><td>FM-15</td><td>KFMH </td><td>V020</td><td>999,9,V,0010,1</td><td>22000,1,9,N</td><td>024140,1,N,1</td><td>-0030,1</td><td>-0050,1</td><td>10196,1</td></tr>\n",
       "<tr><td>826099999</td><td>2008-01-01 04:53:00</td><td>4</td><td>0.0</td><td>0.0</td><td>0.0</td><td>WXPOD8270</td><td>AUTO </td><td>KCGI </td><td>V020</td><td>260,1,N,0036,1</td><td>22000,1,9,N</td><td>016093,1,N,1</td><td>+0000,1</td><td>-0030,1</td><td>10207,1</td></tr>\n",
       "<tr><td>826099999</td><td>2008-01-01 04:53:00</td><td>4</td><td>0.0</td><td>0.0</td><td>0.0</td><td>WXPOD8270</td><td>FM-15</td><td>KCCR </td><td>V020</td><td>090,1,N,0026,1</td><td>22000,1,9,N</td><td>016093,1,N,1</td><td>+9999,9</td><td>-0030,1</td><td>10236,1</td></tr>\n",
       "<tr><td>826099999</td><td>2008-01-01 05:00:00</td><td>4</td><td>0.0</td><td>0.0</td><td>0.0</td><td>WXPOD8270</td><td>FM-15</td><td>KFMH </td><td>V020</td><td>210,1,N,0015,1</td><td>22000,1,9,N</td><td>024140,1,N,1</td><td>-0040,1</td><td>-0050,1</td><td>10199,1</td></tr>\n",
       "<tr><td>826099999</td><td>2008-01-01 05:53:00</td><td>4</td><td>0.0</td><td>0.0</td><td>0.0</td><td>WXPOD8270</td><td>AUTO </td><td>KCGI </td><td>V020</td><td>290,1,N,0051,1</td><td>22000,1,9,N</td><td>016093,1,N,1</td><td>+0010,1</td><td>-0040,1</td><td>10216,1</td></tr>\n",
       "<tr><td>826099999</td><td>2008-01-01 05:53:00</td><td>4</td><td>0.0</td><td>0.0</td><td>0.0</td><td>WXPOD8270</td><td>FM-15</td><td>KCCR </td><td>V020</td><td>100,1,N,0015,1</td><td>22000,1,9,N</td><td>016093,1,N,1</td><td>+9999,9</td><td>-0020,1</td><td>10240,1</td></tr>\n",
       "<tr><td>826099999</td><td>2008-01-01 06:00:00</td><td>4</td><td>0.0</td><td>0.0</td><td>0.0</td><td>WXPOD8270</td><td>FM-15</td><td>KFMH </td><td>V020</td><td>260,1,N,0005,1</td><td>22000,1,9,N</td><td>024140,1,N,1</td><td>-0040,1</td><td>-0050,1</td><td>10209,1</td></tr>\n",
       "<tr><td>826099999</td><td>2008-01-01 06:53:00</td><td>4</td><td>0.0</td><td>0.0</td><td>0.0</td><td>WXPOD8270</td><td>AUTO </td><td>KCGI </td><td>V020</td><td>290,1,N,0051,1</td><td>22000,1,9,N</td><td>016093,1,N,1</td><td>+0000,1</td><td>-0060,1</td><td>10226,1</td></tr>\n",
       "</table>\n",
       "only showing top 20 rows\n"
      ],
      "text/plain": [
       "+---------+-------------------+------+--------+---------+---------+---------+-----------+---------+---------------+--------------+-----------+------------+-------+-------+-------+\n",
       "|  STATION|               DATE|SOURCE|LATITUDE|LONGITUDE|ELEVATION|     NAME|REPORT_TYPE|CALL_SIGN|QUALITY_CONTROL|           WND|        CIG|         VIS|    TMP|    DEW|    SLP|\n",
       "+---------+-------------------+------+--------+---------+---------+---------+-----------+---------+---------------+--------------+-----------+------------+-------+-------+-------+\n",
       "|826099999|2008-01-01 00:00:00|     4|     0.0|      0.0|      0.0|WXPOD8270|      FM-15|    KFMH |           V020|280,1,N,0062,1|22000,1,9,N|024140,1,N,1|+0020,1|-0040,1|10170,1|\n",
       "|826099999|2008-01-01 00:53:00|     4|     0.0|      0.0|      0.0|WXPOD8270|      FM-15|    KCCR |           V020|100,1,N,0021,1|22000,1,9,N|016093,1,N,1|+9999,9|-0030,1|10231,1|\n",
       "|826099999|2008-01-01 00:53:00|     4|     0.0|      0.0|      0.0|WXPOD8270|      FM-16|    KDAL |           V020|360,1,N,0057,1|22000,1,9,N|016093,1,N,1|+9999,9|+9999,9|99999,9|\n",
       "|826099999|2008-01-01 01:00:00|     4|     0.0|      0.0|      0.0|WXPOD8270|      FM-15|    KFMH |           V020|270,1,N,0046,1|22000,1,9,N|024140,1,N,1|+0010,1|-0040,1|10181,1|\n",
       "|826099999|2008-01-01 01:53:00|     4|     0.0|      0.0|      0.0|WXPOD8270|      AUTO |    KCGI |           V020|300,1,N,0067,1|22000,1,9,N|016093,1,N,1|+0030,1|-0040,1|99999,9|\n",
       "|826099999|2008-01-01 01:53:00|     4|     0.0|      0.0|      0.0|WXPOD8270|      FM-15|    KCCR |           V020|100,1,N,0031,1|22000,1,9,N|016093,1,N,1|+9999,9|-0030,1|10229,1|\n",
       "|826099999|2008-01-01 02:00:00|     4|     0.0|      0.0|      0.0|WXPOD8270|      FM-15|    KFMH |           V020|270,1,N,0051,1|22000,1,9,N|024140,1,N,1|+0010,1|-0040,1|10192,1|\n",
       "|826099999|2008-01-01 02:53:00|     4|     0.0|      0.0|      0.0|WXPOD8270|      AUTO |    KCGI |           V020|280,1,N,0041,1|22000,1,9,N|016093,1,N,1|+0020,1|-0040,1|10190,1|\n",
       "|826099999|2008-01-01 02:53:00|     4|     0.0|      0.0|      0.0|WXPOD8270|      FM-15|    KCCR |           V020|080,1,N,0041,1|22000,1,9,N|016093,1,N,1|+9999,9|-0030,1|10231,1|\n",
       "|826099999|2008-01-01 03:00:00|     4|     0.0|      0.0|      0.0|WXPOD8270|      SY-MT|    KFMH |           V020|300,1,N,0041,1|22000,1,9,N|016000,1,N,1|+0017,1|-0044,1|10203,1|\n",
       "|826099999|2008-01-01 03:53:00|     4|     0.0|      0.0|      0.0|WXPOD8270|      AUTO |    KCGI |           V020|280,1,N,0041,1|22000,1,9,N|016093,1,N,1|+0010,1|-0030,1|10200,1|\n",
       "|826099999|2008-01-01 03:53:00|     4|     0.0|      0.0|      0.0|WXPOD8270|      FM-15|    KCCR |           V020|100,1,N,0026,1|22000,1,9,N|016093,1,N,1|+9999,9|-0030,1|10234,1|\n",
       "|826099999|2008-01-01 04:00:00|     4|     0.0|      0.0|      0.0|WXPOD8270|      FM-15|    KFMH |           V020|999,9,V,0010,1|22000,1,9,N|024140,1,N,1|-0030,1|-0050,1|10196,1|\n",
       "|826099999|2008-01-01 04:53:00|     4|     0.0|      0.0|      0.0|WXPOD8270|      AUTO |    KCGI |           V020|260,1,N,0036,1|22000,1,9,N|016093,1,N,1|+0000,1|-0030,1|10207,1|\n",
       "|826099999|2008-01-01 04:53:00|     4|     0.0|      0.0|      0.0|WXPOD8270|      FM-15|    KCCR |           V020|090,1,N,0026,1|22000,1,9,N|016093,1,N,1|+9999,9|-0030,1|10236,1|\n",
       "|826099999|2008-01-01 05:00:00|     4|     0.0|      0.0|      0.0|WXPOD8270|      FM-15|    KFMH |           V020|210,1,N,0015,1|22000,1,9,N|024140,1,N,1|-0040,1|-0050,1|10199,1|\n",
       "|826099999|2008-01-01 05:53:00|     4|     0.0|      0.0|      0.0|WXPOD8270|      AUTO |    KCGI |           V020|290,1,N,0051,1|22000,1,9,N|016093,1,N,1|+0010,1|-0040,1|10216,1|\n",
       "|826099999|2008-01-01 05:53:00|     4|     0.0|      0.0|      0.0|WXPOD8270|      FM-15|    KCCR |           V020|100,1,N,0015,1|22000,1,9,N|016093,1,N,1|+9999,9|-0020,1|10240,1|\n",
       "|826099999|2008-01-01 06:00:00|     4|     0.0|      0.0|      0.0|WXPOD8270|      FM-15|    KFMH |           V020|260,1,N,0005,1|22000,1,9,N|024140,1,N,1|-0040,1|-0050,1|10209,1|\n",
       "|826099999|2008-01-01 06:53:00|     4|     0.0|      0.0|      0.0|WXPOD8270|      AUTO |    KCGI |           V020|290,1,N,0051,1|22000,1,9,N|016093,1,N,1|+0000,1|-0060,1|10226,1|\n",
       "+---------+-------------------+------+--------+---------+---------+---------+-----------+---------+---------------+--------------+-----------+------------+-------+-------+-------+\n",
       "only showing top 20 rows"
      ]
     },
     "execution_count": 9,
     "metadata": {},
     "output_type": "execute_result"
    }
   ],
   "source": [
    "all_stations"
   ]
  },
  {
   "cell_type": "code",
   "execution_count": 10,
   "id": "clean-platform",
   "metadata": {},
   "outputs": [
    {
     "data": {
      "text/plain": [
       "9573561"
      ]
     },
     "execution_count": 10,
     "metadata": {},
     "output_type": "execute_result"
    }
   ],
   "source": [
    "# Nombre de lignes\n",
    "all_stations.count()"
   ]
  },
  {
   "cell_type": "markdown",
   "id": "changed-graph",
   "metadata": {},
   "source": [
    "## Supprimer les lignes du champ TMP avec des valeurs vides OU des +9999"
   ]
  },
  {
   "cell_type": "code",
   "execution_count": 11,
   "id": "grand-contact",
   "metadata": {},
   "outputs": [],
   "source": [
    "all_stations = all_stations.na.drop(how=\"any\", subset=[\"TMP\"]).filter(~all_stations.TMP.contains(\"+9999\"))"
   ]
  },
  {
   "cell_type": "markdown",
   "id": "dependent-romance",
   "metadata": {},
   "source": [
    "## Supprimer les lignes du champ ELEVATION avec des valeurs vides OU des +9999"
   ]
  },
  {
   "cell_type": "code",
   "execution_count": 12,
   "id": "smaller-father",
   "metadata": {},
   "outputs": [],
   "source": [
    "all_stations = all_stations.na.drop(how=\"any\", subset=[\"ELEVATION\"]).filter(~all_stations.ELEVATION.contains(\"+9999\"))"
   ]
  },
  {
   "cell_type": "markdown",
   "id": "acute-instrument",
   "metadata": {},
   "source": [
    "## Supprimer les lignes du champ DEW avec des valeurs vides OU des +9999"
   ]
  },
  {
   "cell_type": "code",
   "execution_count": 13,
   "id": "egyptian-pixel",
   "metadata": {},
   "outputs": [],
   "source": [
    "all_stations = all_stations.na.drop(how=\"any\", subset=[\"DEW\"]).filter(~all_stations.DEW.contains(\"+9999\"))"
   ]
  },
  {
   "cell_type": "code",
   "execution_count": 14,
   "id": "accessory-veteran",
   "metadata": {},
   "outputs": [
    {
     "data": {
      "text/plain": [
       "9097319"
      ]
     },
     "execution_count": 14,
     "metadata": {},
     "output_type": "execute_result"
    }
   ],
   "source": [
    "# Nombre de lignes après le drop\n",
    "all_stations.count()"
   ]
  },
  {
   "cell_type": "code",
   "execution_count": 15,
   "id": "southwest-export",
   "metadata": {},
   "outputs": [
    {
     "name": "stdout",
     "output_type": "stream",
     "text": [
      "root\n",
      " |-- STATION: integer (nullable = true)\n",
      " |-- DATE: timestamp (nullable = true)\n",
      " |-- SOURCE: integer (nullable = true)\n",
      " |-- LATITUDE: float (nullable = true)\n",
      " |-- LONGITUDE: float (nullable = true)\n",
      " |-- ELEVATION: string (nullable = true)\n",
      " |-- NAME: string (nullable = true)\n",
      " |-- REPORT_TYPE: string (nullable = true)\n",
      " |-- CALL_SIGN: string (nullable = true)\n",
      " |-- QUALITY_CONTROL: string (nullable = true)\n",
      " |-- WND: string (nullable = true)\n",
      " |-- CIG: string (nullable = true)\n",
      " |-- VIS: string (nullable = true)\n",
      " |-- TMP: string (nullable = true)\n",
      " |-- DEW: string (nullable = true)\n",
      " |-- SLP: string (nullable = true)\n",
      "\n"
     ]
    }
   ],
   "source": [
    "# Le schema de données\n",
    "all_stations.printSchema()"
   ]
  },
  {
   "cell_type": "markdown",
   "id": "pretty-croatia",
   "metadata": {},
   "source": [
    "## Split de la colonne température"
   ]
  },
  {
   "cell_type": "code",
   "execution_count": 16,
   "id": "electric-radio",
   "metadata": {},
   "outputs": [],
   "source": [
    "@udf(returnType=FloatType())\n",
    "def extract_tmp(tmp_col: str):\n",
    "    return int(tmp_col.split(',')[0].lstrip('+')) / 10\n",
    "\n",
    "all_stations = all_stations.withColumn('temperature', extract_tmp(all_stations['TMP']))"
   ]
  },
  {
   "cell_type": "code",
   "execution_count": null,
   "id": "closed-stephen",
   "metadata": {},
   "outputs": [],
   "source": []
  },
  {
   "cell_type": "markdown",
   "id": "burning-girlfriend",
   "metadata": {},
   "source": [
    "## Split de la colonne DEW"
   ]
  },
  {
   "cell_type": "code",
   "execution_count": 17,
   "id": "useful-minute",
   "metadata": {},
   "outputs": [],
   "source": [
    "@udf(returnType=FloatType())\n",
    "def extract_dew(dew_col: str):\n",
    "    return int(dew_col.split(',')[0].lstrip('+')) / 10\n",
    "\n",
    "all_stations = all_stations.withColumn('precipitation', extract_dew(all_stations['DEW']))"
   ]
  },
  {
   "cell_type": "code",
   "execution_count": 18,
   "id": "retained-california",
   "metadata": {},
   "outputs": [
    {
     "name": "stdout",
     "output_type": "stream",
     "text": [
      "root\n",
      " |-- STATION: integer (nullable = true)\n",
      " |-- DATE: timestamp (nullable = true)\n",
      " |-- SOURCE: integer (nullable = true)\n",
      " |-- LATITUDE: float (nullable = true)\n",
      " |-- LONGITUDE: float (nullable = true)\n",
      " |-- ELEVATION: string (nullable = true)\n",
      " |-- NAME: string (nullable = true)\n",
      " |-- REPORT_TYPE: string (nullable = true)\n",
      " |-- CALL_SIGN: string (nullable = true)\n",
      " |-- QUALITY_CONTROL: string (nullable = true)\n",
      " |-- WND: string (nullable = true)\n",
      " |-- CIG: string (nullable = true)\n",
      " |-- VIS: string (nullable = true)\n",
      " |-- TMP: string (nullable = true)\n",
      " |-- DEW: string (nullable = true)\n",
      " |-- SLP: string (nullable = true)\n",
      " |-- temperature: float (nullable = true)\n",
      " |-- precipitation: float (nullable = true)\n",
      "\n"
     ]
    }
   ],
   "source": [
    "all_stations.printSchema()"
   ]
  },
  {
   "cell_type": "markdown",
   "id": "collected-happiness",
   "metadata": {},
   "source": [
    "## Création du champ season"
   ]
  },
  {
   "cell_type": "code",
   "execution_count": 19,
   "id": "congressional-jefferson",
   "metadata": {},
   "outputs": [],
   "source": [
    "@udf(returnType=StringType())\n",
    "def create_season(month: int):\n",
    "    if month in [7, 8, 9]:\n",
    "        season = 'Summer'\n",
    "    elif month in [10, 11, 12]:\n",
    "        season = 'Autumn'\n",
    "    elif month in [1, 2, 3]:\n",
    "        season = 'Winter'\n",
    "    else:\n",
    "        season = 'Spring'\n",
    "    return season\n",
    "\n",
    "all_stations = all_stations.withColumn('season', create_season(month(\"DATE\")))"
   ]
  },
  {
   "cell_type": "code",
   "execution_count": 20,
   "id": "weekly-asbestos",
   "metadata": {},
   "outputs": [
    {
     "name": "stdout",
     "output_type": "stream",
     "text": [
      "root\n",
      " |-- STATION: integer (nullable = true)\n",
      " |-- DATE: timestamp (nullable = true)\n",
      " |-- SOURCE: integer (nullable = true)\n",
      " |-- LATITUDE: float (nullable = true)\n",
      " |-- LONGITUDE: float (nullable = true)\n",
      " |-- ELEVATION: string (nullable = true)\n",
      " |-- NAME: string (nullable = true)\n",
      " |-- REPORT_TYPE: string (nullable = true)\n",
      " |-- CALL_SIGN: string (nullable = true)\n",
      " |-- QUALITY_CONTROL: string (nullable = true)\n",
      " |-- WND: string (nullable = true)\n",
      " |-- CIG: string (nullable = true)\n",
      " |-- VIS: string (nullable = true)\n",
      " |-- TMP: string (nullable = true)\n",
      " |-- DEW: string (nullable = true)\n",
      " |-- SLP: string (nullable = true)\n",
      " |-- temperature: float (nullable = true)\n",
      " |-- precipitation: float (nullable = true)\n",
      " |-- season: string (nullable = true)\n",
      "\n"
     ]
    }
   ],
   "source": [
    "all_stations.printSchema()"
   ]
  },
  {
   "cell_type": "code",
   "execution_count": 21,
   "id": "romantic-hopkins",
   "metadata": {},
   "outputs": [
    {
     "data": {
      "text/html": [
       "<table border='1'>\n",
       "<tr><th>STATION</th><th>DATE</th><th>SOURCE</th><th>LATITUDE</th><th>LONGITUDE</th><th>ELEVATION</th><th>NAME</th><th>REPORT_TYPE</th><th>CALL_SIGN</th><th>QUALITY_CONTROL</th><th>WND</th><th>CIG</th><th>VIS</th><th>TMP</th><th>DEW</th><th>SLP</th><th>temperature</th><th>precipitation</th><th>season</th></tr>\n",
       "<tr><td>826099999</td><td>2008-01-01 00:00:00</td><td>4</td><td>0.0</td><td>0.0</td><td>0.0</td><td>WXPOD8270</td><td>FM-15</td><td>KFMH </td><td>V020</td><td>280,1,N,0062,1</td><td>22000,1,9,N</td><td>024140,1,N,1</td><td>+0020,1</td><td>-0040,1</td><td>10170,1</td><td>2.0</td><td>-4.0</td><td>Winter</td></tr>\n",
       "<tr><td>826099999</td><td>2008-01-01 01:00:00</td><td>4</td><td>0.0</td><td>0.0</td><td>0.0</td><td>WXPOD8270</td><td>FM-15</td><td>KFMH </td><td>V020</td><td>270,1,N,0046,1</td><td>22000,1,9,N</td><td>024140,1,N,1</td><td>+0010,1</td><td>-0040,1</td><td>10181,1</td><td>1.0</td><td>-4.0</td><td>Winter</td></tr>\n",
       "<tr><td>826099999</td><td>2008-01-01 01:53:00</td><td>4</td><td>0.0</td><td>0.0</td><td>0.0</td><td>WXPOD8270</td><td>AUTO </td><td>KCGI </td><td>V020</td><td>300,1,N,0067,1</td><td>22000,1,9,N</td><td>016093,1,N,1</td><td>+0030,1</td><td>-0040,1</td><td>99999,9</td><td>3.0</td><td>-4.0</td><td>Winter</td></tr>\n",
       "<tr><td>826099999</td><td>2008-01-01 02:00:00</td><td>4</td><td>0.0</td><td>0.0</td><td>0.0</td><td>WXPOD8270</td><td>FM-15</td><td>KFMH </td><td>V020</td><td>270,1,N,0051,1</td><td>22000,1,9,N</td><td>024140,1,N,1</td><td>+0010,1</td><td>-0040,1</td><td>10192,1</td><td>1.0</td><td>-4.0</td><td>Winter</td></tr>\n",
       "<tr><td>826099999</td><td>2008-01-01 02:53:00</td><td>4</td><td>0.0</td><td>0.0</td><td>0.0</td><td>WXPOD8270</td><td>AUTO </td><td>KCGI </td><td>V020</td><td>280,1,N,0041,1</td><td>22000,1,9,N</td><td>016093,1,N,1</td><td>+0020,1</td><td>-0040,1</td><td>10190,1</td><td>2.0</td><td>-4.0</td><td>Winter</td></tr>\n",
       "<tr><td>826099999</td><td>2008-01-01 03:00:00</td><td>4</td><td>0.0</td><td>0.0</td><td>0.0</td><td>WXPOD8270</td><td>SY-MT</td><td>KFMH </td><td>V020</td><td>300,1,N,0041,1</td><td>22000,1,9,N</td><td>016000,1,N,1</td><td>+0017,1</td><td>-0044,1</td><td>10203,1</td><td>1.7</td><td>-4.4</td><td>Winter</td></tr>\n",
       "<tr><td>826099999</td><td>2008-01-01 03:53:00</td><td>4</td><td>0.0</td><td>0.0</td><td>0.0</td><td>WXPOD8270</td><td>AUTO </td><td>KCGI </td><td>V020</td><td>280,1,N,0041,1</td><td>22000,1,9,N</td><td>016093,1,N,1</td><td>+0010,1</td><td>-0030,1</td><td>10200,1</td><td>1.0</td><td>-3.0</td><td>Winter</td></tr>\n",
       "<tr><td>826099999</td><td>2008-01-01 04:00:00</td><td>4</td><td>0.0</td><td>0.0</td><td>0.0</td><td>WXPOD8270</td><td>FM-15</td><td>KFMH </td><td>V020</td><td>999,9,V,0010,1</td><td>22000,1,9,N</td><td>024140,1,N,1</td><td>-0030,1</td><td>-0050,1</td><td>10196,1</td><td>-3.0</td><td>-5.0</td><td>Winter</td></tr>\n",
       "<tr><td>826099999</td><td>2008-01-01 04:53:00</td><td>4</td><td>0.0</td><td>0.0</td><td>0.0</td><td>WXPOD8270</td><td>AUTO </td><td>KCGI </td><td>V020</td><td>260,1,N,0036,1</td><td>22000,1,9,N</td><td>016093,1,N,1</td><td>+0000,1</td><td>-0030,1</td><td>10207,1</td><td>0.0</td><td>-3.0</td><td>Winter</td></tr>\n",
       "<tr><td>826099999</td><td>2008-01-01 05:00:00</td><td>4</td><td>0.0</td><td>0.0</td><td>0.0</td><td>WXPOD8270</td><td>FM-15</td><td>KFMH </td><td>V020</td><td>210,1,N,0015,1</td><td>22000,1,9,N</td><td>024140,1,N,1</td><td>-0040,1</td><td>-0050,1</td><td>10199,1</td><td>-4.0</td><td>-5.0</td><td>Winter</td></tr>\n",
       "<tr><td>826099999</td><td>2008-01-01 05:53:00</td><td>4</td><td>0.0</td><td>0.0</td><td>0.0</td><td>WXPOD8270</td><td>AUTO </td><td>KCGI </td><td>V020</td><td>290,1,N,0051,1</td><td>22000,1,9,N</td><td>016093,1,N,1</td><td>+0010,1</td><td>-0040,1</td><td>10216,1</td><td>1.0</td><td>-4.0</td><td>Winter</td></tr>\n",
       "<tr><td>826099999</td><td>2008-01-01 06:00:00</td><td>4</td><td>0.0</td><td>0.0</td><td>0.0</td><td>WXPOD8270</td><td>FM-15</td><td>KFMH </td><td>V020</td><td>260,1,N,0005,1</td><td>22000,1,9,N</td><td>024140,1,N,1</td><td>-0040,1</td><td>-0050,1</td><td>10209,1</td><td>-4.0</td><td>-5.0</td><td>Winter</td></tr>\n",
       "<tr><td>826099999</td><td>2008-01-01 06:53:00</td><td>4</td><td>0.0</td><td>0.0</td><td>0.0</td><td>WXPOD8270</td><td>AUTO </td><td>KCGI </td><td>V020</td><td>290,1,N,0051,1</td><td>22000,1,9,N</td><td>016093,1,N,1</td><td>+0000,1</td><td>-0060,1</td><td>10226,1</td><td>0.0</td><td>-6.0</td><td>Winter</td></tr>\n",
       "<tr><td>826099999</td><td>2008-01-01 07:00:00</td><td>4</td><td>0.0</td><td>0.0</td><td>0.0</td><td>WXPOD8270</td><td>FM-15</td><td>KFMH </td><td>V020</td><td>999,9,C,0000,1</td><td>22000,1,9,N</td><td>024140,1,N,1</td><td>-0030,1</td><td>-0050,1</td><td>10209,1</td><td>-3.0</td><td>-5.0</td><td>Winter</td></tr>\n",
       "<tr><td>826099999</td><td>2008-01-01 07:53:00</td><td>4</td><td>0.0</td><td>0.0</td><td>0.0</td><td>WXPOD8270</td><td>AUTO </td><td>KCGI </td><td>V020</td><td>300,1,N,0093,1</td><td>22000,1,9,N</td><td>016093,1,N,1</td><td>+0010,1</td><td>-0080,1</td><td>10233,1</td><td>1.0</td><td>-8.0</td><td>Winter</td></tr>\n",
       "<tr><td>826099999</td><td>2008-01-01 08:00:00</td><td>4</td><td>0.0</td><td>0.0</td><td>0.0</td><td>WXPOD8270</td><td>FM-15</td><td>KFMH </td><td>V020</td><td>999,9,V,0005,1</td><td>22000,1,9,N</td><td>024140,1,N,1</td><td>-0050,1</td><td>-0060,1</td><td>10216,1</td><td>-5.0</td><td>-6.0</td><td>Winter</td></tr>\n",
       "<tr><td>826099999</td><td>2008-01-01 08:53:00</td><td>4</td><td>0.0</td><td>0.0</td><td>0.0</td><td>WXPOD8270</td><td>AUTO </td><td>KCGI </td><td>V020</td><td>300,1,N,0062,1</td><td>22000,1,9,N</td><td>016093,1,N,1</td><td>-0010,1</td><td>-0080,1</td><td>10243,1</td><td>-1.0</td><td>-8.0</td><td>Winter</td></tr>\n",
       "<tr><td>826099999</td><td>2008-01-01 08:55:00</td><td>4</td><td>0.0</td><td>0.0</td><td>0.0</td><td>WXPOD8270</td><td>FM-15</td><td>KFMH </td><td>V020</td><td>999,9,V,0015,1</td><td>22000,1,9,N</td><td>024140,1,N,1</td><td>-0060,1</td><td>-0060,1</td><td>10216,1</td><td>-6.0</td><td>-6.0</td><td>Winter</td></tr>\n",
       "<tr><td>826099999</td><td>2008-01-01 09:00:00</td><td>4</td><td>0.0</td><td>0.0</td><td>0.0</td><td>WXPOD8270</td><td>FM-12</td><td>KFMH </td><td>V020</td><td>310,1,N,0021,1</td><td>22000,1,9,N</td><td>016000,1,N,1</td><td>-0011,1</td><td>-0050,1</td><td>10219,1</td><td>-1.1</td><td>-5.0</td><td>Winter</td></tr>\n",
       "<tr><td>826099999</td><td>2008-01-01 09:53:00</td><td>4</td><td>0.0</td><td>0.0</td><td>0.0</td><td>WXPOD8270</td><td>AUTO </td><td>KCGI </td><td>V020</td><td>300,1,N,0062,1</td><td>22000,1,9,N</td><td>016093,1,N,1</td><td>-0010,1</td><td>-0070,1</td><td>10250,1</td><td>-1.0</td><td>-7.0</td><td>Winter</td></tr>\n",
       "</table>\n",
       "only showing top 20 rows\n"
      ],
      "text/plain": [
       "+---------+-------------------+------+--------+---------+---------+---------+-----------+---------+---------------+--------------+-----------+------------+-------+-------+-------+-----------+-------------+------+\n",
       "|  STATION|               DATE|SOURCE|LATITUDE|LONGITUDE|ELEVATION|     NAME|REPORT_TYPE|CALL_SIGN|QUALITY_CONTROL|           WND|        CIG|         VIS|    TMP|    DEW|    SLP|temperature|precipitation|season|\n",
       "+---------+-------------------+------+--------+---------+---------+---------+-----------+---------+---------------+--------------+-----------+------------+-------+-------+-------+-----------+-------------+------+\n",
       "|826099999|2008-01-01 00:00:00|     4|     0.0|      0.0|      0.0|WXPOD8270|      FM-15|    KFMH |           V020|280,1,N,0062,1|22000,1,9,N|024140,1,N,1|+0020,1|-0040,1|10170,1|        2.0|         -4.0|Winter|\n",
       "|826099999|2008-01-01 01:00:00|     4|     0.0|      0.0|      0.0|WXPOD8270|      FM-15|    KFMH |           V020|270,1,N,0046,1|22000,1,9,N|024140,1,N,1|+0010,1|-0040,1|10181,1|        1.0|         -4.0|Winter|\n",
       "|826099999|2008-01-01 01:53:00|     4|     0.0|      0.0|      0.0|WXPOD8270|      AUTO |    KCGI |           V020|300,1,N,0067,1|22000,1,9,N|016093,1,N,1|+0030,1|-0040,1|99999,9|        3.0|         -4.0|Winter|\n",
       "|826099999|2008-01-01 02:00:00|     4|     0.0|      0.0|      0.0|WXPOD8270|      FM-15|    KFMH |           V020|270,1,N,0051,1|22000,1,9,N|024140,1,N,1|+0010,1|-0040,1|10192,1|        1.0|         -4.0|Winter|\n",
       "|826099999|2008-01-01 02:53:00|     4|     0.0|      0.0|      0.0|WXPOD8270|      AUTO |    KCGI |           V020|280,1,N,0041,1|22000,1,9,N|016093,1,N,1|+0020,1|-0040,1|10190,1|        2.0|         -4.0|Winter|\n",
       "|826099999|2008-01-01 03:00:00|     4|     0.0|      0.0|      0.0|WXPOD8270|      SY-MT|    KFMH |           V020|300,1,N,0041,1|22000,1,9,N|016000,1,N,1|+0017,1|-0044,1|10203,1|        1.7|         -4.4|Winter|\n",
       "|826099999|2008-01-01 03:53:00|     4|     0.0|      0.0|      0.0|WXPOD8270|      AUTO |    KCGI |           V020|280,1,N,0041,1|22000,1,9,N|016093,1,N,1|+0010,1|-0030,1|10200,1|        1.0|         -3.0|Winter|\n",
       "|826099999|2008-01-01 04:00:00|     4|     0.0|      0.0|      0.0|WXPOD8270|      FM-15|    KFMH |           V020|999,9,V,0010,1|22000,1,9,N|024140,1,N,1|-0030,1|-0050,1|10196,1|       -3.0|         -5.0|Winter|\n",
       "|826099999|2008-01-01 04:53:00|     4|     0.0|      0.0|      0.0|WXPOD8270|      AUTO |    KCGI |           V020|260,1,N,0036,1|22000,1,9,N|016093,1,N,1|+0000,1|-0030,1|10207,1|        0.0|         -3.0|Winter|\n",
       "|826099999|2008-01-01 05:00:00|     4|     0.0|      0.0|      0.0|WXPOD8270|      FM-15|    KFMH |           V020|210,1,N,0015,1|22000,1,9,N|024140,1,N,1|-0040,1|-0050,1|10199,1|       -4.0|         -5.0|Winter|\n",
       "|826099999|2008-01-01 05:53:00|     4|     0.0|      0.0|      0.0|WXPOD8270|      AUTO |    KCGI |           V020|290,1,N,0051,1|22000,1,9,N|016093,1,N,1|+0010,1|-0040,1|10216,1|        1.0|         -4.0|Winter|\n",
       "|826099999|2008-01-01 06:00:00|     4|     0.0|      0.0|      0.0|WXPOD8270|      FM-15|    KFMH |           V020|260,1,N,0005,1|22000,1,9,N|024140,1,N,1|-0040,1|-0050,1|10209,1|       -4.0|         -5.0|Winter|\n",
       "|826099999|2008-01-01 06:53:00|     4|     0.0|      0.0|      0.0|WXPOD8270|      AUTO |    KCGI |           V020|290,1,N,0051,1|22000,1,9,N|016093,1,N,1|+0000,1|-0060,1|10226,1|        0.0|         -6.0|Winter|\n",
       "|826099999|2008-01-01 07:00:00|     4|     0.0|      0.0|      0.0|WXPOD8270|      FM-15|    KFMH |           V020|999,9,C,0000,1|22000,1,9,N|024140,1,N,1|-0030,1|-0050,1|10209,1|       -3.0|         -5.0|Winter|\n",
       "|826099999|2008-01-01 07:53:00|     4|     0.0|      0.0|      0.0|WXPOD8270|      AUTO |    KCGI |           V020|300,1,N,0093,1|22000,1,9,N|016093,1,N,1|+0010,1|-0080,1|10233,1|        1.0|         -8.0|Winter|\n",
       "|826099999|2008-01-01 08:00:00|     4|     0.0|      0.0|      0.0|WXPOD8270|      FM-15|    KFMH |           V020|999,9,V,0005,1|22000,1,9,N|024140,1,N,1|-0050,1|-0060,1|10216,1|       -5.0|         -6.0|Winter|\n",
       "|826099999|2008-01-01 08:53:00|     4|     0.0|      0.0|      0.0|WXPOD8270|      AUTO |    KCGI |           V020|300,1,N,0062,1|22000,1,9,N|016093,1,N,1|-0010,1|-0080,1|10243,1|       -1.0|         -8.0|Winter|\n",
       "|826099999|2008-01-01 08:55:00|     4|     0.0|      0.0|      0.0|WXPOD8270|      FM-15|    KFMH |           V020|999,9,V,0015,1|22000,1,9,N|024140,1,N,1|-0060,1|-0060,1|10216,1|       -6.0|         -6.0|Winter|\n",
       "|826099999|2008-01-01 09:00:00|     4|     0.0|      0.0|      0.0|WXPOD8270|      FM-12|    KFMH |           V020|310,1,N,0021,1|22000,1,9,N|016000,1,N,1|-0011,1|-0050,1|10219,1|       -1.1|         -5.0|Winter|\n",
       "|826099999|2008-01-01 09:53:00|     4|     0.0|      0.0|      0.0|WXPOD8270|      AUTO |    KCGI |           V020|300,1,N,0062,1|22000,1,9,N|016093,1,N,1|-0010,1|-0070,1|10250,1|       -1.0|         -7.0|Winter|\n",
       "+---------+-------------------+------+--------+---------+---------+---------+-----------+---------+---------------+--------------+-----------+------------+-------+-------+-------+-----------+-------------+------+\n",
       "only showing top 20 rows"
      ]
     },
     "execution_count": 21,
     "metadata": {},
     "output_type": "execute_result"
    }
   ],
   "source": [
    "all_stations"
   ]
  },
  {
   "cell_type": "markdown",
   "id": "rolled-divide",
   "metadata": {},
   "source": [
    "## Moyenne des températures par année/mois/journée/saison"
   ]
  },
  {
   "cell_type": "code",
   "execution_count": 22,
   "id": "nuclear-people",
   "metadata": {},
   "outputs": [
    {
     "data": {
      "text/html": [
       "<table border='1'>\n",
       "<tr><th>year</th><th>mean_tmp</th></tr>\n",
       "<tr><td>2018</td><td>2.02892985837642</td></tr>\n",
       "<tr><td>2006</td><td>4.198319969806843</td></tr>\n",
       "<tr><td>2014</td><td>2.6191008699119065</td></tr>\n",
       "<tr><td>2004</td><td>5.131428905904472</td></tr>\n",
       "<tr><td>2012</td><td>2.642136988047152</td></tr>\n",
       "<tr><td>2016</td><td>2.6419137324431894</td></tr>\n",
       "<tr><td>2000</td><td>6.675598381763011</td></tr>\n",
       "<tr><td>2010</td><td>2.2187558525408133</td></tr>\n",
       "<tr><td>2008</td><td>3.5118217018204954</td></tr>\n",
       "<tr><td>2002</td><td>4.9676523198771125</td></tr>\n",
       "</table>\n"
      ],
      "text/plain": [
       "+----+------------------+\n",
       "|year|          mean_tmp|\n",
       "+----+------------------+\n",
       "|2018|  2.02892985837642|\n",
       "|2006| 4.198319969806843|\n",
       "|2014|2.6191008699119065|\n",
       "|2004| 5.131428905904472|\n",
       "|2012| 2.642136988047152|\n",
       "|2016|2.6419137324431894|\n",
       "|2000| 6.675598381763011|\n",
       "|2010|2.2187558525408133|\n",
       "|2008|3.5118217018204954|\n",
       "|2002|4.9676523198771125|\n",
       "+----+------------------+"
      ]
     },
     "execution_count": 22,
     "metadata": {},
     "output_type": "execute_result"
    }
   ],
   "source": [
    "# Par année\n",
    "mean_tmp_by_year = all_stations.groupBy([year(\"DATE\").alias(\"year\")]).agg(mean(\"temperature\").alias(\"mean_tmp\"))\n",
    "# mean_tmp_by_year = mean_tmp_by_year.sort(\"year\")\n",
    "mean_tmp_by_year"
   ]
  },
  {
   "cell_type": "code",
   "execution_count": 23,
   "id": "sensitive-wiring",
   "metadata": {},
   "outputs": [
    {
     "data": {
      "text/html": [
       "<table border='1'>\n",
       "<tr><th>year</th><th>month</th><th>mean_tmp</th></tr>\n",
       "<tr><td>2000</td><td>1</td><td>0.3074673309805384</td></tr>\n",
       "<tr><td>2000</td><td>2</td><td>0.36254681658216736</td></tr>\n",
       "<tr><td>2000</td><td>3</td><td>1.596641281798461</td></tr>\n",
       "<tr><td>2000</td><td>4</td><td>4.482280090297883</td></tr>\n",
       "<tr><td>2000</td><td>5</td><td>9.460334322288798</td></tr>\n",
       "<tr><td>2000</td><td>6</td><td>11.581003816287653</td></tr>\n",
       "<tr><td>2000</td><td>7</td><td>13.813049385753972</td></tr>\n",
       "<tr><td>2000</td><td>8</td><td>13.543284406689663</td></tr>\n",
       "<tr><td>2000</td><td>9</td><td>10.82036165711583</td></tr>\n",
       "<tr><td>2000</td><td>10</td><td>8.544176122778072</td></tr>\n",
       "<tr><td>2000</td><td>11</td><td>4.450797424251913</td></tr>\n",
       "<tr><td>2000</td><td>12</td><td>1.0759706408657521</td></tr>\n",
       "<tr><td>2002</td><td>1</td><td>-3.668251957641731</td></tr>\n",
       "<tr><td>2002</td><td>2</td><td>-1.8177546478406172</td></tr>\n",
       "<tr><td>2002</td><td>3</td><td>-0.9669351506960264</td></tr>\n",
       "<tr><td>2002</td><td>4</td><td>4.470171429316686</td></tr>\n",
       "<tr><td>2002</td><td>5</td><td>9.881339068366945</td></tr>\n",
       "<tr><td>2002</td><td>6</td><td>14.297700221616486</td></tr>\n",
       "<tr><td>2002</td><td>7</td><td>16.25674364171651</td></tr>\n",
       "<tr><td>2002</td><td>8</td><td>17.01540554933766</td></tr>\n",
       "</table>\n",
       "only showing top 20 rows\n"
      ],
      "text/plain": [
       "+----+-----+-------------------+\n",
       "|year|month|           mean_tmp|\n",
       "+----+-----+-------------------+\n",
       "|2000|    1| 0.3074673309805384|\n",
       "|2000|    2|0.36254681658216736|\n",
       "|2000|    3|  1.596641281798461|\n",
       "|2000|    4|  4.482280090297883|\n",
       "|2000|    5|  9.460334322288798|\n",
       "|2000|    6| 11.581003816287653|\n",
       "|2000|    7| 13.813049385753972|\n",
       "|2000|    8| 13.543284406689663|\n",
       "|2000|    9|  10.82036165711583|\n",
       "|2000|   10|  8.544176122778072|\n",
       "|2000|   11|  4.450797424251913|\n",
       "|2000|   12| 1.0759706408657521|\n",
       "|2002|    1| -3.668251957641731|\n",
       "|2002|    2|-1.8177546478406172|\n",
       "|2002|    3|-0.9669351506960264|\n",
       "|2002|    4|  4.470171429316686|\n",
       "|2002|    5|  9.881339068366945|\n",
       "|2002|    6| 14.297700221616486|\n",
       "|2002|    7|  16.25674364171651|\n",
       "|2002|    8|  17.01540554933766|\n",
       "+----+-----+-------------------+\n",
       "only showing top 20 rows"
      ]
     },
     "execution_count": 23,
     "metadata": {},
     "output_type": "execute_result"
    }
   ],
   "source": [
    "# Par mois\n",
    "mean_tmp_by_month = all_stations.groupBy([year(\"DATE\").alias(\"year\"), month(\"DATE\").alias(\"month\")]).agg(mean(\"temperature\").alias(\"mean_tmp\"))\n",
    "mean_tmp_by_month = mean_tmp_by_month.sort(\"year\", \"month\")\n",
    "mean_tmp_by_month"
   ]
  },
  {
   "cell_type": "code",
   "execution_count": 24,
   "id": "afraid-courage",
   "metadata": {},
   "outputs": [
    {
     "data": {
      "text/html": [
       "<table border='1'>\n",
       "<tr><th>date</th><th>mean_tmp</th><th>mean_dew</th></tr>\n",
       "<tr><td>2000-01-01</td><td>-0.6913435528855989</td><td>-2.661609555304897</td></tr>\n",
       "<tr><td>2000-01-02</td><td>1.6868237187302406</td><td>-0.4137352778436681</td></tr>\n",
       "<tr><td>2000-01-03</td><td>1.8514730731921183</td><td>-0.81927190840015</td></tr>\n",
       "<tr><td>2000-01-04</td><td>1.483537588544491</td><td>-1.1463874158779446</td></tr>\n",
       "<tr><td>2000-01-05</td><td>0.9789781888679079</td><td>-1.2681542806212995</td></tr>\n",
       "<tr><td>2000-01-06</td><td>2.552817631606613</td><td>-0.2935121658965589</td></tr>\n",
       "<tr><td>2000-01-07</td><td>3.8882087838468453</td><td>1.28043559999102</td></tr>\n",
       "<tr><td>2000-01-08</td><td>3.839368419491931</td><td>0.8844421055332611</td></tr>\n",
       "<tr><td>2000-01-09</td><td>2.260709533338206</td><td>-0.4636141918417884</td></tr>\n",
       "<tr><td>2000-01-10</td><td>1.9078086605776257</td><td>-0.34842125259904694</td></tr>\n",
       "<tr><td>2000-01-11</td><td>2.8014550035823094</td><td>1.033914135929946</td></tr>\n",
       "<tr><td>2000-01-12</td><td>2.0195005302163374</td><td>0.34978745957975726</td></tr>\n",
       "<tr><td>2000-01-13</td><td>0.05075214628562502</td><td>-1.5069484246072804</td></tr>\n",
       "<tr><td>2000-01-14</td><td>-0.9924679505094843</td><td>-3.568714388890293</td></tr>\n",
       "<tr><td>2000-01-15</td><td>-0.11555238473132295</td><td>-1.9647778211912474</td></tr>\n",
       "<tr><td>2000-01-16</td><td>2.4578190564020015</td><td>0.4113640916342742</td></tr>\n",
       "<tr><td>2000-01-17</td><td>3.255621524343132</td><td>-0.3854545460892962</td></tr>\n",
       "<tr><td>2000-01-18</td><td>0.5865690792209494</td><td>-3.1141628524467473</td></tr>\n",
       "<tr><td>2000-01-19</td><td>-0.8864573632740141</td><td>-3.8617127996859177</td></tr>\n",
       "<tr><td>2000-01-20</td><td>-1.310617417659475</td><td>-4.144860814516297</td></tr>\n",
       "</table>\n",
       "only showing top 20 rows\n"
      ],
      "text/plain": [
       "+----------+--------------------+--------------------+\n",
       "|      date|            mean_tmp|            mean_dew|\n",
       "+----------+--------------------+--------------------+\n",
       "|2000-01-01| -0.6913435528855989|  -2.661609555304897|\n",
       "|2000-01-02|  1.6868237187302406| -0.4137352778436681|\n",
       "|2000-01-03|  1.8514730731921183|   -0.81927190840015|\n",
       "|2000-01-04|   1.483537588544491| -1.1463874158779446|\n",
       "|2000-01-05|  0.9789781888679079| -1.2681542806212995|\n",
       "|2000-01-06|   2.552817631606613| -0.2935121658965589|\n",
       "|2000-01-07|  3.8882087838468453|    1.28043559999102|\n",
       "|2000-01-08|   3.839368419491931|  0.8844421055332611|\n",
       "|2000-01-09|   2.260709533338206| -0.4636141918417884|\n",
       "|2000-01-10|  1.9078086605776257|-0.34842125259904694|\n",
       "|2000-01-11|  2.8014550035823094|   1.033914135929946|\n",
       "|2000-01-12|  2.0195005302163374| 0.34978745957975726|\n",
       "|2000-01-13| 0.05075214628562502| -1.5069484246072804|\n",
       "|2000-01-14| -0.9924679505094843|  -3.568714388890293|\n",
       "|2000-01-15|-0.11555238473132295| -1.9647778211912474|\n",
       "|2000-01-16|  2.4578190564020015|  0.4113640916342742|\n",
       "|2000-01-17|   3.255621524343132| -0.3854545460892962|\n",
       "|2000-01-18|  0.5865690792209494| -3.1141628524467473|\n",
       "|2000-01-19| -0.8864573632740141| -3.8617127996859177|\n",
       "|2000-01-20|  -1.310617417659475|  -4.144860814516297|\n",
       "+----------+--------------------+--------------------+\n",
       "only showing top 20 rows"
      ]
     },
     "execution_count": 24,
     "metadata": {},
     "output_type": "execute_result"
    }
   ],
   "source": [
    "# Par jour\n",
    "mean_tmp_by_day = all_stations.groupBy(to_date(\"DATE\").cast(\"date\").alias(\"date\")).agg(mean(\"temperature\").alias(\"mean_tmp\"), mean(\"precipitation\").alias(\"mean_dew\"))\n",
    "mean_tmp_by_day = mean_tmp_by_day.sort(\"date\")\n",
    "mean_tmp_by_day"
   ]
  },
  {
   "cell_type": "code",
   "execution_count": 25,
   "id": "crazy-approach",
   "metadata": {},
   "outputs": [
    {
     "data": {
      "text/html": [
       "<table border='1'>\n",
       "<tr><th>year</th><th>season</th><th>mean_tmp</th></tr>\n",
       "<tr><td>2000</td><td>Autumn</td><td>4.720289722700962</td></tr>\n",
       "<tr><td>2000</td><td>Spring</td><td>8.537327611599503</td></tr>\n",
       "<tr><td>2000</td><td>Summer</td><td>12.729399040020416</td></tr>\n",
       "<tr><td>2000</td><td>Winter</td><td>0.7629455038457351</td></tr>\n",
       "<tr><td>2002</td><td>Autumn</td><td>-2.250965532512785</td></tr>\n",
       "<tr><td>2002</td><td>Spring</td><td>9.633681104914784</td></tr>\n",
       "<tr><td>2002</td><td>Summer</td><td>14.437111945727972</td></tr>\n",
       "<tr><td>2002</td><td>Winter</td><td>-2.177031213023564</td></tr>\n",
       "<tr><td>2004</td><td>Autumn</td><td>1.6442266303804682</td></tr>\n",
       "<tr><td>2004</td><td>Spring</td><td>8.237668406676073</td></tr>\n",
       "<tr><td>2004</td><td>Summer</td><td>13.42072423297247</td></tr>\n",
       "<tr><td>2004</td><td>Winter</td><td>-2.8118121813500343</td></tr>\n",
       "<tr><td>2006</td><td>Autumn</td><td>1.3678204740274695</td></tr>\n",
       "<tr><td>2006</td><td>Spring</td><td>6.669933833905014</td></tr>\n",
       "<tr><td>2006</td><td>Summer</td><td>11.281166458451484</td></tr>\n",
       "<tr><td>2006</td><td>Winter</td><td>-3.180683901938362</td></tr>\n",
       "<tr><td>2008</td><td>Autumn</td><td>0.8409531220685179</td></tr>\n",
       "<tr><td>2008</td><td>Spring</td><td>4.96536309823022</td></tr>\n",
       "<tr><td>2008</td><td>Summer</td><td>10.232671894865536</td></tr>\n",
       "<tr><td>2008</td><td>Winter</td><td>-2.2959847300055203</td></tr>\n",
       "</table>\n",
       "only showing top 20 rows\n"
      ],
      "text/plain": [
       "+----+------+-------------------+\n",
       "|year|season|           mean_tmp|\n",
       "+----+------+-------------------+\n",
       "|2000|Autumn|  4.720289722700962|\n",
       "|2000|Spring|  8.537327611599503|\n",
       "|2000|Summer| 12.729399040020416|\n",
       "|2000|Winter| 0.7629455038457351|\n",
       "|2002|Autumn| -2.250965532512785|\n",
       "|2002|Spring|  9.633681104914784|\n",
       "|2002|Summer| 14.437111945727972|\n",
       "|2002|Winter| -2.177031213023564|\n",
       "|2004|Autumn| 1.6442266303804682|\n",
       "|2004|Spring|  8.237668406676073|\n",
       "|2004|Summer|  13.42072423297247|\n",
       "|2004|Winter|-2.8118121813500343|\n",
       "|2006|Autumn| 1.3678204740274695|\n",
       "|2006|Spring|  6.669933833905014|\n",
       "|2006|Summer| 11.281166458451484|\n",
       "|2006|Winter| -3.180683901938362|\n",
       "|2008|Autumn| 0.8409531220685179|\n",
       "|2008|Spring|   4.96536309823022|\n",
       "|2008|Summer| 10.232671894865536|\n",
       "|2008|Winter|-2.2959847300055203|\n",
       "+----+------+-------------------+\n",
       "only showing top 20 rows"
      ]
     },
     "execution_count": 25,
     "metadata": {},
     "output_type": "execute_result"
    }
   ],
   "source": [
    "# Par saison\n",
    "mean_tmp_by_season = all_stations.groupBy([year(\"DATE\").alias(\"year\"), \"season\"]).agg(mean(\"temperature\").alias(\"mean_tmp\"))\n",
    "mean_tmp_by_season = mean_tmp_by_season.sort(\"year\", \"season\")\n",
    "mean_tmp_by_season"
   ]
  },
  {
   "cell_type": "code",
   "execution_count": 26,
   "id": "cellular-hampshire",
   "metadata": {},
   "outputs": [],
   "source": [
    "# Avec SQL\n",
    "# all_stations.createOrReplaceTempView(\"stations_view\")\n",
    "# spark.sql('''SELECT STATION, year(DATE), month(DATE), month, AVG(temperature)\n",
    "# FROM stations_view\n",
    "# GROUP BY year(DATE), month(DATE)''').show()"
   ]
  },
  {
   "cell_type": "code",
   "execution_count": null,
   "id": "uniform-poetry",
   "metadata": {},
   "outputs": [],
   "source": []
  },
  {
   "cell_type": "markdown",
   "id": "located-creature",
   "metadata": {},
   "source": [
    "## Min/Max des températures par année/mois/journée/saison"
   ]
  },
  {
   "cell_type": "code",
   "execution_count": 27,
   "id": "recent-diagram",
   "metadata": {},
   "outputs": [
    {
     "data": {
      "text/html": [
       "<table border='1'>\n",
       "<tr><th>year</th><th>min_tmp</th><th>max_tmp</th></tr>\n",
       "<tr><td>2000</td><td>-36.4</td><td>39.0</td></tr>\n",
       "<tr><td>2002</td><td>-42.0</td><td>54.0</td></tr>\n",
       "<tr><td>2004</td><td>-38.6</td><td>31.2</td></tr>\n",
       "<tr><td>2006</td><td>-41.3</td><td>41.0</td></tr>\n",
       "<tr><td>2008</td><td>-37.2</td><td>35.0</td></tr>\n",
       "<tr><td>2010</td><td>-42.0</td><td>36.0</td></tr>\n",
       "<tr><td>2012</td><td>-39.4</td><td>42.0</td></tr>\n",
       "<tr><td>2014</td><td>-41.7</td><td>37.4</td></tr>\n",
       "<tr><td>2016</td><td>-42.4</td><td>38.0</td></tr>\n",
       "<tr><td>2018</td><td>-37.8</td><td>33.0</td></tr>\n",
       "</table>\n"
      ],
      "text/plain": [
       "+----+-------+-------+\n",
       "|year|min_tmp|max_tmp|\n",
       "+----+-------+-------+\n",
       "|2000|  -36.4|   39.0|\n",
       "|2002|  -42.0|   54.0|\n",
       "|2004|  -38.6|   31.2|\n",
       "|2006|  -41.3|   41.0|\n",
       "|2008|  -37.2|   35.0|\n",
       "|2010|  -42.0|   36.0|\n",
       "|2012|  -39.4|   42.0|\n",
       "|2014|  -41.7|   37.4|\n",
       "|2016|  -42.4|   38.0|\n",
       "|2018|  -37.8|   33.0|\n",
       "+----+-------+-------+"
      ]
     },
     "execution_count": 27,
     "metadata": {},
     "output_type": "execute_result"
    }
   ],
   "source": [
    "# Par année\n",
    "min_max_tmp_by_year = all_stations.groupBy([year(\"DATE\").alias(\"year\")]).agg(F.min(\"temperature\").alias(\"min_tmp\"), F.max(\"temperature\").alias(\"max_tmp\"))\n",
    "min_max_tmp_by_year = min_max_tmp_by_year.sort(\"year\")\n",
    "min_max_tmp_by_year"
   ]
  },
  {
   "cell_type": "code",
   "execution_count": 28,
   "id": "swiss-surgery",
   "metadata": {},
   "outputs": [
    {
     "data": {
      "text/html": [
       "<table border='1'>\n",
       "<tr><th>year</th><th>month</th><th>min_tmp</th><th>max_tmp</th></tr>\n",
       "<tr><td>2000</td><td>1</td><td>-36.4</td><td>18.6</td></tr>\n",
       "<tr><td>2000</td><td>2</td><td>-31.6</td><td>20.5</td></tr>\n",
       "<tr><td>2000</td><td>3</td><td>-33.2</td><td>30.0</td></tr>\n",
       "<tr><td>2000</td><td>4</td><td>-27.6</td><td>28.1</td></tr>\n",
       "<tr><td>2000</td><td>5</td><td>-13.5</td><td>34.2</td></tr>\n",
       "<tr><td>2000</td><td>6</td><td>-30.0</td><td>32.0</td></tr>\n",
       "<tr><td>2000</td><td>7</td><td>-1.6</td><td>31.0</td></tr>\n",
       "<tr><td>2000</td><td>8</td><td>-2.6</td><td>39.0</td></tr>\n",
       "<tr><td>2000</td><td>9</td><td>-6.0</td><td>26.0</td></tr>\n",
       "<tr><td>2000</td><td>10</td><td>-19.7</td><td>21.6</td></tr>\n",
       "<tr><td>2000</td><td>11</td><td>-30.7</td><td>16.0</td></tr>\n",
       "<tr><td>2000</td><td>12</td><td>-35.9</td><td>18.0</td></tr>\n",
       "<tr><td>2002</td><td>1</td><td>-42.0</td><td>54.0</td></tr>\n",
       "<tr><td>2002</td><td>2</td><td>-34.3</td><td>14.0</td></tr>\n",
       "<tr><td>2002</td><td>3</td><td>-33.0</td><td>29.0</td></tr>\n",
       "<tr><td>2002</td><td>4</td><td>-26.5</td><td>40.0</td></tr>\n",
       "<tr><td>2002</td><td>5</td><td>-20.0</td><td>27.0</td></tr>\n",
       "<tr><td>2002</td><td>6</td><td>-2.3</td><td>30.0</td></tr>\n",
       "<tr><td>2002</td><td>7</td><td>-2.1</td><td>31.2</td></tr>\n",
       "<tr><td>2002</td><td>8</td><td>-10.0</td><td>35.5</td></tr>\n",
       "</table>\n",
       "only showing top 20 rows\n"
      ],
      "text/plain": [
       "+----+-----+-------+-------+\n",
       "|year|month|min_tmp|max_tmp|\n",
       "+----+-----+-------+-------+\n",
       "|2000|    1|  -36.4|   18.6|\n",
       "|2000|    2|  -31.6|   20.5|\n",
       "|2000|    3|  -33.2|   30.0|\n",
       "|2000|    4|  -27.6|   28.1|\n",
       "|2000|    5|  -13.5|   34.2|\n",
       "|2000|    6|  -30.0|   32.0|\n",
       "|2000|    7|   -1.6|   31.0|\n",
       "|2000|    8|   -2.6|   39.0|\n",
       "|2000|    9|   -6.0|   26.0|\n",
       "|2000|   10|  -19.7|   21.6|\n",
       "|2000|   11|  -30.7|   16.0|\n",
       "|2000|   12|  -35.9|   18.0|\n",
       "|2002|    1|  -42.0|   54.0|\n",
       "|2002|    2|  -34.3|   14.0|\n",
       "|2002|    3|  -33.0|   29.0|\n",
       "|2002|    4|  -26.5|   40.0|\n",
       "|2002|    5|  -20.0|   27.0|\n",
       "|2002|    6|   -2.3|   30.0|\n",
       "|2002|    7|   -2.1|   31.2|\n",
       "|2002|    8|  -10.0|   35.5|\n",
       "+----+-----+-------+-------+\n",
       "only showing top 20 rows"
      ]
     },
     "execution_count": 28,
     "metadata": {},
     "output_type": "execute_result"
    }
   ],
   "source": [
    "# Par mois\n",
    "min_max_tmp_by_month = all_stations.groupBy([year(\"DATE\").alias(\"year\"), month(\"DATE\").alias(\"month\")]).agg(F.min(\"temperature\").alias(\"min_tmp\"), F.max(\"temperature\").alias(\"max_tmp\"))\n",
    "min_max_tmp_by_month = min_max_tmp_by_month.sort(\"year\", \"month\")\n",
    "min_max_tmp_by_month"
   ]
  },
  {
   "cell_type": "code",
   "execution_count": 29,
   "id": "determined-commonwealth",
   "metadata": {},
   "outputs": [
    {
     "data": {
      "text/html": [
       "<table border='1'>\n",
       "<tr><th>date</th><th>min_tmp</th><th>max_tmp</th></tr>\n",
       "<tr><td>2000-01-01</td><td>-24.1</td><td>10.3</td></tr>\n",
       "<tr><td>2000-01-02</td><td>-19.1</td><td>11.6</td></tr>\n",
       "<tr><td>2000-01-03</td><td>-21.0</td><td>11.9</td></tr>\n",
       "<tr><td>2000-01-04</td><td>-14.7</td><td>9.2</td></tr>\n",
       "<tr><td>2000-01-05</td><td>-25.5</td><td>11.5</td></tr>\n",
       "<tr><td>2000-01-06</td><td>-25.0</td><td>11.7</td></tr>\n",
       "<tr><td>2000-01-07</td><td>-17.0</td><td>12.0</td></tr>\n",
       "<tr><td>2000-01-08</td><td>-5.6</td><td>10.0</td></tr>\n",
       "<tr><td>2000-01-09</td><td>-11.0</td><td>8.4</td></tr>\n",
       "<tr><td>2000-01-10</td><td>-17.1</td><td>18.0</td></tr>\n",
       "<tr><td>2000-01-11</td><td>-16.2</td><td>18.6</td></tr>\n",
       "<tr><td>2000-01-12</td><td>-24.1</td><td>10.1</td></tr>\n",
       "<tr><td>2000-01-13</td><td>-26.5</td><td>8.4</td></tr>\n",
       "<tr><td>2000-01-14</td><td>-27.0</td><td>8.5</td></tr>\n",
       "<tr><td>2000-01-15</td><td>-23.2</td><td>9.5</td></tr>\n",
       "<tr><td>2000-01-16</td><td>-21.2</td><td>11.6</td></tr>\n",
       "<tr><td>2000-01-17</td><td>-17.4</td><td>13.3</td></tr>\n",
       "<tr><td>2000-01-18</td><td>-24.4</td><td>11.0</td></tr>\n",
       "<tr><td>2000-01-19</td><td>-31.5</td><td>9.5</td></tr>\n",
       "<tr><td>2000-01-20</td><td>-34.8</td><td>9.6</td></tr>\n",
       "</table>\n",
       "only showing top 20 rows\n"
      ],
      "text/plain": [
       "+----------+-------+-------+\n",
       "|      date|min_tmp|max_tmp|\n",
       "+----------+-------+-------+\n",
       "|2000-01-01|  -24.1|   10.3|\n",
       "|2000-01-02|  -19.1|   11.6|\n",
       "|2000-01-03|  -21.0|   11.9|\n",
       "|2000-01-04|  -14.7|    9.2|\n",
       "|2000-01-05|  -25.5|   11.5|\n",
       "|2000-01-06|  -25.0|   11.7|\n",
       "|2000-01-07|  -17.0|   12.0|\n",
       "|2000-01-08|   -5.6|   10.0|\n",
       "|2000-01-09|  -11.0|    8.4|\n",
       "|2000-01-10|  -17.1|   18.0|\n",
       "|2000-01-11|  -16.2|   18.6|\n",
       "|2000-01-12|  -24.1|   10.1|\n",
       "|2000-01-13|  -26.5|    8.4|\n",
       "|2000-01-14|  -27.0|    8.5|\n",
       "|2000-01-15|  -23.2|    9.5|\n",
       "|2000-01-16|  -21.2|   11.6|\n",
       "|2000-01-17|  -17.4|   13.3|\n",
       "|2000-01-18|  -24.4|   11.0|\n",
       "|2000-01-19|  -31.5|    9.5|\n",
       "|2000-01-20|  -34.8|    9.6|\n",
       "+----------+-------+-------+\n",
       "only showing top 20 rows"
      ]
     },
     "execution_count": 29,
     "metadata": {},
     "output_type": "execute_result"
    }
   ],
   "source": [
    "# Par jour\n",
    "min_max_tmp_by_day = all_stations.groupBy(to_date(\"DATE\").cast(\"date\").alias(\"date\")).agg(F.min(\"temperature\").alias(\"min_tmp\"), F.max(\"temperature\").alias(\"max_tmp\"))\n",
    "min_max_tmp_by_day = min_max_tmp_by_day.sort(\"date\")\n",
    "min_max_tmp_by_day"
   ]
  },
  {
   "cell_type": "code",
   "execution_count": 30,
   "id": "respiratory-accordance",
   "metadata": {},
   "outputs": [
    {
     "data": {
      "text/html": [
       "<table border='1'>\n",
       "<tr><th>year</th><th>season</th><th>min_tmp</th><th>max_tmp</th></tr>\n",
       "<tr><td>2000</td><td>Autumn</td><td>-35.9</td><td>21.6</td></tr>\n",
       "<tr><td>2000</td><td>Spring</td><td>-30.0</td><td>34.2</td></tr>\n",
       "<tr><td>2000</td><td>Summer</td><td>-6.0</td><td>39.0</td></tr>\n",
       "<tr><td>2000</td><td>Winter</td><td>-36.4</td><td>30.0</td></tr>\n",
       "<tr><td>2002</td><td>Autumn</td><td>-40.2</td><td>26.9</td></tr>\n",
       "<tr><td>2002</td><td>Spring</td><td>-26.5</td><td>40.0</td></tr>\n",
       "<tr><td>2002</td><td>Summer</td><td>-10.0</td><td>35.5</td></tr>\n",
       "<tr><td>2002</td><td>Winter</td><td>-42.0</td><td>54.0</td></tr>\n",
       "<tr><td>2004</td><td>Autumn</td><td>-34.3</td><td>26.5</td></tr>\n",
       "<tr><td>2004</td><td>Spring</td><td>-24.3</td><td>27.0</td></tr>\n",
       "<tr><td>2004</td><td>Summer</td><td>-12.2</td><td>31.2</td></tr>\n",
       "<tr><td>2004</td><td>Winter</td><td>-38.6</td><td>29.4</td></tr>\n",
       "<tr><td>2006</td><td>Autumn</td><td>-30.3</td><td>27.0</td></tr>\n",
       "<tr><td>2006</td><td>Spring</td><td>-24.6</td><td>33.0</td></tr>\n",
       "<tr><td>2006</td><td>Summer</td><td>-7.8</td><td>41.0</td></tr>\n",
       "<tr><td>2006</td><td>Winter</td><td>-41.3</td><td>25.7</td></tr>\n",
       "<tr><td>2008</td><td>Autumn</td><td>-31.8</td><td>29.0</td></tr>\n",
       "<tr><td>2008</td><td>Spring</td><td>-26.1</td><td>33.0</td></tr>\n",
       "<tr><td>2008</td><td>Summer</td><td>-6.1</td><td>35.0</td></tr>\n",
       "<tr><td>2008</td><td>Winter</td><td>-37.2</td><td>21.0</td></tr>\n",
       "</table>\n",
       "only showing top 20 rows\n"
      ],
      "text/plain": [
       "+----+------+-------+-------+\n",
       "|year|season|min_tmp|max_tmp|\n",
       "+----+------+-------+-------+\n",
       "|2000|Autumn|  -35.9|   21.6|\n",
       "|2000|Spring|  -30.0|   34.2|\n",
       "|2000|Summer|   -6.0|   39.0|\n",
       "|2000|Winter|  -36.4|   30.0|\n",
       "|2002|Autumn|  -40.2|   26.9|\n",
       "|2002|Spring|  -26.5|   40.0|\n",
       "|2002|Summer|  -10.0|   35.5|\n",
       "|2002|Winter|  -42.0|   54.0|\n",
       "|2004|Autumn|  -34.3|   26.5|\n",
       "|2004|Spring|  -24.3|   27.0|\n",
       "|2004|Summer|  -12.2|   31.2|\n",
       "|2004|Winter|  -38.6|   29.4|\n",
       "|2006|Autumn|  -30.3|   27.0|\n",
       "|2006|Spring|  -24.6|   33.0|\n",
       "|2006|Summer|   -7.8|   41.0|\n",
       "|2006|Winter|  -41.3|   25.7|\n",
       "|2008|Autumn|  -31.8|   29.0|\n",
       "|2008|Spring|  -26.1|   33.0|\n",
       "|2008|Summer|   -6.1|   35.0|\n",
       "|2008|Winter|  -37.2|   21.0|\n",
       "+----+------+-------+-------+\n",
       "only showing top 20 rows"
      ]
     },
     "execution_count": 30,
     "metadata": {},
     "output_type": "execute_result"
    }
   ],
   "source": [
    "# Par saison\n",
    "min_max_tmp_by_season = all_stations.groupBy([year(\"DATE\").alias(\"year\"), \"season\"]).agg(F.min(\"temperature\").alias(\"min_tmp\"), F.max(\"temperature\").alias(\"max_tmp\"))\n",
    "min_max_tmp_by_season = min_max_tmp_by_season.sort(\"year\", \"season\")\n",
    "min_max_tmp_by_season"
   ]
  },
  {
   "cell_type": "code",
   "execution_count": 31,
   "id": "focused-approval",
   "metadata": {},
   "outputs": [
    {
     "data": {
      "text/plain": [
       "pyspark.sql.dataframe.DataFrame"
      ]
     },
     "execution_count": 31,
     "metadata": {},
     "output_type": "execute_result"
    }
   ],
   "source": [
    "type(mean_tmp_by_day)"
   ]
  },
  {
   "cell_type": "markdown",
   "id": "dimensional-favor",
   "metadata": {},
   "source": [
    "## Moyenne des Températures et des Elevations (niveau de la mer) par année et par station"
   ]
  },
  {
   "cell_type": "code",
   "execution_count": 32,
   "id": "urban-blackberry",
   "metadata": {},
   "outputs": [
    {
     "data": {
      "text/html": [
       "<table border='1'>\n",
       "<tr><th>year</th><th>STATION</th><th>mean_tmp</th><th>mean_elevation</th></tr>\n",
       "<tr><td>2000</td><td>1052099999</td><td>2.795407672212292</td><td>81.0</td></tr>\n",
       "<tr><td>2000</td><td>1047099999</td><td>-0.2626838228726924</td><td>307.0</td></tr>\n",
       "<tr><td>2000</td><td>2104099999</td><td>0.7085956425148215</td><td>485.0</td></tr>\n",
       "<tr><td>2000</td><td>1282099999</td><td>6.599833437434937</td><td>14.0</td></tr>\n",
       "<tr><td>2000</td><td>1380099999</td><td>2.1158102720681384</td><td>930.0</td></tr>\n",
       "<tr><td>2000</td><td>1274099999</td><td>5.990419589186256</td><td>242.0</td></tr>\n",
       "<tr><td>2000</td><td>1007099999</td><td>-4.319181947098002</td><td>7.700000000000407</td></tr>\n",
       "<tr><td>2000</td><td>1049099999</td><td>3.4205753341466143</td><td>2.7400000000005087</td></tr>\n",
       "<tr><td>2000</td><td>1304099999</td><td>8.538272481974152</td><td>25.0</td></tr>\n",
       "<tr><td>2000</td><td>1199099999</td><td>-1.1789363093095446</td><td>382.0</td></tr>\n",
       "<tr><td>2000</td><td>1008099999</td><td>-3.9285136606808053</td><td>26.82000000000539</td></tr>\n",
       "<tr><td>2000</td><td>1103099999</td><td>-3.33773584242137</td><td>47.0</td></tr>\n",
       "<tr><td>2000</td><td>1423099999</td><td>3.4000000953674316</td><td>50.0</td></tr>\n",
       "<tr><td>2000</td><td>2080099999</td><td>-0.11028069193164508</td><td>331.0</td></tr>\n",
       "<tr><td>2000</td><td>1041099999</td><td>-2.799999952316284</td><td>5.0</td></tr>\n",
       "<tr><td>2000</td><td>2036099999</td><td>-0.6414963572721891</td><td>468.0</td></tr>\n",
       "<tr><td>2000</td><td>1442099999</td><td>7.622238381433683</td><td>211.0</td></tr>\n",
       "<tr><td>2000</td><td>1223099999</td><td>7.721215172876804</td><td>62.16999999999923</td></tr>\n",
       "<tr><td>2000</td><td>1446099999</td><td>3.712513498736881</td><td>714.0</td></tr>\n",
       "<tr><td>2000</td><td>1062099999</td><td>-3.057015254766381</td><td>10.0</td></tr>\n",
       "</table>\n",
       "only showing top 20 rows\n"
      ],
      "text/plain": [
       "+----+----------+--------------------+------------------+\n",
       "|year|   STATION|            mean_tmp|    mean_elevation|\n",
       "+----+----------+--------------------+------------------+\n",
       "|2000|1344099999|    4.83228180881053|             695.0|\n",
       "|2000|1047099999| -0.2626838228726924|             307.0|\n",
       "|2000|1007099999|  -4.319181947098002| 7.700000000000407|\n",
       "|2000|2104099999|  0.7085956425148215|             485.0|\n",
       "|2000|1380099999|  2.1158102720681384|             930.0|\n",
       "|2000|1274099999|   5.990419589186256|             242.0|\n",
       "|2000|2080099999|-0.11028069193164508|             331.0|\n",
       "|2000|1041099999|  -2.799999952316284|               5.0|\n",
       "|2000|1103099999|   -3.33773584242137|              47.0|\n",
       "|2000|1304099999|   8.538272481974152|              25.0|\n",
       "|2000|1282099999|   6.599833437434937|              14.0|\n",
       "|2000|1008099999| -3.9285136606808053| 26.82000000000539|\n",
       "|2000|1442099999|   7.622238381433683|             211.0|\n",
       "|2000|1199099999| -1.1789363093095446|             382.0|\n",
       "|2000|1052099999|   2.795407672212292|              81.0|\n",
       "|2000|1049099999|  3.4205753341466143|2.7400000000005087|\n",
       "|2000|1223099999|   7.721215172876804| 62.16999999999923|\n",
       "|2000|2036099999| -0.6414963572721891|             468.0|\n",
       "|2000|1062099999|  -3.057015254766381|              10.0|\n",
       "|2000|1446099999|   3.712513498736881|             714.0|\n",
       "+----+----------+--------------------+------------------+\n",
       "only showing top 20 rows"
      ]
     },
     "execution_count": 32,
     "metadata": {},
     "output_type": "execute_result"
    }
   ],
   "source": [
    "mean_tmp_elevation_by_year = all_stations.groupBy([year(\"DATE\").alias(\"year\"), \"STATION\"]).agg(mean(\"temperature\").alias(\"mean_tmp\"), mean(\"ELEVATION\").alias(\"mean_elevation\"))\n",
    "mean_tmp_elevation_by_year = mean_tmp_elevation_by_year.sort(\"year\")\n",
    "mean_tmp_elevation_by_year"
   ]
  },
  {
   "cell_type": "code",
   "execution_count": 33,
   "id": "animal-invalid",
   "metadata": {},
   "outputs": [],
   "source": [
    "df_pandas = mean_tmp_elevation_by_year.toPandas()"
   ]
  },
  {
   "cell_type": "code",
   "execution_count": 34,
   "id": "corresponding-custom",
   "metadata": {},
   "outputs": [
    {
     "data": {
      "text/html": [
       "<div>\n",
       "<style scoped>\n",
       "    .dataframe tbody tr th:only-of-type {\n",
       "        vertical-align: middle;\n",
       "    }\n",
       "\n",
       "    .dataframe tbody tr th {\n",
       "        vertical-align: top;\n",
       "    }\n",
       "\n",
       "    .dataframe thead th {\n",
       "        text-align: right;\n",
       "    }\n",
       "</style>\n",
       "<table border=\"1\" class=\"dataframe\">\n",
       "  <thead>\n",
       "    <tr style=\"text-align: right;\">\n",
       "      <th></th>\n",
       "      <th>year</th>\n",
       "      <th>STATION</th>\n",
       "      <th>mean_tmp</th>\n",
       "      <th>mean_elevation</th>\n",
       "    </tr>\n",
       "  </thead>\n",
       "  <tbody>\n",
       "    <tr>\n",
       "      <th>0</th>\n",
       "      <td>2000</td>\n",
       "      <td>2.036100e+09</td>\n",
       "      <td>-0.641496</td>\n",
       "      <td>468.00</td>\n",
       "    </tr>\n",
       "    <tr>\n",
       "      <th>1</th>\n",
       "      <td>2000</td>\n",
       "      <td>1.062100e+09</td>\n",
       "      <td>-3.057015</td>\n",
       "      <td>10.00</td>\n",
       "    </tr>\n",
       "    <tr>\n",
       "      <th>2</th>\n",
       "      <td>2000</td>\n",
       "      <td>1.446100e+09</td>\n",
       "      <td>3.712513</td>\n",
       "      <td>714.00</td>\n",
       "    </tr>\n",
       "    <tr>\n",
       "      <th>3</th>\n",
       "      <td>2000</td>\n",
       "      <td>1.103100e+09</td>\n",
       "      <td>-3.337736</td>\n",
       "      <td>47.00</td>\n",
       "    </tr>\n",
       "    <tr>\n",
       "      <th>4</th>\n",
       "      <td>2000</td>\n",
       "      <td>1.008100e+09</td>\n",
       "      <td>-3.928514</td>\n",
       "      <td>26.82</td>\n",
       "    </tr>\n",
       "  </tbody>\n",
       "</table>\n",
       "</div>"
      ],
      "text/plain": [
       "   year       STATION  mean_tmp  mean_elevation\n",
       "0  2000  2.036100e+09 -0.641496          468.00\n",
       "1  2000  1.062100e+09 -3.057015           10.00\n",
       "2  2000  1.446100e+09  3.712513          714.00\n",
       "3  2000  1.103100e+09 -3.337736           47.00\n",
       "4  2000  1.008100e+09 -3.928514           26.82"
      ]
     },
     "execution_count": 34,
     "metadata": {},
     "output_type": "execute_result"
    }
   ],
   "source": [
    "df_pandas.head()"
   ]
  },
  {
   "cell_type": "code",
   "execution_count": 35,
   "id": "exceptional-plain",
   "metadata": {},
   "outputs": [],
   "source": [
    "import seaborn as sns\n",
    "%matplotlib inline"
   ]
  },
  {
   "cell_type": "code",
   "execution_count": 33,
   "id": "medium-permit",
   "metadata": {},
   "outputs": [
    {
     "data": {
      "image/png": "[encoded data removed]",
      "text/plain": [
       "<Figure size 421.5x360 with 1 Axes>"
      ]
     },
     "metadata": {
      "needs_background": "light"
     },
     "output_type": "display_data"
    }
   ],
   "source": [
    "g = sns.relplot(x=\"mean_tmp\", y=\"mean_elevation\", hue=\"year\", data=df_pandas, palette ='magma')\n"
   ]
  },
  {
   "cell_type": "code",
   "execution_count": null,
   "id": "detailed-vehicle",
   "metadata": {},
   "outputs": [],
   "source": []
  },
  {
   "cell_type": "markdown",
   "id": "wrong-scheduling",
   "metadata": {},
   "source": [
    "## Moyenne des précipitations par année/mois/journée/saison"
   ]
  },
  {
   "cell_type": "code",
   "execution_count": 36,
   "id": "personal-myanmar",
   "metadata": {},
   "outputs": [
    {
     "data": {
      "text/html": [
       "<table border='1'>\n",
       "<tr><th>year</th><th>mean_dew</th></tr>\n",
       "<tr><td>2000</td><td>3.3976029699797183</td></tr>\n",
       "<tr><td>2002</td><td>1.1699431880681324</td></tr>\n",
       "<tr><td>2004</td><td>1.3705745875269004</td></tr>\n",
       "<tr><td>2006</td><td>0.06400380370757716</td></tr>\n",
       "<tr><td>2008</td><td>-0.5769365603211875</td></tr>\n",
       "<tr><td>2010</td><td>-1.5306842123999715</td></tr>\n",
       "<tr><td>2012</td><td>-1.0557326189705005</td></tr>\n",
       "<tr><td>2014</td><td>-1.1412107132447464</td></tr>\n",
       "<tr><td>2016</td><td>-0.9859972284280087</td></tr>\n",
       "<tr><td>2018</td><td>-1.544628024069679</td></tr>\n",
       "</table>\n"
      ],
      "text/plain": [
       "+----+-------------------+\n",
       "|year|           mean_dew|\n",
       "+----+-------------------+\n",
       "|2000| 3.3976029699797183|\n",
       "|2002| 1.1699431880681324|\n",
       "|2004| 1.3705745875269004|\n",
       "|2006|0.06400380370757716|\n",
       "|2008|-0.5769365603211875|\n",
       "|2010|-1.5306842123999715|\n",
       "|2012|-1.0557326189705005|\n",
       "|2014|-1.1412107132447464|\n",
       "|2016|-0.9859972284280087|\n",
       "|2018| -1.544628024069679|\n",
       "+----+-------------------+"
      ]
     },
     "execution_count": 36,
     "metadata": {},
     "output_type": "execute_result"
    }
   ],
   "source": [
    "# Par année\n",
    "mean_dew_by_year = all_stations.groupBy([year(\"DATE\").alias(\"year\")]).agg(mean(\"precipitation\").alias(\"mean_dew\"))\n",
    "mean_dew_by_year = mean_dew_by_year.sort(\"year\")\n",
    "mean_dew_by_year"
   ]
  },
  {
   "cell_type": "code",
   "execution_count": 37,
   "id": "happy-miniature",
   "metadata": {},
   "outputs": [
    {
     "data": {
      "text/html": [
       "<table border='1'>\n",
       "<tr><th>year</th><th>month</th><th>mean_dew</th></tr>\n",
       "<tr><td>2000</td><td>1</td><td>-2.22585739342567</td></tr>\n",
       "<tr><td>2000</td><td>2</td><td>-2.223443110113843</td></tr>\n",
       "<tr><td>2000</td><td>3</td><td>-2.1909402819660304</td></tr>\n",
       "<tr><td>2000</td><td>4</td><td>0.7374987902612976</td></tr>\n",
       "<tr><td>2000</td><td>5</td><td>4.288623330527115</td></tr>\n",
       "<tr><td>2000</td><td>6</td><td>7.0469047289418825</td></tr>\n",
       "<tr><td>2000</td><td>7</td><td>10.124199817993109</td></tr>\n",
       "<tr><td>2000</td><td>8</td><td>10.294106408377466</td></tr>\n",
       "<tr><td>2000</td><td>9</td><td>7.471645181153495</td></tr>\n",
       "<tr><td>2000</td><td>10</td><td>5.971984277996696</td></tr>\n",
       "<tr><td>2000</td><td>11</td><td>2.286044613859927</td></tr>\n",
       "<tr><td>2000</td><td>12</td><td>-0.8555268651601662</td></tr>\n",
       "<tr><td>2002</td><td>1</td><td>-5.719870571702699</td></tr>\n",
       "<tr><td>2002</td><td>2</td><td>-4.285594094094148</td></tr>\n",
       "<tr><td>2002</td><td>3</td><td>-4.542583170134538</td></tr>\n",
       "<tr><td>2002</td><td>4</td><td>-0.2259444787413516</td></tr>\n",
       "<tr><td>2002</td><td>5</td><td>3.406402189398921</td></tr>\n",
       "<tr><td>2002</td><td>6</td><td>8.403791364693804</td></tr>\n",
       "<tr><td>2002</td><td>7</td><td>11.836434975486565</td></tr>\n",
       "<tr><td>2002</td><td>8</td><td>12.040396488048026</td></tr>\n",
       "</table>\n",
       "only showing top 20 rows\n"
      ],
      "text/plain": [
       "+----+-----+-------------------+\n",
       "|year|month|           mean_dew|\n",
       "+----+-----+-------------------+\n",
       "|2000|    1|  -2.22585739342567|\n",
       "|2000|    2| -2.223443110113843|\n",
       "|2000|    3|-2.1909402819660304|\n",
       "|2000|    4| 0.7374987902612976|\n",
       "|2000|    5|  4.288623330527115|\n",
       "|2000|    6| 7.0469047289418825|\n",
       "|2000|    7| 10.124199817993109|\n",
       "|2000|    8| 10.294106408377466|\n",
       "|2000|    9|  7.471645181153495|\n",
       "|2000|   10|  5.971984277996696|\n",
       "|2000|   11|  2.286044613859927|\n",
       "|2000|   12|-0.8555268651601662|\n",
       "|2002|    1| -5.719870571702699|\n",
       "|2002|    2| -4.285594094094148|\n",
       "|2002|    3| -4.542583170134538|\n",
       "|2002|    4|-0.2259444787413516|\n",
       "|2002|    5|  3.406402189398921|\n",
       "|2002|    6|  8.403791364693804|\n",
       "|2002|    7| 11.836434975486565|\n",
       "|2002|    8| 12.040396488048026|\n",
       "+----+-----+-------------------+\n",
       "only showing top 20 rows"
      ]
     },
     "execution_count": 37,
     "metadata": {},
     "output_type": "execute_result"
    }
   ],
   "source": [
    "# Par mois\n",
    "mean_dew_by_month = all_stations.groupBy([year(\"DATE\").alias(\"year\"), month(\"DATE\").alias(\"month\")]).agg(mean(\"precipitation\").alias(\"mean_dew\"))\n",
    "mean_dew_by_month = mean_dew_by_month.sort(\"year\", \"month\")\n",
    "mean_dew_by_month"
   ]
  },
  {
   "cell_type": "code",
   "execution_count": 38,
   "id": "material-stick",
   "metadata": {},
   "outputs": [
    {
     "data": {
      "text/html": [
       "<table border='1'>\n",
       "<tr><th>date</th><th>mean_dew</th></tr>\n",
       "<tr><td>2000-01-01</td><td>-2.661609555304897</td></tr>\n",
       "<tr><td>2000-01-02</td><td>-0.4137352778436681</td></tr>\n",
       "<tr><td>2000-01-03</td><td>-0.81927190840015</td></tr>\n",
       "<tr><td>2000-01-04</td><td>-1.1463874158779446</td></tr>\n",
       "<tr><td>2000-01-05</td><td>-1.2681542806212995</td></tr>\n",
       "<tr><td>2000-01-06</td><td>-0.2935121658965589</td></tr>\n",
       "<tr><td>2000-01-07</td><td>1.28043559999102</td></tr>\n",
       "<tr><td>2000-01-08</td><td>0.8844421055332611</td></tr>\n",
       "<tr><td>2000-01-09</td><td>-0.4636141918417884</td></tr>\n",
       "<tr><td>2000-01-10</td><td>-0.34842125259904694</td></tr>\n",
       "<tr><td>2000-01-11</td><td>1.033914135929946</td></tr>\n",
       "<tr><td>2000-01-12</td><td>0.34978745957975726</td></tr>\n",
       "<tr><td>2000-01-13</td><td>-1.5069484246072804</td></tr>\n",
       "<tr><td>2000-01-14</td><td>-3.568714388890293</td></tr>\n",
       "<tr><td>2000-01-15</td><td>-1.9647778211912474</td></tr>\n",
       "<tr><td>2000-01-16</td><td>0.4113640916342742</td></tr>\n",
       "<tr><td>2000-01-17</td><td>-0.3854545460892962</td></tr>\n",
       "<tr><td>2000-01-18</td><td>-3.1141628524467473</td></tr>\n",
       "<tr><td>2000-01-19</td><td>-3.8617127996859177</td></tr>\n",
       "<tr><td>2000-01-20</td><td>-4.144860814516297</td></tr>\n",
       "</table>\n",
       "only showing top 20 rows\n"
      ],
      "text/plain": [
       "+----------+--------------------+\n",
       "|      date|            mean_dew|\n",
       "+----------+--------------------+\n",
       "|2000-01-01|  -2.661609555304897|\n",
       "|2000-01-02| -0.4137352778436681|\n",
       "|2000-01-03|   -0.81927190840015|\n",
       "|2000-01-04| -1.1463874158779446|\n",
       "|2000-01-05| -1.2681542806212995|\n",
       "|2000-01-06| -0.2935121658965589|\n",
       "|2000-01-07|    1.28043559999102|\n",
       "|2000-01-08|  0.8844421055332611|\n",
       "|2000-01-09| -0.4636141918417884|\n",
       "|2000-01-10|-0.34842125259904694|\n",
       "|2000-01-11|   1.033914135929946|\n",
       "|2000-01-12| 0.34978745957975726|\n",
       "|2000-01-13| -1.5069484246072804|\n",
       "|2000-01-14|  -3.568714388890293|\n",
       "|2000-01-15| -1.9647778211912474|\n",
       "|2000-01-16|  0.4113640916342742|\n",
       "|2000-01-17| -0.3854545460892962|\n",
       "|2000-01-18| -3.1141628524467473|\n",
       "|2000-01-19| -3.8617127996859177|\n",
       "|2000-01-20|  -4.144860814516297|\n",
       "+----------+--------------------+\n",
       "only showing top 20 rows"
      ]
     },
     "execution_count": 38,
     "metadata": {},
     "output_type": "execute_result"
    }
   ],
   "source": [
    "# Par jour\n",
    "mean_dew_by_day = all_stations.groupBy(to_date(\"DATE\").cast(\"date\").alias(\"date\")).agg(mean(\"precipitation\").alias(\"mean_dew\"))\n",
    "mean_dew_by_day = mean_dew_by_day.sort(\"date\")\n",
    "mean_dew_by_day"
   ]
  },
  {
   "cell_type": "code",
   "execution_count": 39,
   "id": "contemporary-prairie",
   "metadata": {},
   "outputs": [
    {
     "data": {
      "text/html": [
       "<table border='1'>\n",
       "<tr><th>year</th><th>season</th><th>mean_dew</th></tr>\n",
       "<tr><td>2000</td><td>Autumn</td><td>2.4943389161915266</td></tr>\n",
       "<tr><td>2000</td><td>Spring</td><td>4.044186724388636</td></tr>\n",
       "<tr><td>2000</td><td>Summer</td><td>9.301643358178655</td></tr>\n",
       "<tr><td>2000</td><td>Winter</td><td>-2.2132236443830866</td></tr>\n",
       "<tr><td>2002</td><td>Autumn</td><td>-4.850687951480845</td></tr>\n",
       "<tr><td>2002</td><td>Spring</td><td>3.9325055437478187</td></tr>\n",
       "<tr><td>2002</td><td>Summer</td><td>9.950273595478293</td></tr>\n",
       "<tr><td>2002</td><td>Winter</td><td>-4.869713861757881</td></tr>\n",
       "<tr><td>2004</td><td>Autumn</td><td>-0.8682852488262387</td></tr>\n",
       "<tr><td>2004</td><td>Spring</td><td>2.667493256095658</td></tr>\n",
       "<tr><td>2004</td><td>Summer</td><td>9.312001340503034</td></tr>\n",
       "<tr><td>2004</td><td>Winter</td><td>-5.713015959553799</td></tr>\n",
       "<tr><td>2006</td><td>Autumn</td><td>-1.9752817642099927</td></tr>\n",
       "<tr><td>2006</td><td>Spring</td><td>1.430828230696672</td></tr>\n",
       "<tr><td>2006</td><td>Summer</td><td>7.523902006035297</td></tr>\n",
       "<tr><td>2006</td><td>Winter</td><td>-7.35633768562161</td></tr>\n",
       "<tr><td>2008</td><td>Autumn</td><td>-2.5766316570397123</td></tr>\n",
       "<tr><td>2008</td><td>Spring</td><td>0.012964068028363888</td></tr>\n",
       "<tr><td>2008</td><td>Summer</td><td>6.21349617369357</td></tr>\n",
       "<tr><td>2008</td><td>Winter</td><td>-6.280304578508282</td></tr>\n",
       "</table>\n",
       "only showing top 20 rows\n"
      ],
      "text/plain": [
       "+----+------+--------------------+\n",
       "|year|season|            mean_dew|\n",
       "+----+------+--------------------+\n",
       "|2000|Autumn|  2.4943389161915266|\n",
       "|2000|Spring|   4.044186724388636|\n",
       "|2000|Summer|   9.301643358178655|\n",
       "|2000|Winter| -2.2132236443830866|\n",
       "|2002|Autumn|  -4.850687951480845|\n",
       "|2002|Spring|  3.9325055437478187|\n",
       "|2002|Summer|   9.950273595478293|\n",
       "|2002|Winter|  -4.869713861757881|\n",
       "|2004|Autumn| -0.8682852488262387|\n",
       "|2004|Spring|   2.667493256095658|\n",
       "|2004|Summer|   9.312001340503034|\n",
       "|2004|Winter|  -5.713015959553799|\n",
       "|2006|Autumn| -1.9752817642099927|\n",
       "|2006|Spring|   1.430828230696672|\n",
       "|2006|Summer|   7.523902006035297|\n",
       "|2006|Winter|   -7.35633768562161|\n",
       "|2008|Autumn| -2.5766316570397123|\n",
       "|2008|Spring|0.012964068028363888|\n",
       "|2008|Summer|    6.21349617369357|\n",
       "|2008|Winter|  -6.280304578508282|\n",
       "+----+------+--------------------+\n",
       "only showing top 20 rows"
      ]
     },
     "execution_count": 39,
     "metadata": {},
     "output_type": "execute_result"
    }
   ],
   "source": [
    "# Par saison\n",
    "mean_dew_by_season = all_stations.groupBy([year(\"DATE\").alias(\"year\"), \"season\"]).agg(mean(\"precipitation\").alias(\"mean_dew\"))\n",
    "mean_dew_by_season = mean_dew_by_season.sort(\"year\", \"season\")\n",
    "mean_dew_by_season"
   ]
  },
  {
   "cell_type": "code",
   "execution_count": null,
   "id": "whole-burns",
   "metadata": {},
   "outputs": [],
   "source": []
  },
  {
   "cell_type": "markdown",
   "id": "specialized-selling",
   "metadata": {},
   "source": [
    "## Moyenne des Températures et des précipitations par année et par mois"
   ]
  },
  {
   "cell_type": "code",
   "execution_count": 40,
   "id": "religious-turtle",
   "metadata": {},
   "outputs": [
    {
     "data": {
      "text/html": [
       "<table border='1'>\n",
       "<tr><th>year</th><th>month</th><th>mean_tmp</th><th>mean_dew</th></tr>\n",
       "<tr><td>2000</td><td>1</td><td>0.3074673309805384</td><td>-2.22585739342567</td></tr>\n",
       "<tr><td>2000</td><td>2</td><td>0.36254681658216736</td><td>-2.223443110113843</td></tr>\n",
       "<tr><td>2000</td><td>3</td><td>1.596641281798461</td><td>-2.1909402819660304</td></tr>\n",
       "<tr><td>2000</td><td>4</td><td>4.482280090297883</td><td>0.7374987902612976</td></tr>\n",
       "<tr><td>2000</td><td>5</td><td>9.460334322288798</td><td>4.288623330527115</td></tr>\n",
       "<tr><td>2000</td><td>6</td><td>11.581003816287653</td><td>7.0469047289418825</td></tr>\n",
       "<tr><td>2000</td><td>7</td><td>13.813049385753972</td><td>10.124199817993109</td></tr>\n",
       "<tr><td>2000</td><td>8</td><td>13.543284406689663</td><td>10.294106408377466</td></tr>\n",
       "<tr><td>2000</td><td>9</td><td>10.82036165711583</td><td>7.471645181153495</td></tr>\n",
       "<tr><td>2000</td><td>10</td><td>8.544176122778072</td><td>5.971984277996696</td></tr>\n",
       "<tr><td>2000</td><td>11</td><td>4.450797424251913</td><td>2.286044613859927</td></tr>\n",
       "<tr><td>2000</td><td>12</td><td>1.0759706408657521</td><td>-0.8555268651601662</td></tr>\n",
       "<tr><td>2002</td><td>1</td><td>-3.668251957641731</td><td>-5.719870571702699</td></tr>\n",
       "<tr><td>2002</td><td>2</td><td>-1.8177546478406172</td><td>-4.285594094094148</td></tr>\n",
       "<tr><td>2002</td><td>3</td><td>-0.9669351506960264</td><td>-4.542583170134538</td></tr>\n",
       "<tr><td>2002</td><td>4</td><td>4.470171429316686</td><td>-0.2259444787413516</td></tr>\n",
       "<tr><td>2002</td><td>5</td><td>9.881339068366945</td><td>3.406402189398921</td></tr>\n",
       "<tr><td>2002</td><td>6</td><td>14.297700221616486</td><td>8.403791364693804</td></tr>\n",
       "<tr><td>2002</td><td>7</td><td>16.25674364171651</td><td>11.836434975486565</td></tr>\n",
       "<tr><td>2002</td><td>8</td><td>17.01540554933766</td><td>12.040396488048026</td></tr>\n",
       "</table>\n",
       "only showing top 20 rows\n"
      ],
      "text/plain": [
       "+----+-----+-------------------+-------------------+\n",
       "|year|month|           mean_tmp|           mean_dew|\n",
       "+----+-----+-------------------+-------------------+\n",
       "|2000|    1| 0.3074673309805384|  -2.22585739342567|\n",
       "|2000|    2|0.36254681658216736| -2.223443110113843|\n",
       "|2000|    3|  1.596641281798461|-2.1909402819660304|\n",
       "|2000|    4|  4.482280090297883| 0.7374987902612976|\n",
       "|2000|    5|  9.460334322288798|  4.288623330527115|\n",
       "|2000|    6| 11.581003816287653| 7.0469047289418825|\n",
       "|2000|    7| 13.813049385753972| 10.124199817993109|\n",
       "|2000|    8| 13.543284406689663| 10.294106408377466|\n",
       "|2000|    9|  10.82036165711583|  7.471645181153495|\n",
       "|2000|   10|  8.544176122778072|  5.971984277996696|\n",
       "|2000|   11|  4.450797424251913|  2.286044613859927|\n",
       "|2000|   12| 1.0759706408657521|-0.8555268651601662|\n",
       "|2002|    1| -3.668251957641731| -5.719870571702699|\n",
       "|2002|    2|-1.8177546478406172| -4.285594094094148|\n",
       "|2002|    3|-0.9669351506960264| -4.542583170134538|\n",
       "|2002|    4|  4.470171429316686|-0.2259444787413516|\n",
       "|2002|    5|  9.881339068366945|  3.406402189398921|\n",
       "|2002|    6| 14.297700221616486|  8.403791364693804|\n",
       "|2002|    7|  16.25674364171651| 11.836434975486565|\n",
       "|2002|    8|  17.01540554933766| 12.040396488048026|\n",
       "+----+-----+-------------------+-------------------+\n",
       "only showing top 20 rows"
      ]
     },
     "execution_count": 40,
     "metadata": {},
     "output_type": "execute_result"
    }
   ],
   "source": [
    "mean_dew_elevation_by_year = all_stations.groupBy([year(\"DATE\").alias(\"year\"), month(\"DATE\").alias(\"month\")]).agg(mean(\"temperature\").alias(\"mean_tmp\"), mean(\"precipitation\").alias(\"mean_dew\"))\n",
    "mean_dew_elevation_by_year = mean_dew_elevation_by_year.sort(\"year\", \"month\")\n",
    "mean_dew_elevation_by_year"
   ]
  },
  {
   "cell_type": "markdown",
   "id": "matched-radio",
   "metadata": {},
   "source": []
  },
  {
   "cell_type": "code",
   "execution_count": 41,
   "id": "split-screen",
   "metadata": {},
   "outputs": [],
   "source": [
    "from functools import reduce"
   ]
  },
  {
   "cell_type": "code",
   "execution_count": 42,
   "id": "mobile-farmer",
   "metadata": {},
   "outputs": [],
   "source": [
    "from tqdm.notebook import tqdm\n",
    "def add(num):\n",
    "    return reduce(lambda x,y: x+y, tqdm(range(num+1))) if type(num) == int else 0"
   ]
  },
  {
   "cell_type": "code",
   "execution_count": 43,
   "id": "boolean-mainstream",
   "metadata": {
    "scrolled": true
   },
   "outputs": [
    {
     "data": {
      "application/vnd.jupyter.widget-view+json": {
       "model_id": "6ef3f510c0b0443fb988b9655aabc3f7",
       "version_major": 2,
       "version_minor": 0
      },
      "text/plain": [
       "  0%|          | 0/50000001 [00:00<?, ?it/s]"
      ]
     },
     "metadata": {},
     "output_type": "display_data"
    },
    {
     "data": {
      "text/plain": [
       "1250000025000000"
      ]
     },
     "execution_count": 43,
     "metadata": {},
     "output_type": "execute_result"
    }
   ],
   "source": [
    "add(50000000)"
   ]
  },
  {
   "cell_type": "code",
   "execution_count": 119,
   "id": "played-perception",
   "metadata": {},
   "outputs": [
    {
     "name": "stdout",
     "output_type": "stream",
     "text": [
      "+--------------------+-------------------+\n",
      "|            features|           mean_dew|\n",
      "+--------------------+-------------------+\n",
      "|[-0.6913435528855...| -2.661609555304897|\n",
      "|[1.6868237187302406]|-0.4137352778436681|\n",
      "|[1.8514730731921183]|  -0.81927190840015|\n",
      "+--------------------+-------------------+\n",
      "only showing top 3 rows\n",
      "\n"
     ]
    }
   ],
   "source": [
    "from pyspark.ml.regression import LinearRegression\n",
    "from pyspark.ml.feature import VectorAssembler\n",
    "\n",
    "# Load training data\n",
    "training = mean_tmp_by_day\n",
    "\n",
    "vectorAssembler = VectorAssembler(inputCols = [\"mean_tmp\"], outputCol = 'features')\n",
    "v_training = vectorAssembler.transform(training)\n",
    "v_training = v_training.select(['features', 'mean_dew'])\n",
    "v_training.show(3)\n",
    "\n",
    "\n"
   ]
  },
  {
   "cell_type": "code",
   "execution_count": 120,
   "id": "periodic-skiing",
   "metadata": {},
   "outputs": [],
   "source": [
    "splits = v_training.randomSplit([0.7, 0.3])\n",
    "train_df = splits[0]\n",
    "test_df = splits[1]"
   ]
  },
  {
   "cell_type": "code",
   "execution_count": 122,
   "id": "primary-slope",
   "metadata": {},
   "outputs": [
    {
     "name": "stdout",
     "output_type": "stream",
     "text": [
      "Coefficients: [0.9045439527710389]\n",
      "Intercept: -3.4061386621643788\n"
     ]
    }
   ],
   "source": [
    "lr = LinearRegression(featuresCol = 'features', labelCol='mean_dew', maxIter=10, regParam=0.3, elasticNetParam=0.8)\n",
    "\n",
    "# Fit the model\n",
    "lrModel = lr.fit(train_df)\n",
    "\n",
    "# Print the coefficients and intercept for linear regression\n",
    "print(\"Coefficients: %s\" % str(lrModel.coefficients))\n",
    "print(\"Intercept: %s\" % str(lrModel.intercept))"
   ]
  },
  {
   "cell_type": "code",
   "execution_count": null,
   "id": "junior-bouquet",
   "metadata": {},
   "outputs": [],
   "source": []
  },
  {
   "cell_type": "code",
   "execution_count": 123,
   "id": "incident-malta",
   "metadata": {},
   "outputs": [
    {
     "name": "stdout",
     "output_type": "stream",
     "text": [
      "RMSE: 1.216172\n",
      "r2: 0.964447\n"
     ]
    }
   ],
   "source": [
    "# Summarize the model over the training set and print out some metrics\n",
    "trainingSummary = lrModel.summary\n",
    "print(\"RMSE: %f\" % trainingSummary.rootMeanSquaredError)\n",
    "print(\"r2: %f\" % trainingSummary.r2)"
   ]
  },
  {
   "cell_type": "code",
   "execution_count": 124,
   "id": "stylish-status",
   "metadata": {},
   "outputs": [
    {
     "name": "stdout",
     "output_type": "stream",
     "text": [
      "+-------+--------------------+\n",
      "|summary|            mean_dew|\n",
      "+-------+--------------------+\n",
      "|  count|                2567|\n",
      "|   mean|-0.10872256165914682|\n",
      "| stddev|  6.4512504170886045|\n",
      "|    min|  -16.80887826686047|\n",
      "|    max|   15.18383820859167|\n",
      "+-------+--------------------+\n",
      "\n"
     ]
    }
   ],
   "source": [
    "train_df.describe().show()"
   ]
  },
  {
   "cell_type": "code",
   "execution_count": 129,
   "id": "hidden-stephen",
   "metadata": {},
   "outputs": [
    {
     "name": "stdout",
     "output_type": "stream",
     "text": [
      "+-------------------+--------------------+--------------------+\n",
      "|         prediction|            mean_dew|            features|\n",
      "+-------------------+--------------------+--------------------+\n",
      "| -4.207978309503249| -3.8617127996859177|[-0.8864573632740...|\n",
      "| -4.031489292214292|  -2.661609555304897|[-0.6913435528855...|\n",
      "|-3.5106608730013695| -1.9647778211912474|[-0.1155523847313...|\n",
      "|-3.3602311151515654| -1.5069484246072804|[0.05075214628562...|\n",
      "|-2.8755611486725927| -3.1141628524467473|[0.5865690792209494]|\n",
      "|-2.0642137077379297| -1.1463874158779446| [1.483537588544491]|\n",
      "| -1.680441875194672|-0.34842125259904694|[1.9078086605776257]|\n",
      "|-0.8720994797138317|   1.033914135929946|[2.8014550035823094]|\n",
      "|0.11091708037552062|    1.28043559999102|[3.8882087838468453]|\n",
      "| -8.231699517942934|  -7.792093793258402|[-5.334799752953538]|\n",
      "| -7.157243801826258|  -6.061637010656005|[-4.146957290655141]|\n",
      "| -6.790238085997596|   -7.29052670257767|[-3.741221654808643]|\n",
      "|-3.4953397740848215| -2.7774899606783707|[-0.0986144583103...|\n",
      "|-3.0378871542019454| -2.0641254823917827|[0.4071128957684232]|\n",
      "|-2.8311351816984818| -2.3133044086278174|[0.6356832951062177]|\n",
      "|-0.5333258359472253|  1.2095331815805168| [3.175979251662002]|\n",
      "| -5.984841958565353|  -5.549468402424033|[-2.850832497968956]|\n",
      "| -5.938393306634174|    -5.3202321423364|[-2.7994821442477...|\n",
      "|-1.9062069036555975| -1.0980274960855891|[1.6582187674947055]|\n",
      "|  -1.46854417796033| -0.8360401834215065|[2.1420678102686943]|\n",
      "+-------------------+--------------------+--------------------+\n",
      "only showing top 20 rows\n",
      "\n",
      "R Squared (R2) on test data = 0.963415\n"
     ]
    }
   ],
   "source": [
    "lr_predictions = lrModel.transform(test_df)\n",
    "lr_predictions.select(\"prediction\",\"mean_dew\",\"features\").show()\n",
    "\n",
    "from pyspark.ml.evaluation import RegressionEvaluator\n",
    "lr_evaluator = RegressionEvaluator(predictionCol=\"prediction\", \\\n",
    "                 labelCol=\"mean_dew\",metricName=\"r2\")\n",
    "print(\"R Squared (R2) on test data = %g\" % lr_evaluator.evaluate(lr_predictions))"
   ]
  },
  {
   "cell_type": "code",
   "execution_count": 128,
   "id": "supreme-martial",
   "metadata": {},
   "outputs": [
    {
     "name": "stdout",
     "output_type": "stream",
     "text": [
      "Root Mean Squared Error (RMSE) on test data = 1.22827\n"
     ]
    }
   ],
   "source": [
    "test_result = lrModel.evaluate(test_df)\n",
    "print(\"Root Mean Squared Error (RMSE) on test data = %g\" % test_result.rootMeanSquaredError)"
   ]
  },
  {
   "cell_type": "markdown",
   "id": "centered-spank",
   "metadata": {},
   "source": [
    "## Choses à faire\n"
   ]
  },
  {
   "cell_type": "markdown",
   "id": "aggressive-springfield",
   "metadata": {},
   "source": [
    "0) Faire valider le 1er modele par Sayf\n",
    "1) Arrondir toutes les valeurs\n",
    "2) Refaire le split (train/test)\n",
    "3) D'autres algos : bataille d'I.A.\n",
    "4) Voir d'autres prédictions prtinentes à faire"
   ]
  },
  {
   "cell_type": "code",
   "execution_count": null,
   "id": "lined-founder",
   "metadata": {},
   "outputs": [],
   "source": []
  }
 ],
 "metadata": {
  "kernelspec": {
   "display_name": "Python 3 (ipykernel)",
   "language": "python",
   "name": "python3"
  },
  "language_info": {
   "codemirror_mode": {
    "name": "ipython",
    "version": 3
   },
   "file_extension": ".py",
   "mimetype": "text/x-python",
   "name": "python",
   "nbconvert_exporter": "python",
   "pygments_lexer": "ipython3",
   "version": "3.9.12"
  },
  "vscode": {
   "interpreter": {
    "hash": "1244337e113376ace9d3ba28cc3e967d40de6258f2c07417df8728b537bd2ce4"
   }
  }
 },
 "nbformat": 4,
 "nbformat_minor": 5
}
