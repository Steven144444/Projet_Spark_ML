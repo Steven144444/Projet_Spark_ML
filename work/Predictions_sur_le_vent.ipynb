{
 "cells": [
  {
   "cell_type": "code",
   "execution_count": 2,
   "id": "extra-vector",
   "metadata": {},
   "outputs": [],
   "source": [
    "from pyspark.sql import SparkSession\n",
    "from pyspark.sql.types import *\n",
    "from pyspark.sql import functions as F\n",
    "from pyspark.sql.types import *\n",
    "from pyspark.sql.functions import udf, hour, mean, month, year, to_date\n",
    "from pyspark.sql.window import Window\n",
    "from tqdm.notebook import tqdm\n",
    "from matplotlib import pyplot as plt"
   ]
  },
  {
   "cell_type": "code",
   "execution_count": 3,
   "id": "increasing-japanese",
   "metadata": {},
   "outputs": [],
   "source": [
    "#!pip install tqdm"
   ]
  },
  {
   "cell_type": "code",
   "execution_count": 4,
   "id": "unlimited-sight",
   "metadata": {},
   "outputs": [],
   "source": [
    "spark = SparkSession.builder.getOrCreate()"
   ]
  },
  {
   "cell_type": "code",
   "execution_count": 5,
   "id": "massive-environment",
   "metadata": {},
   "outputs": [],
   "source": [
    "spark.conf.set('spark.sql.repl.eagerEval.enabled', True)"
   ]
  },
  {
   "cell_type": "code",
   "execution_count": 6,
   "id": "operational-measurement",
   "metadata": {},
   "outputs": [
    {
     "data": {
      "text/html": [
       "\n",
       "            <div>\n",
       "                <p><b>SparkSession - in-memory</b></p>\n",
       "                \n",
       "        <div>\n",
       "            <p><b>SparkContext</b></p>\n",
       "\n",
       "            <p><a href=\"http://0d27e9d600f8:4040\">Spark UI</a></p>\n",
       "\n",
       "            <dl>\n",
       "              <dt>Version</dt>\n",
       "                <dd><code>v3.2.1</code></dd>\n",
       "              <dt>Master</dt>\n",
       "                <dd><code>local[*]</code></dd>\n",
       "              <dt>AppName</dt>\n",
       "                <dd><code>pyspark-shell</code></dd>\n",
       "            </dl>\n",
       "        </div>\n",
       "        \n",
       "            </div>\n",
       "        "
      ],
      "text/plain": [
       "<pyspark.sql.session.SparkSession at 0xffff59e1b580>"
      ]
     },
     "execution_count": 6,
     "metadata": {},
     "output_type": "execute_result"
    }
   ],
   "source": [
    "spark"
   ]
  },
  {
   "cell_type": "markdown",
   "id": "neither-sunset",
   "metadata": {},
   "source": [
    "# Schema de données"
   ]
  },
  {
   "cell_type": "code",
   "execution_count": 7,
   "id": "expanded-hartford",
   "metadata": {},
   "outputs": [],
   "source": [
    "schema = StructType() \\\n",
    "    .add(\"STATION\", IntegerType(), False) \\\n",
    "    .add(\"DATE\", TimestampType(), False) \\\n",
    "    .add(\"SOURCE\", IntegerType(), True) \\\n",
    "    .add(\"LATITUDE\", FloatType(), True) \\\n",
    "    .add(\"LONGITUDE\", FloatType(), True) \\\n",
    "    .add(\"ELEVATION\", StringType(), True) \\\n",
    "    .add(\"NAME\", StringType(), True) \\\n",
    "    .add(\"REPORT_TYPE\", StringType(), True) \\\n",
    "    .add(\"CALL_SIGN\", StringType(), True) \\\n",
    "    .add(\"QUALITY_CONTROL\", StringType(), True) \\\n",
    "    .add(\"WND\", StringType(), True) \\\n",
    "    .add(\"CIG\", StringType(), True) \\\n",
    "    .add(\"VIS\", StringType(), True) \\\n",
    "    .add(\"TMP\", StringType(), True) \\\n",
    "    .add(\"DEW\", StringType(), True) \\\n",
    "    .add(\"SLP\", StringType(), True) \\\n",
    "    .add(\"GA1\", StringType(), True) \\\n",
    "    .add(\"GA2\", StringType(), True) \\\n",
    "    .add(\"GA3\", StringType(), True) \\\n",
    "    .add(\"GA4\", StringType(), True) \\\n",
    "    .add(\"GF1\", StringType(), True) \\\n",
    "    .add(\"MA1\", StringType(), True) \\\n",
    "    .add(\"MW1\", StringType(), True) \\\n",
    "    .add(\"MW2\", StringType(), True) \\\n",
    "    .add(\"MW3\", StringType(), True) \\\n",
    "    .add(\"OC1\", StringType(), True) \\\n",
    "    .add(\"REM\", StringType(), True) \\\n",
    "    .add(\"EQD\", StringType(), True)"
   ]
  },
  {
   "cell_type": "markdown",
   "id": "moving-ending",
   "metadata": {},
   "source": [
    "# Chargement des données"
   ]
  },
  {
   "cell_type": "code",
   "execution_count": 8,
   "id": "aboriginal-opera",
   "metadata": {},
   "outputs": [],
   "source": [
    "# station_2018 = spark.read.load(\"./data/2018\", format=\"csv\", header=True, schema=schema, inferSchema=False)\n",
    "# station_2018.show()"
   ]
  },
  {
   "cell_type": "code",
   "execution_count": 9,
   "id": "built-header",
   "metadata": {},
   "outputs": [],
   "source": [
    "cols_of_interest = (\"STATION\",\"DATE\",\"SOURCE\",\"LATITUDE\",\"LONGITUDE\",\"ELEVATION\",\"NAME\",\"REPORT_TYPE\",\"CALL_SIGN\",\"QUALITY_CONTROL\",\"WND\",\"CIG\",\"VIS\",\"TMP\",\"DEW\",\"SLP\")\n",
    "\n",
    "all_stations = spark.read.load(\"./data/*\", format=\"csv\", header=True, schema=schema, inferSchema=False).select(*cols_of_interest)"
   ]
  },
  {
   "cell_type": "code",
   "execution_count": 10,
   "id": "equipped-tulsa",
   "metadata": {},
   "outputs": [
    {
     "data": {
      "text/html": [
       "<table border='1'>\n",
       "<tr><th>STATION</th><th>DATE</th><th>SOURCE</th><th>LATITUDE</th><th>LONGITUDE</th><th>ELEVATION</th><th>NAME</th><th>REPORT_TYPE</th><th>CALL_SIGN</th><th>QUALITY_CONTROL</th><th>WND</th><th>CIG</th><th>VIS</th><th>TMP</th><th>DEW</th><th>SLP</th></tr>\n",
       "<tr><td>826099999</td><td>2008-01-01 00:00:00</td><td>4</td><td>0.0</td><td>0.0</td><td>0.0</td><td>WXPOD8270</td><td>FM-15</td><td>KFMH </td><td>V020</td><td>280,1,N,0062,1</td><td>22000,1,9,N</td><td>024140,1,N,1</td><td>+0020,1</td><td>-0040,1</td><td>10170,1</td></tr>\n",
       "<tr><td>826099999</td><td>2008-01-01 00:53:00</td><td>4</td><td>0.0</td><td>0.0</td><td>0.0</td><td>WXPOD8270</td><td>FM-15</td><td>KCCR </td><td>V020</td><td>100,1,N,0021,1</td><td>22000,1,9,N</td><td>016093,1,N,1</td><td>+9999,9</td><td>-0030,1</td><td>10231,1</td></tr>\n",
       "<tr><td>826099999</td><td>2008-01-01 00:53:00</td><td>4</td><td>0.0</td><td>0.0</td><td>0.0</td><td>WXPOD8270</td><td>FM-16</td><td>KDAL </td><td>V020</td><td>360,1,N,0057,1</td><td>22000,1,9,N</td><td>016093,1,N,1</td><td>+9999,9</td><td>+9999,9</td><td>99999,9</td></tr>\n",
       "<tr><td>826099999</td><td>2008-01-01 01:00:00</td><td>4</td><td>0.0</td><td>0.0</td><td>0.0</td><td>WXPOD8270</td><td>FM-15</td><td>KFMH </td><td>V020</td><td>270,1,N,0046,1</td><td>22000,1,9,N</td><td>024140,1,N,1</td><td>+0010,1</td><td>-0040,1</td><td>10181,1</td></tr>\n",
       "<tr><td>826099999</td><td>2008-01-01 01:53:00</td><td>4</td><td>0.0</td><td>0.0</td><td>0.0</td><td>WXPOD8270</td><td>AUTO </td><td>KCGI </td><td>V020</td><td>300,1,N,0067,1</td><td>22000,1,9,N</td><td>016093,1,N,1</td><td>+0030,1</td><td>-0040,1</td><td>99999,9</td></tr>\n",
       "<tr><td>826099999</td><td>2008-01-01 01:53:00</td><td>4</td><td>0.0</td><td>0.0</td><td>0.0</td><td>WXPOD8270</td><td>FM-15</td><td>KCCR </td><td>V020</td><td>100,1,N,0031,1</td><td>22000,1,9,N</td><td>016093,1,N,1</td><td>+9999,9</td><td>-0030,1</td><td>10229,1</td></tr>\n",
       "<tr><td>826099999</td><td>2008-01-01 02:00:00</td><td>4</td><td>0.0</td><td>0.0</td><td>0.0</td><td>WXPOD8270</td><td>FM-15</td><td>KFMH </td><td>V020</td><td>270,1,N,0051,1</td><td>22000,1,9,N</td><td>024140,1,N,1</td><td>+0010,1</td><td>-0040,1</td><td>10192,1</td></tr>\n",
       "<tr><td>826099999</td><td>2008-01-01 02:53:00</td><td>4</td><td>0.0</td><td>0.0</td><td>0.0</td><td>WXPOD8270</td><td>AUTO </td><td>KCGI </td><td>V020</td><td>280,1,N,0041,1</td><td>22000,1,9,N</td><td>016093,1,N,1</td><td>+0020,1</td><td>-0040,1</td><td>10190,1</td></tr>\n",
       "<tr><td>826099999</td><td>2008-01-01 02:53:00</td><td>4</td><td>0.0</td><td>0.0</td><td>0.0</td><td>WXPOD8270</td><td>FM-15</td><td>KCCR </td><td>V020</td><td>080,1,N,0041,1</td><td>22000,1,9,N</td><td>016093,1,N,1</td><td>+9999,9</td><td>-0030,1</td><td>10231,1</td></tr>\n",
       "<tr><td>826099999</td><td>2008-01-01 03:00:00</td><td>4</td><td>0.0</td><td>0.0</td><td>0.0</td><td>WXPOD8270</td><td>SY-MT</td><td>KFMH </td><td>V020</td><td>300,1,N,0041,1</td><td>22000,1,9,N</td><td>016000,1,N,1</td><td>+0017,1</td><td>-0044,1</td><td>10203,1</td></tr>\n",
       "<tr><td>826099999</td><td>2008-01-01 03:53:00</td><td>4</td><td>0.0</td><td>0.0</td><td>0.0</td><td>WXPOD8270</td><td>AUTO </td><td>KCGI </td><td>V020</td><td>280,1,N,0041,1</td><td>22000,1,9,N</td><td>016093,1,N,1</td><td>+0010,1</td><td>-0030,1</td><td>10200,1</td></tr>\n",
       "<tr><td>826099999</td><td>2008-01-01 03:53:00</td><td>4</td><td>0.0</td><td>0.0</td><td>0.0</td><td>WXPOD8270</td><td>FM-15</td><td>KCCR </td><td>V020</td><td>100,1,N,0026,1</td><td>22000,1,9,N</td><td>016093,1,N,1</td><td>+9999,9</td><td>-0030,1</td><td>10234,1</td></tr>\n",
       "<tr><td>826099999</td><td>2008-01-01 04:00:00</td><td>4</td><td>0.0</td><td>0.0</td><td>0.0</td><td>WXPOD8270</td><td>FM-15</td><td>KFMH </td><td>V020</td><td>999,9,V,0010,1</td><td>22000,1,9,N</td><td>024140,1,N,1</td><td>-0030,1</td><td>-0050,1</td><td>10196,1</td></tr>\n",
       "<tr><td>826099999</td><td>2008-01-01 04:53:00</td><td>4</td><td>0.0</td><td>0.0</td><td>0.0</td><td>WXPOD8270</td><td>AUTO </td><td>KCGI </td><td>V020</td><td>260,1,N,0036,1</td><td>22000,1,9,N</td><td>016093,1,N,1</td><td>+0000,1</td><td>-0030,1</td><td>10207,1</td></tr>\n",
       "<tr><td>826099999</td><td>2008-01-01 04:53:00</td><td>4</td><td>0.0</td><td>0.0</td><td>0.0</td><td>WXPOD8270</td><td>FM-15</td><td>KCCR </td><td>V020</td><td>090,1,N,0026,1</td><td>22000,1,9,N</td><td>016093,1,N,1</td><td>+9999,9</td><td>-0030,1</td><td>10236,1</td></tr>\n",
       "<tr><td>826099999</td><td>2008-01-01 05:00:00</td><td>4</td><td>0.0</td><td>0.0</td><td>0.0</td><td>WXPOD8270</td><td>FM-15</td><td>KFMH </td><td>V020</td><td>210,1,N,0015,1</td><td>22000,1,9,N</td><td>024140,1,N,1</td><td>-0040,1</td><td>-0050,1</td><td>10199,1</td></tr>\n",
       "<tr><td>826099999</td><td>2008-01-01 05:53:00</td><td>4</td><td>0.0</td><td>0.0</td><td>0.0</td><td>WXPOD8270</td><td>AUTO </td><td>KCGI </td><td>V020</td><td>290,1,N,0051,1</td><td>22000,1,9,N</td><td>016093,1,N,1</td><td>+0010,1</td><td>-0040,1</td><td>10216,1</td></tr>\n",
       "<tr><td>826099999</td><td>2008-01-01 05:53:00</td><td>4</td><td>0.0</td><td>0.0</td><td>0.0</td><td>WXPOD8270</td><td>FM-15</td><td>KCCR </td><td>V020</td><td>100,1,N,0015,1</td><td>22000,1,9,N</td><td>016093,1,N,1</td><td>+9999,9</td><td>-0020,1</td><td>10240,1</td></tr>\n",
       "<tr><td>826099999</td><td>2008-01-01 06:00:00</td><td>4</td><td>0.0</td><td>0.0</td><td>0.0</td><td>WXPOD8270</td><td>FM-15</td><td>KFMH </td><td>V020</td><td>260,1,N,0005,1</td><td>22000,1,9,N</td><td>024140,1,N,1</td><td>-0040,1</td><td>-0050,1</td><td>10209,1</td></tr>\n",
       "<tr><td>826099999</td><td>2008-01-01 06:53:00</td><td>4</td><td>0.0</td><td>0.0</td><td>0.0</td><td>WXPOD8270</td><td>AUTO </td><td>KCGI </td><td>V020</td><td>290,1,N,0051,1</td><td>22000,1,9,N</td><td>016093,1,N,1</td><td>+0000,1</td><td>-0060,1</td><td>10226,1</td></tr>\n",
       "</table>\n",
       "only showing top 20 rows\n"
      ],
      "text/plain": [
       "+---------+-------------------+------+--------+---------+---------+---------+-----------+---------+---------------+--------------+-----------+------------+-------+-------+-------+\n",
       "|  STATION|               DATE|SOURCE|LATITUDE|LONGITUDE|ELEVATION|     NAME|REPORT_TYPE|CALL_SIGN|QUALITY_CONTROL|           WND|        CIG|         VIS|    TMP|    DEW|    SLP|\n",
       "+---------+-------------------+------+--------+---------+---------+---------+-----------+---------+---------------+--------------+-----------+------------+-------+-------+-------+\n",
       "|826099999|2008-01-01 00:00:00|     4|     0.0|      0.0|      0.0|WXPOD8270|      FM-15|    KFMH |           V020|280,1,N,0062,1|22000,1,9,N|024140,1,N,1|+0020,1|-0040,1|10170,1|\n",
       "|826099999|2008-01-01 00:53:00|     4|     0.0|      0.0|      0.0|WXPOD8270|      FM-15|    KCCR |           V020|100,1,N,0021,1|22000,1,9,N|016093,1,N,1|+9999,9|-0030,1|10231,1|\n",
       "|826099999|2008-01-01 00:53:00|     4|     0.0|      0.0|      0.0|WXPOD8270|      FM-16|    KDAL |           V020|360,1,N,0057,1|22000,1,9,N|016093,1,N,1|+9999,9|+9999,9|99999,9|\n",
       "|826099999|2008-01-01 01:00:00|     4|     0.0|      0.0|      0.0|WXPOD8270|      FM-15|    KFMH |           V020|270,1,N,0046,1|22000,1,9,N|024140,1,N,1|+0010,1|-0040,1|10181,1|\n",
       "|826099999|2008-01-01 01:53:00|     4|     0.0|      0.0|      0.0|WXPOD8270|      AUTO |    KCGI |           V020|300,1,N,0067,1|22000,1,9,N|016093,1,N,1|+0030,1|-0040,1|99999,9|\n",
       "|826099999|2008-01-01 01:53:00|     4|     0.0|      0.0|      0.0|WXPOD8270|      FM-15|    KCCR |           V020|100,1,N,0031,1|22000,1,9,N|016093,1,N,1|+9999,9|-0030,1|10229,1|\n",
       "|826099999|2008-01-01 02:00:00|     4|     0.0|      0.0|      0.0|WXPOD8270|      FM-15|    KFMH |           V020|270,1,N,0051,1|22000,1,9,N|024140,1,N,1|+0010,1|-0040,1|10192,1|\n",
       "|826099999|2008-01-01 02:53:00|     4|     0.0|      0.0|      0.0|WXPOD8270|      AUTO |    KCGI |           V020|280,1,N,0041,1|22000,1,9,N|016093,1,N,1|+0020,1|-0040,1|10190,1|\n",
       "|826099999|2008-01-01 02:53:00|     4|     0.0|      0.0|      0.0|WXPOD8270|      FM-15|    KCCR |           V020|080,1,N,0041,1|22000,1,9,N|016093,1,N,1|+9999,9|-0030,1|10231,1|\n",
       "|826099999|2008-01-01 03:00:00|     4|     0.0|      0.0|      0.0|WXPOD8270|      SY-MT|    KFMH |           V020|300,1,N,0041,1|22000,1,9,N|016000,1,N,1|+0017,1|-0044,1|10203,1|\n",
       "|826099999|2008-01-01 03:53:00|     4|     0.0|      0.0|      0.0|WXPOD8270|      AUTO |    KCGI |           V020|280,1,N,0041,1|22000,1,9,N|016093,1,N,1|+0010,1|-0030,1|10200,1|\n",
       "|826099999|2008-01-01 03:53:00|     4|     0.0|      0.0|      0.0|WXPOD8270|      FM-15|    KCCR |           V020|100,1,N,0026,1|22000,1,9,N|016093,1,N,1|+9999,9|-0030,1|10234,1|\n",
       "|826099999|2008-01-01 04:00:00|     4|     0.0|      0.0|      0.0|WXPOD8270|      FM-15|    KFMH |           V020|999,9,V,0010,1|22000,1,9,N|024140,1,N,1|-0030,1|-0050,1|10196,1|\n",
       "|826099999|2008-01-01 04:53:00|     4|     0.0|      0.0|      0.0|WXPOD8270|      AUTO |    KCGI |           V020|260,1,N,0036,1|22000,1,9,N|016093,1,N,1|+0000,1|-0030,1|10207,1|\n",
       "|826099999|2008-01-01 04:53:00|     4|     0.0|      0.0|      0.0|WXPOD8270|      FM-15|    KCCR |           V020|090,1,N,0026,1|22000,1,9,N|016093,1,N,1|+9999,9|-0030,1|10236,1|\n",
       "|826099999|2008-01-01 05:00:00|     4|     0.0|      0.0|      0.0|WXPOD8270|      FM-15|    KFMH |           V020|210,1,N,0015,1|22000,1,9,N|024140,1,N,1|-0040,1|-0050,1|10199,1|\n",
       "|826099999|2008-01-01 05:53:00|     4|     0.0|      0.0|      0.0|WXPOD8270|      AUTO |    KCGI |           V020|290,1,N,0051,1|22000,1,9,N|016093,1,N,1|+0010,1|-0040,1|10216,1|\n",
       "|826099999|2008-01-01 05:53:00|     4|     0.0|      0.0|      0.0|WXPOD8270|      FM-15|    KCCR |           V020|100,1,N,0015,1|22000,1,9,N|016093,1,N,1|+9999,9|-0020,1|10240,1|\n",
       "|826099999|2008-01-01 06:00:00|     4|     0.0|      0.0|      0.0|WXPOD8270|      FM-15|    KFMH |           V020|260,1,N,0005,1|22000,1,9,N|024140,1,N,1|-0040,1|-0050,1|10209,1|\n",
       "|826099999|2008-01-01 06:53:00|     4|     0.0|      0.0|      0.0|WXPOD8270|      AUTO |    KCGI |           V020|290,1,N,0051,1|22000,1,9,N|016093,1,N,1|+0000,1|-0060,1|10226,1|\n",
       "+---------+-------------------+------+--------+---------+---------+---------+-----------+---------+---------------+--------------+-----------+------------+-------+-------+-------+\n",
       "only showing top 20 rows"
      ]
     },
     "execution_count": 10,
     "metadata": {},
     "output_type": "execute_result"
    }
   ],
   "source": [
    "all_stations"
   ]
  },
  {
   "cell_type": "code",
   "execution_count": 10,
   "id": "clean-platform",
   "metadata": {},
   "outputs": [
    {
     "data": {
      "text/plain": [
       "9573561"
      ]
     },
     "execution_count": 10,
     "metadata": {},
     "output_type": "execute_result"
    }
   ],
   "source": [
    "# Nombre de lignes\n",
    "all_stations.count()"
   ]
  },
  {
   "cell_type": "markdown",
   "id": "changed-graph",
   "metadata": {},
   "source": [
    "## Supprimer les lignes du champ TMP avec des valeurs vides OU des +9999"
   ]
  },
  {
   "cell_type": "code",
   "execution_count": 11,
   "id": "grand-contact",
   "metadata": {},
   "outputs": [],
   "source": [
    "all_stations = all_stations.na.drop(how=\"any\", subset=[\"TMP\"]).filter(~all_stations.TMP.contains(\"+9999\"))"
   ]
  },
  {
   "cell_type": "markdown",
   "id": "dependent-romance",
   "metadata": {},
   "source": [
    "## Supprimer les lignes du champ ELEVATION avec des valeurs vides OU des +9999"
   ]
  },
  {
   "cell_type": "code",
   "execution_count": 12,
   "id": "smaller-father",
   "metadata": {},
   "outputs": [],
   "source": [
    "all_stations = all_stations.na.drop(how=\"any\", subset=[\"ELEVATION\"]).filter(~all_stations.ELEVATION.contains(\"+9999\"))"
   ]
  },
  {
   "cell_type": "markdown",
   "id": "acute-instrument",
   "metadata": {},
   "source": [
    "## Supprimer les lignes du champ DEW avec des valeurs vides OU des +9999"
   ]
  },
  {
   "cell_type": "code",
   "execution_count": 13,
   "id": "egyptian-pixel",
   "metadata": {},
   "outputs": [],
   "source": [
    "all_stations = all_stations.na.drop(how=\"any\", subset=[\"DEW\"]).filter(~all_stations.DEW.contains(\"+9999\"))"
   ]
  },
  {
   "cell_type": "markdown",
   "id": "flexible-blowing",
   "metadata": {},
   "source": [
    "## Supprimer les lignes du champ WND avec des valeurs vides OU des 9999"
   ]
  },
  {
   "cell_type": "code",
   "execution_count": 14,
   "id": "cooked-ocean",
   "metadata": {},
   "outputs": [],
   "source": [
    "all_stations = all_stations.na.drop(how=\"any\", subset=[\"WND\"]).filter(~all_stations.WND.contains(\"9999\"))"
   ]
  },
  {
   "cell_type": "markdown",
   "id": "studied-green",
   "metadata": {},
   "source": [
    "## Supprimer les lignes du champ CIG avec des valeurs vides OU des 99999"
   ]
  },
  {
   "cell_type": "code",
   "execution_count": 15,
   "id": "moderate-freeze",
   "metadata": {},
   "outputs": [],
   "source": [
    "all_stations = all_stations.na.drop(how=\"any\", subset=[\"CIG\"]).filter(~all_stations.CIG.contains(\"99999\"))"
   ]
  },
  {
   "cell_type": "code",
   "execution_count": 16,
   "id": "accessory-veteran",
   "metadata": {},
   "outputs": [
    {
     "data": {
      "text/plain": [
       "5344143"
      ]
     },
     "execution_count": 16,
     "metadata": {},
     "output_type": "execute_result"
    }
   ],
   "source": [
    "# Nombre de lignes après le drop\n",
    "all_stations.count()"
   ]
  },
  {
   "cell_type": "code",
   "execution_count": 16,
   "id": "southwest-export",
   "metadata": {},
   "outputs": [
    {
     "name": "stdout",
     "output_type": "stream",
     "text": [
      "root\n",
      " |-- STATION: integer (nullable = true)\n",
      " |-- DATE: timestamp (nullable = true)\n",
      " |-- SOURCE: integer (nullable = true)\n",
      " |-- LATITUDE: float (nullable = true)\n",
      " |-- LONGITUDE: float (nullable = true)\n",
      " |-- ELEVATION: string (nullable = true)\n",
      " |-- NAME: string (nullable = true)\n",
      " |-- REPORT_TYPE: string (nullable = true)\n",
      " |-- CALL_SIGN: string (nullable = true)\n",
      " |-- QUALITY_CONTROL: string (nullable = true)\n",
      " |-- WND: string (nullable = true)\n",
      " |-- CIG: string (nullable = true)\n",
      " |-- VIS: string (nullable = true)\n",
      " |-- TMP: string (nullable = true)\n",
      " |-- DEW: string (nullable = true)\n",
      " |-- SLP: string (nullable = true)\n",
      "\n"
     ]
    }
   ],
   "source": [
    "# Le schema de données\n",
    "all_stations.printSchema()"
   ]
  },
  {
   "cell_type": "markdown",
   "id": "pretty-croatia",
   "metadata": {},
   "source": [
    "## Split de la colonne température"
   ]
  },
  {
   "cell_type": "code",
   "execution_count": 17,
   "id": "electric-radio",
   "metadata": {},
   "outputs": [],
   "source": [
    "@udf(returnType=FloatType())\n",
    "def extract_tmp(tmp_col: str):\n",
    "    return int(tmp_col.split(',')[0].lstrip('+')) / 10\n",
    "\n",
    "all_stations = all_stations.withColumn('temperature', extract_tmp(all_stations['TMP']))"
   ]
  },
  {
   "cell_type": "markdown",
   "id": "burning-girlfriend",
   "metadata": {},
   "source": [
    "## Split de la colonne DEW"
   ]
  },
  {
   "cell_type": "code",
   "execution_count": 18,
   "id": "useful-minute",
   "metadata": {},
   "outputs": [],
   "source": [
    "@udf(returnType=FloatType())\n",
    "def extract_dew(dew_col: str):\n",
    "    return int(dew_col.split(',')[0].lstrip('+')) / 10\n",
    "\n",
    "all_stations = all_stations.withColumn('precipitation', extract_dew(all_stations['DEW']))"
   ]
  },
  {
   "cell_type": "markdown",
   "id": "excess-saint",
   "metadata": {},
   "source": [
    "## Split de la colonne WND"
   ]
  },
  {
   "cell_type": "code",
   "execution_count": 19,
   "id": "applicable-dominant",
   "metadata": {},
   "outputs": [],
   "source": [
    "@udf(returnType=FloatType())\n",
    "def extract_wnd(wnd_col: str):\n",
    "    return int(wnd_col.split(',')[3].lstrip('+')) / 10\n",
    "\n",
    "all_stations = all_stations.withColumn('speed_rate', extract_wnd(all_stations['WND']))"
   ]
  },
  {
   "cell_type": "markdown",
   "id": "familiar-choice",
   "metadata": {},
   "source": [
    "## Split de la colonne CIG"
   ]
  },
  {
   "cell_type": "code",
   "execution_count": 20,
   "id": "vital-permit",
   "metadata": {},
   "outputs": [],
   "source": [
    "@udf(returnType=IntegerType())\n",
    "def extract_cig(cig_col: str):\n",
    "    return int(cig_col.split(',')[0])\n",
    "\n",
    "all_stations = all_stations.withColumn('ceiling_height', extract_cig(all_stations['CIG']))"
   ]
  },
  {
   "cell_type": "code",
   "execution_count": 21,
   "id": "retained-california",
   "metadata": {},
   "outputs": [
    {
     "name": "stdout",
     "output_type": "stream",
     "text": [
      "root\n",
      " |-- STATION: integer (nullable = true)\n",
      " |-- DATE: timestamp (nullable = true)\n",
      " |-- SOURCE: integer (nullable = true)\n",
      " |-- LATITUDE: float (nullable = true)\n",
      " |-- LONGITUDE: float (nullable = true)\n",
      " |-- ELEVATION: string (nullable = true)\n",
      " |-- NAME: string (nullable = true)\n",
      " |-- REPORT_TYPE: string (nullable = true)\n",
      " |-- CALL_SIGN: string (nullable = true)\n",
      " |-- QUALITY_CONTROL: string (nullable = true)\n",
      " |-- WND: string (nullable = true)\n",
      " |-- CIG: string (nullable = true)\n",
      " |-- VIS: string (nullable = true)\n",
      " |-- TMP: string (nullable = true)\n",
      " |-- DEW: string (nullable = true)\n",
      " |-- SLP: string (nullable = true)\n",
      " |-- temperature: float (nullable = true)\n",
      " |-- precipitation: float (nullable = true)\n",
      " |-- speed_rate: float (nullable = true)\n",
      " |-- ceiling_height: integer (nullable = true)\n",
      "\n"
     ]
    }
   ],
   "source": [
    "all_stations.printSchema()"
   ]
  },
  {
   "cell_type": "markdown",
   "id": "collected-happiness",
   "metadata": {},
   "source": [
    "## Création du champ season"
   ]
  },
  {
   "cell_type": "code",
   "execution_count": 22,
   "id": "congressional-jefferson",
   "metadata": {},
   "outputs": [],
   "source": [
    "@udf(returnType=StringType())\n",
    "def create_season(month: int):\n",
    "    if month in [7, 8, 9]:\n",
    "        season = 'Summer'\n",
    "    elif month in [10, 11, 12]:\n",
    "        season = 'Autumn'\n",
    "    elif month in [1, 2, 3]:\n",
    "        season = 'Winter'\n",
    "    else:\n",
    "        season = 'Spring'\n",
    "    return season\n",
    "\n",
    "all_stations = all_stations.withColumn('season', create_season(month(\"DATE\")))"
   ]
  },
  {
   "cell_type": "code",
   "execution_count": 23,
   "id": "weekly-asbestos",
   "metadata": {},
   "outputs": [
    {
     "name": "stdout",
     "output_type": "stream",
     "text": [
      "root\n",
      " |-- STATION: integer (nullable = true)\n",
      " |-- DATE: timestamp (nullable = true)\n",
      " |-- SOURCE: integer (nullable = true)\n",
      " |-- LATITUDE: float (nullable = true)\n",
      " |-- LONGITUDE: float (nullable = true)\n",
      " |-- ELEVATION: string (nullable = true)\n",
      " |-- NAME: string (nullable = true)\n",
      " |-- REPORT_TYPE: string (nullable = true)\n",
      " |-- CALL_SIGN: string (nullable = true)\n",
      " |-- QUALITY_CONTROL: string (nullable = true)\n",
      " |-- WND: string (nullable = true)\n",
      " |-- CIG: string (nullable = true)\n",
      " |-- VIS: string (nullable = true)\n",
      " |-- TMP: string (nullable = true)\n",
      " |-- DEW: string (nullable = true)\n",
      " |-- SLP: string (nullable = true)\n",
      " |-- temperature: float (nullable = true)\n",
      " |-- precipitation: float (nullable = true)\n",
      " |-- speed_rate: float (nullable = true)\n",
      " |-- ceiling_height: integer (nullable = true)\n",
      " |-- season: string (nullable = true)\n",
      "\n"
     ]
    }
   ],
   "source": [
    "all_stations.printSchema()"
   ]
  },
  {
   "cell_type": "code",
   "execution_count": 24,
   "id": "romantic-hopkins",
   "metadata": {},
   "outputs": [
    {
     "data": {
      "text/html": [
       "<table border='1'>\n",
       "<tr><th>STATION</th><th>DATE</th><th>SOURCE</th><th>LATITUDE</th><th>LONGITUDE</th><th>ELEVATION</th><th>NAME</th><th>REPORT_TYPE</th><th>CALL_SIGN</th><th>QUALITY_CONTROL</th><th>WND</th><th>CIG</th><th>VIS</th><th>TMP</th><th>DEW</th><th>SLP</th><th>temperature</th><th>precipitation</th><th>speed_rate</th><th>ceiling_height</th><th>season</th></tr>\n",
       "<tr><td>826099999</td><td>2008-01-01 00:00:00</td><td>4</td><td>0.0</td><td>0.0</td><td>0.0</td><td>WXPOD8270</td><td>FM-15</td><td>KFMH </td><td>V020</td><td>280,1,N,0062,1</td><td>22000,1,9,N</td><td>024140,1,N,1</td><td>+0020,1</td><td>-0040,1</td><td>10170,1</td><td>2.0</td><td>-4.0</td><td>6.2</td><td>22000</td><td>Winter</td></tr>\n",
       "<tr><td>826099999</td><td>2008-01-01 01:00:00</td><td>4</td><td>0.0</td><td>0.0</td><td>0.0</td><td>WXPOD8270</td><td>FM-15</td><td>KFMH </td><td>V020</td><td>270,1,N,0046,1</td><td>22000,1,9,N</td><td>024140,1,N,1</td><td>+0010,1</td><td>-0040,1</td><td>10181,1</td><td>1.0</td><td>-4.0</td><td>4.6</td><td>22000</td><td>Winter</td></tr>\n",
       "<tr><td>826099999</td><td>2008-01-01 01:53:00</td><td>4</td><td>0.0</td><td>0.0</td><td>0.0</td><td>WXPOD8270</td><td>AUTO </td><td>KCGI </td><td>V020</td><td>300,1,N,0067,1</td><td>22000,1,9,N</td><td>016093,1,N,1</td><td>+0030,1</td><td>-0040,1</td><td>99999,9</td><td>3.0</td><td>-4.0</td><td>6.7</td><td>22000</td><td>Winter</td></tr>\n",
       "<tr><td>826099999</td><td>2008-01-01 02:00:00</td><td>4</td><td>0.0</td><td>0.0</td><td>0.0</td><td>WXPOD8270</td><td>FM-15</td><td>KFMH </td><td>V020</td><td>270,1,N,0051,1</td><td>22000,1,9,N</td><td>024140,1,N,1</td><td>+0010,1</td><td>-0040,1</td><td>10192,1</td><td>1.0</td><td>-4.0</td><td>5.1</td><td>22000</td><td>Winter</td></tr>\n",
       "<tr><td>826099999</td><td>2008-01-01 02:53:00</td><td>4</td><td>0.0</td><td>0.0</td><td>0.0</td><td>WXPOD8270</td><td>AUTO </td><td>KCGI </td><td>V020</td><td>280,1,N,0041,1</td><td>22000,1,9,N</td><td>016093,1,N,1</td><td>+0020,1</td><td>-0040,1</td><td>10190,1</td><td>2.0</td><td>-4.0</td><td>4.1</td><td>22000</td><td>Winter</td></tr>\n",
       "<tr><td>826099999</td><td>2008-01-01 03:00:00</td><td>4</td><td>0.0</td><td>0.0</td><td>0.0</td><td>WXPOD8270</td><td>SY-MT</td><td>KFMH </td><td>V020</td><td>300,1,N,0041,1</td><td>22000,1,9,N</td><td>016000,1,N,1</td><td>+0017,1</td><td>-0044,1</td><td>10203,1</td><td>1.7</td><td>-4.4</td><td>4.1</td><td>22000</td><td>Winter</td></tr>\n",
       "<tr><td>826099999</td><td>2008-01-01 03:53:00</td><td>4</td><td>0.0</td><td>0.0</td><td>0.0</td><td>WXPOD8270</td><td>AUTO </td><td>KCGI </td><td>V020</td><td>280,1,N,0041,1</td><td>22000,1,9,N</td><td>016093,1,N,1</td><td>+0010,1</td><td>-0030,1</td><td>10200,1</td><td>1.0</td><td>-3.0</td><td>4.1</td><td>22000</td><td>Winter</td></tr>\n",
       "<tr><td>826099999</td><td>2008-01-01 04:00:00</td><td>4</td><td>0.0</td><td>0.0</td><td>0.0</td><td>WXPOD8270</td><td>FM-15</td><td>KFMH </td><td>V020</td><td>999,9,V,0010,1</td><td>22000,1,9,N</td><td>024140,1,N,1</td><td>-0030,1</td><td>-0050,1</td><td>10196,1</td><td>-3.0</td><td>-5.0</td><td>1.0</td><td>22000</td><td>Winter</td></tr>\n",
       "<tr><td>826099999</td><td>2008-01-01 04:53:00</td><td>4</td><td>0.0</td><td>0.0</td><td>0.0</td><td>WXPOD8270</td><td>AUTO </td><td>KCGI </td><td>V020</td><td>260,1,N,0036,1</td><td>22000,1,9,N</td><td>016093,1,N,1</td><td>+0000,1</td><td>-0030,1</td><td>10207,1</td><td>0.0</td><td>-3.0</td><td>3.6</td><td>22000</td><td>Winter</td></tr>\n",
       "<tr><td>826099999</td><td>2008-01-01 05:00:00</td><td>4</td><td>0.0</td><td>0.0</td><td>0.0</td><td>WXPOD8270</td><td>FM-15</td><td>KFMH </td><td>V020</td><td>210,1,N,0015,1</td><td>22000,1,9,N</td><td>024140,1,N,1</td><td>-0040,1</td><td>-0050,1</td><td>10199,1</td><td>-4.0</td><td>-5.0</td><td>1.5</td><td>22000</td><td>Winter</td></tr>\n",
       "<tr><td>826099999</td><td>2008-01-01 05:53:00</td><td>4</td><td>0.0</td><td>0.0</td><td>0.0</td><td>WXPOD8270</td><td>AUTO </td><td>KCGI </td><td>V020</td><td>290,1,N,0051,1</td><td>22000,1,9,N</td><td>016093,1,N,1</td><td>+0010,1</td><td>-0040,1</td><td>10216,1</td><td>1.0</td><td>-4.0</td><td>5.1</td><td>22000</td><td>Winter</td></tr>\n",
       "<tr><td>826099999</td><td>2008-01-01 06:00:00</td><td>4</td><td>0.0</td><td>0.0</td><td>0.0</td><td>WXPOD8270</td><td>FM-15</td><td>KFMH </td><td>V020</td><td>260,1,N,0005,1</td><td>22000,1,9,N</td><td>024140,1,N,1</td><td>-0040,1</td><td>-0050,1</td><td>10209,1</td><td>-4.0</td><td>-5.0</td><td>0.5</td><td>22000</td><td>Winter</td></tr>\n",
       "<tr><td>826099999</td><td>2008-01-01 06:53:00</td><td>4</td><td>0.0</td><td>0.0</td><td>0.0</td><td>WXPOD8270</td><td>AUTO </td><td>KCGI </td><td>V020</td><td>290,1,N,0051,1</td><td>22000,1,9,N</td><td>016093,1,N,1</td><td>+0000,1</td><td>-0060,1</td><td>10226,1</td><td>0.0</td><td>-6.0</td><td>5.1</td><td>22000</td><td>Winter</td></tr>\n",
       "<tr><td>826099999</td><td>2008-01-01 07:00:00</td><td>4</td><td>0.0</td><td>0.0</td><td>0.0</td><td>WXPOD8270</td><td>FM-15</td><td>KFMH </td><td>V020</td><td>999,9,C,0000,1</td><td>22000,1,9,N</td><td>024140,1,N,1</td><td>-0030,1</td><td>-0050,1</td><td>10209,1</td><td>-3.0</td><td>-5.0</td><td>0.0</td><td>22000</td><td>Winter</td></tr>\n",
       "<tr><td>826099999</td><td>2008-01-01 07:53:00</td><td>4</td><td>0.0</td><td>0.0</td><td>0.0</td><td>WXPOD8270</td><td>AUTO </td><td>KCGI </td><td>V020</td><td>300,1,N,0093,1</td><td>22000,1,9,N</td><td>016093,1,N,1</td><td>+0010,1</td><td>-0080,1</td><td>10233,1</td><td>1.0</td><td>-8.0</td><td>9.3</td><td>22000</td><td>Winter</td></tr>\n",
       "<tr><td>826099999</td><td>2008-01-01 08:00:00</td><td>4</td><td>0.0</td><td>0.0</td><td>0.0</td><td>WXPOD8270</td><td>FM-15</td><td>KFMH </td><td>V020</td><td>999,9,V,0005,1</td><td>22000,1,9,N</td><td>024140,1,N,1</td><td>-0050,1</td><td>-0060,1</td><td>10216,1</td><td>-5.0</td><td>-6.0</td><td>0.5</td><td>22000</td><td>Winter</td></tr>\n",
       "<tr><td>826099999</td><td>2008-01-01 08:53:00</td><td>4</td><td>0.0</td><td>0.0</td><td>0.0</td><td>WXPOD8270</td><td>AUTO </td><td>KCGI </td><td>V020</td><td>300,1,N,0062,1</td><td>22000,1,9,N</td><td>016093,1,N,1</td><td>-0010,1</td><td>-0080,1</td><td>10243,1</td><td>-1.0</td><td>-8.0</td><td>6.2</td><td>22000</td><td>Winter</td></tr>\n",
       "<tr><td>826099999</td><td>2008-01-01 08:55:00</td><td>4</td><td>0.0</td><td>0.0</td><td>0.0</td><td>WXPOD8270</td><td>FM-15</td><td>KFMH </td><td>V020</td><td>999,9,V,0015,1</td><td>22000,1,9,N</td><td>024140,1,N,1</td><td>-0060,1</td><td>-0060,1</td><td>10216,1</td><td>-6.0</td><td>-6.0</td><td>1.5</td><td>22000</td><td>Winter</td></tr>\n",
       "<tr><td>826099999</td><td>2008-01-01 09:00:00</td><td>4</td><td>0.0</td><td>0.0</td><td>0.0</td><td>WXPOD8270</td><td>FM-12</td><td>KFMH </td><td>V020</td><td>310,1,N,0021,1</td><td>22000,1,9,N</td><td>016000,1,N,1</td><td>-0011,1</td><td>-0050,1</td><td>10219,1</td><td>-1.1</td><td>-5.0</td><td>2.1</td><td>22000</td><td>Winter</td></tr>\n",
       "<tr><td>826099999</td><td>2008-01-01 09:53:00</td><td>4</td><td>0.0</td><td>0.0</td><td>0.0</td><td>WXPOD8270</td><td>AUTO </td><td>KCGI </td><td>V020</td><td>300,1,N,0062,1</td><td>22000,1,9,N</td><td>016093,1,N,1</td><td>-0010,1</td><td>-0070,1</td><td>10250,1</td><td>-1.0</td><td>-7.0</td><td>6.2</td><td>22000</td><td>Winter</td></tr>\n",
       "</table>\n",
       "only showing top 20 rows\n"
      ],
      "text/plain": [
       "+---------+-------------------+------+--------+---------+---------+---------+-----------+---------+---------------+--------------+-----------+------------+-------+-------+-------+-----------+-------------+----------+--------------+------+\n",
       "|  STATION|               DATE|SOURCE|LATITUDE|LONGITUDE|ELEVATION|     NAME|REPORT_TYPE|CALL_SIGN|QUALITY_CONTROL|           WND|        CIG|         VIS|    TMP|    DEW|    SLP|temperature|precipitation|speed_rate|ceiling_height|season|\n",
       "+---------+-------------------+------+--------+---------+---------+---------+-----------+---------+---------------+--------------+-----------+------------+-------+-------+-------+-----------+-------------+----------+--------------+------+\n",
       "|826099999|2008-01-01 00:00:00|     4|     0.0|      0.0|      0.0|WXPOD8270|      FM-15|    KFMH |           V020|280,1,N,0062,1|22000,1,9,N|024140,1,N,1|+0020,1|-0040,1|10170,1|        2.0|         -4.0|       6.2|         22000|Winter|\n",
       "|826099999|2008-01-01 01:00:00|     4|     0.0|      0.0|      0.0|WXPOD8270|      FM-15|    KFMH |           V020|270,1,N,0046,1|22000,1,9,N|024140,1,N,1|+0010,1|-0040,1|10181,1|        1.0|         -4.0|       4.6|         22000|Winter|\n",
       "|826099999|2008-01-01 01:53:00|     4|     0.0|      0.0|      0.0|WXPOD8270|      AUTO |    KCGI |           V020|300,1,N,0067,1|22000,1,9,N|016093,1,N,1|+0030,1|-0040,1|99999,9|        3.0|         -4.0|       6.7|         22000|Winter|\n",
       "|826099999|2008-01-01 02:00:00|     4|     0.0|      0.0|      0.0|WXPOD8270|      FM-15|    KFMH |           V020|270,1,N,0051,1|22000,1,9,N|024140,1,N,1|+0010,1|-0040,1|10192,1|        1.0|         -4.0|       5.1|         22000|Winter|\n",
       "|826099999|2008-01-01 02:53:00|     4|     0.0|      0.0|      0.0|WXPOD8270|      AUTO |    KCGI |           V020|280,1,N,0041,1|22000,1,9,N|016093,1,N,1|+0020,1|-0040,1|10190,1|        2.0|         -4.0|       4.1|         22000|Winter|\n",
       "|826099999|2008-01-01 03:00:00|     4|     0.0|      0.0|      0.0|WXPOD8270|      SY-MT|    KFMH |           V020|300,1,N,0041,1|22000,1,9,N|016000,1,N,1|+0017,1|-0044,1|10203,1|        1.7|         -4.4|       4.1|         22000|Winter|\n",
       "|826099999|2008-01-01 03:53:00|     4|     0.0|      0.0|      0.0|WXPOD8270|      AUTO |    KCGI |           V020|280,1,N,0041,1|22000,1,9,N|016093,1,N,1|+0010,1|-0030,1|10200,1|        1.0|         -3.0|       4.1|         22000|Winter|\n",
       "|826099999|2008-01-01 04:00:00|     4|     0.0|      0.0|      0.0|WXPOD8270|      FM-15|    KFMH |           V020|999,9,V,0010,1|22000,1,9,N|024140,1,N,1|-0030,1|-0050,1|10196,1|       -3.0|         -5.0|       1.0|         22000|Winter|\n",
       "|826099999|2008-01-01 04:53:00|     4|     0.0|      0.0|      0.0|WXPOD8270|      AUTO |    KCGI |           V020|260,1,N,0036,1|22000,1,9,N|016093,1,N,1|+0000,1|-0030,1|10207,1|        0.0|         -3.0|       3.6|         22000|Winter|\n",
       "|826099999|2008-01-01 05:00:00|     4|     0.0|      0.0|      0.0|WXPOD8270|      FM-15|    KFMH |           V020|210,1,N,0015,1|22000,1,9,N|024140,1,N,1|-0040,1|-0050,1|10199,1|       -4.0|         -5.0|       1.5|         22000|Winter|\n",
       "|826099999|2008-01-01 05:53:00|     4|     0.0|      0.0|      0.0|WXPOD8270|      AUTO |    KCGI |           V020|290,1,N,0051,1|22000,1,9,N|016093,1,N,1|+0010,1|-0040,1|10216,1|        1.0|         -4.0|       5.1|         22000|Winter|\n",
       "|826099999|2008-01-01 06:00:00|     4|     0.0|      0.0|      0.0|WXPOD8270|      FM-15|    KFMH |           V020|260,1,N,0005,1|22000,1,9,N|024140,1,N,1|-0040,1|-0050,1|10209,1|       -4.0|         -5.0|       0.5|         22000|Winter|\n",
       "|826099999|2008-01-01 06:53:00|     4|     0.0|      0.0|      0.0|WXPOD8270|      AUTO |    KCGI |           V020|290,1,N,0051,1|22000,1,9,N|016093,1,N,1|+0000,1|-0060,1|10226,1|        0.0|         -6.0|       5.1|         22000|Winter|\n",
       "|826099999|2008-01-01 07:00:00|     4|     0.0|      0.0|      0.0|WXPOD8270|      FM-15|    KFMH |           V020|999,9,C,0000,1|22000,1,9,N|024140,1,N,1|-0030,1|-0050,1|10209,1|       -3.0|         -5.0|       0.0|         22000|Winter|\n",
       "|826099999|2008-01-01 07:53:00|     4|     0.0|      0.0|      0.0|WXPOD8270|      AUTO |    KCGI |           V020|300,1,N,0093,1|22000,1,9,N|016093,1,N,1|+0010,1|-0080,1|10233,1|        1.0|         -8.0|       9.3|         22000|Winter|\n",
       "|826099999|2008-01-01 08:00:00|     4|     0.0|      0.0|      0.0|WXPOD8270|      FM-15|    KFMH |           V020|999,9,V,0005,1|22000,1,9,N|024140,1,N,1|-0050,1|-0060,1|10216,1|       -5.0|         -6.0|       0.5|         22000|Winter|\n",
       "|826099999|2008-01-01 08:53:00|     4|     0.0|      0.0|      0.0|WXPOD8270|      AUTO |    KCGI |           V020|300,1,N,0062,1|22000,1,9,N|016093,1,N,1|-0010,1|-0080,1|10243,1|       -1.0|         -8.0|       6.2|         22000|Winter|\n",
       "|826099999|2008-01-01 08:55:00|     4|     0.0|      0.0|      0.0|WXPOD8270|      FM-15|    KFMH |           V020|999,9,V,0015,1|22000,1,9,N|024140,1,N,1|-0060,1|-0060,1|10216,1|       -6.0|         -6.0|       1.5|         22000|Winter|\n",
       "|826099999|2008-01-01 09:00:00|     4|     0.0|      0.0|      0.0|WXPOD8270|      FM-12|    KFMH |           V020|310,1,N,0021,1|22000,1,9,N|016000,1,N,1|-0011,1|-0050,1|10219,1|       -1.1|         -5.0|       2.1|         22000|Winter|\n",
       "|826099999|2008-01-01 09:53:00|     4|     0.0|      0.0|      0.0|WXPOD8270|      AUTO |    KCGI |           V020|300,1,N,0062,1|22000,1,9,N|016093,1,N,1|-0010,1|-0070,1|10250,1|       -1.0|         -7.0|       6.2|         22000|Winter|\n",
       "+---------+-------------------+------+--------+---------+---------+---------+-----------+---------+---------------+--------------+-----------+------------+-------+-------+-------+-----------+-------------+----------+--------------+------+\n",
       "only showing top 20 rows"
      ]
     },
     "execution_count": 24,
     "metadata": {},
     "output_type": "execute_result"
    }
   ],
   "source": [
    "all_stations"
   ]
  },
  {
   "cell_type": "code",
   "execution_count": null,
   "id": "harmful-performer",
   "metadata": {},
   "outputs": [],
   "source": []
  },
  {
   "cell_type": "markdown",
   "id": "rolled-divide",
   "metadata": {},
   "source": [
    "## Moyenne des températures, elevations, speed_rates, ceiling_heights et des précipitations par année/mois/journée/saison"
   ]
  },
  {
   "cell_type": "code",
   "execution_count": 25,
   "id": "nuclear-people",
   "metadata": {},
   "outputs": [
    {
     "data": {
      "text/html": [
       "<table border='1'>\n",
       "<tr><th>year</th><th>mean_tmp</th><th>mean_elevation</th><th>mean_speed_rate</th><th>mean_ceiling_height</th><th>mean_dew</th></tr>\n",
       "<tr><td>2000</td><td>6.5</td><td>83.99</td><td>3.97</td><td>9158.99</td><td>3.07</td></tr>\n",
       "<tr><td>2002</td><td>5.1</td><td>99.39</td><td>3.78</td><td>10364.9</td><td>1.29</td></tr>\n",
       "<tr><td>2004</td><td>5.34</td><td>99.69</td><td>4.13</td><td>10119.5</td><td>1.55</td></tr>\n",
       "<tr><td>2006</td><td>4.66</td><td>49.06</td><td>5.17</td><td>6679.71</td><td>0.92</td></tr>\n",
       "<tr><td>2008</td><td>3.81</td><td>73.26</td><td>5.02</td><td>6909.59</td><td>0.0</td></tr>\n",
       "<tr><td>2010</td><td>3.03</td><td>79.17</td><td>5.17</td><td>7082.15</td><td>-0.51</td></tr>\n",
       "<tr><td>2012</td><td>4.48</td><td>63.71</td><td>7.08</td><td>8738.69</td><td>0.8</td></tr>\n",
       "<tr><td>2014</td><td>5.25</td><td>82.24</td><td>7.04</td><td>2883.6</td><td>1.82</td></tr>\n",
       "<tr><td>2016</td><td>3.95</td><td>80.42</td><td>4.71</td><td>2751.0</td><td>0.64</td></tr>\n",
       "<tr><td>2018</td><td>3.97</td><td>47.19</td><td>6.02</td><td>3987.21</td><td>0.66</td></tr>\n",
       "</table>\n"
      ],
      "text/plain": [
       "+----+--------+--------------+---------------+-------------------+--------+\n",
       "|year|mean_tmp|mean_elevation|mean_speed_rate|mean_ceiling_height|mean_dew|\n",
       "+----+--------+--------------+---------------+-------------------+--------+\n",
       "|2000|     6.5|         83.99|           3.97|            9158.99|    3.07|\n",
       "|2002|     5.1|         99.39|           3.78|            10364.9|    1.29|\n",
       "|2004|    5.34|         99.69|           4.13|            10119.5|    1.55|\n",
       "|2006|    4.66|         49.06|           5.17|            6679.71|    0.92|\n",
       "|2008|    3.81|         73.26|           5.02|            6909.59|     0.0|\n",
       "|2010|    3.03|         79.17|           5.17|            7082.15|   -0.51|\n",
       "|2012|    4.48|         63.71|           7.08|            8738.69|     0.8|\n",
       "|2014|    5.25|         82.24|           7.04|             2883.6|    1.82|\n",
       "|2016|    3.95|         80.42|           4.71|             2751.0|    0.64|\n",
       "|2018|    3.97|         47.19|           6.02|            3987.21|    0.66|\n",
       "+----+--------+--------------+---------------+-------------------+--------+"
      ]
     },
     "execution_count": 25,
     "metadata": {},
     "output_type": "execute_result"
    }
   ],
   "source": [
    "# Par année\n",
    "means_by_year = all_stations.groupBy([year(\"DATE\").alias(\"year\")]).agg(F.round(mean(\"temperature\"), 2).alias(\"mean_tmp\"), F.round(mean(\"ELEVATION\"), 2).alias(\"mean_elevation\"), F.round(mean(\"speed_rate\"), 2).alias(\"mean_speed_rate\"), F.round(mean(\"ceiling_height\"), 2).alias(\"mean_ceiling_height\"), F.round(mean(\"precipitation\"), 2).alias(\"mean_dew\"))\n",
    "means_by_year = means_by_year.sort(\"year\")\n",
    "means_by_year"
   ]
  },
  {
   "cell_type": "code",
   "execution_count": 26,
   "id": "sensitive-wiring",
   "metadata": {},
   "outputs": [
    {
     "data": {
      "text/html": [
       "<table border='1'>\n",
       "<tr><th>year</th><th>month</th><th>mean_tmp</th><th>mean_elevation</th><th>mean_speed_rate</th><th>mean_ceiling_height</th><th>mean_dew</th></tr>\n",
       "<tr><td>2000</td><td>1</td><td>-0.17</td><td>84.45</td><td>4.95</td><td>9041.95</td><td>-2.73</td></tr>\n",
       "<tr><td>2000</td><td>2</td><td>-0.14</td><td>85.04</td><td>4.83</td><td>9051.08</td><td>-2.75</td></tr>\n",
       "<tr><td>2000</td><td>3</td><td>1.1</td><td>84.16</td><td>4.62</td><td>10068.88</td><td>-2.8</td></tr>\n",
       "<tr><td>2000</td><td>4</td><td>4.33</td><td>85.19</td><td>3.69</td><td>9123.43</td><td>0.43</td></tr>\n",
       "<tr><td>2000</td><td>5</td><td>9.5</td><td>84.23</td><td>3.67</td><td>12021.23</td><td>4.03</td></tr>\n",
       "<tr><td>2000</td><td>6</td><td>11.77</td><td>83.83</td><td>4.0</td><td>9326.8</td><td>6.93</td></tr>\n",
       "<tr><td>2000</td><td>7</td><td>14.1</td><td>81.31</td><td>3.22</td><td>8645.74</td><td>10.16</td></tr>\n",
       "<tr><td>2000</td><td>8</td><td>13.63</td><td>82.84</td><td>2.99</td><td>9537.76</td><td>10.18</td></tr>\n",
       "<tr><td>2000</td><td>9</td><td>10.7</td><td>85.1</td><td>3.52</td><td>10872.76</td><td>7.15</td></tr>\n",
       "<tr><td>2000</td><td>10</td><td>8.66</td><td>83.85</td><td>4.26</td><td>7911.04</td><td>5.94</td></tr>\n",
       "<tr><td>2000</td><td>11</td><td>4.44</td><td>83.47</td><td>3.93</td><td>7033.04</td><td>2.16</td></tr>\n",
       "<tr><td>2000</td><td>12</td><td>0.72</td><td>84.42</td><td>3.81</td><td>7237.98</td><td>-1.25</td></tr>\n",
       "<tr><td>2002</td><td>1</td><td>-2.88</td><td>101.02</td><td>4.47</td><td>7627.77</td><td>-4.92</td></tr>\n",
       "<tr><td>2002</td><td>2</td><td>-1.54</td><td>104.23</td><td>4.76</td><td>7767.07</td><td>-4.0</td></tr>\n",
       "<tr><td>2002</td><td>3</td><td>-0.71</td><td>103.71</td><td>4.35</td><td>10685.93</td><td>-4.26</td></tr>\n",
       "<tr><td>2002</td><td>4</td><td>4.7</td><td>106.12</td><td>3.7</td><td>11264.75</td><td>-0.12</td></tr>\n",
       "<tr><td>2002</td><td>5</td><td>10.04</td><td>103.28</td><td>3.92</td><td>12923.42</td><td>3.52</td></tr>\n",
       "<tr><td>2002</td><td>6</td><td>14.27</td><td>99.69</td><td>3.73</td><td>13148.42</td><td>8.32</td></tr>\n",
       "<tr><td>2002</td><td>7</td><td>16.38</td><td>95.94</td><td>3.47</td><td>11168.16</td><td>11.85</td></tr>\n",
       "<tr><td>2002</td><td>8</td><td>17.08</td><td>95.54</td><td>2.98</td><td>14395.62</td><td>11.97</td></tr>\n",
       "</table>\n",
       "only showing top 20 rows\n"
      ],
      "text/plain": [
       "+----+-----+--------+--------------+---------------+-------------------+--------+\n",
       "|year|month|mean_tmp|mean_elevation|mean_speed_rate|mean_ceiling_height|mean_dew|\n",
       "+----+-----+--------+--------------+---------------+-------------------+--------+\n",
       "|2000|    1|   -0.17|         84.45|           4.95|            9041.95|   -2.73|\n",
       "|2000|    2|   -0.14|         85.04|           4.83|            9051.08|   -2.75|\n",
       "|2000|    3|     1.1|         84.16|           4.62|           10068.88|    -2.8|\n",
       "|2000|    4|    4.33|         85.19|           3.69|            9123.43|    0.43|\n",
       "|2000|    5|     9.5|         84.23|           3.67|           12021.23|    4.03|\n",
       "|2000|    6|   11.77|         83.83|            4.0|             9326.8|    6.93|\n",
       "|2000|    7|    14.1|         81.31|           3.22|            8645.74|   10.16|\n",
       "|2000|    8|   13.63|         82.84|           2.99|            9537.76|   10.18|\n",
       "|2000|    9|    10.7|          85.1|           3.52|           10872.76|    7.15|\n",
       "|2000|   10|    8.66|         83.85|           4.26|            7911.04|    5.94|\n",
       "|2000|   11|    4.44|         83.47|           3.93|            7033.04|    2.16|\n",
       "|2000|   12|    0.72|         84.42|           3.81|            7237.98|   -1.25|\n",
       "|2002|    1|   -2.88|        101.02|           4.47|            7627.77|   -4.92|\n",
       "|2002|    2|   -1.54|        104.23|           4.76|            7767.07|    -4.0|\n",
       "|2002|    3|   -0.71|        103.71|           4.35|           10685.93|   -4.26|\n",
       "|2002|    4|     4.7|        106.12|            3.7|           11264.75|   -0.12|\n",
       "|2002|    5|   10.04|        103.28|           3.92|           12923.42|    3.52|\n",
       "|2002|    6|   14.27|         99.69|           3.73|           13148.42|    8.32|\n",
       "|2002|    7|   16.38|         95.94|           3.47|           11168.16|   11.85|\n",
       "|2002|    8|   17.08|         95.54|           2.98|           14395.62|   11.97|\n",
       "+----+-----+--------+--------------+---------------+-------------------+--------+\n",
       "only showing top 20 rows"
      ]
     },
     "execution_count": 26,
     "metadata": {},
     "output_type": "execute_result"
    }
   ],
   "source": [
    "# Par mois\n",
    "means_by_month = all_stations.groupBy([year(\"DATE\").alias(\"year\"), month(\"DATE\").alias(\"month\")]).agg(F.round(mean(\"temperature\"), 2).alias(\"mean_tmp\"), F.round(mean(\"ELEVATION\"), 2).alias(\"mean_elevation\"), F.round(mean(\"speed_rate\"), 2).alias(\"mean_speed_rate\"), F.round(mean(\"ceiling_height\"), 2).alias(\"mean_ceiling_height\"), F.round(mean(\"precipitation\"), 2).alias(\"mean_dew\"))\n",
    "means_by_month = means_by_month.sort(\"year\", \"month\")\n",
    "means_by_month"
   ]
  },
  {
   "cell_type": "markdown",
   "id": "finite-vaccine",
   "metadata": {},
   "source": [
    "## Création du champ 'year'"
   ]
  },
  {
   "cell_type": "code",
   "execution_count": 27,
   "id": "compatible-recall",
   "metadata": {},
   "outputs": [
    {
     "data": {
      "text/html": [
       "<table border='1'>\n",
       "<tr><th>STATION</th><th>DATE</th><th>SOURCE</th><th>LATITUDE</th><th>LONGITUDE</th><th>ELEVATION</th><th>NAME</th><th>REPORT_TYPE</th><th>CALL_SIGN</th><th>QUALITY_CONTROL</th><th>WND</th><th>CIG</th><th>VIS</th><th>TMP</th><th>DEW</th><th>SLP</th><th>temperature</th><th>precipitation</th><th>speed_rate</th><th>ceiling_height</th><th>season</th><th>year</th></tr>\n",
       "<tr><td>826099999</td><td>2008-01-01 00:00:00</td><td>4</td><td>0.0</td><td>0.0</td><td>0.0</td><td>WXPOD8270</td><td>FM-15</td><td>KFMH </td><td>V020</td><td>280,1,N,0062,1</td><td>22000,1,9,N</td><td>024140,1,N,1</td><td>+0020,1</td><td>-0040,1</td><td>10170,1</td><td>2.0</td><td>-4.0</td><td>6.2</td><td>22000</td><td>Winter</td><td>2008</td></tr>\n",
       "<tr><td>826099999</td><td>2008-01-01 01:00:00</td><td>4</td><td>0.0</td><td>0.0</td><td>0.0</td><td>WXPOD8270</td><td>FM-15</td><td>KFMH </td><td>V020</td><td>270,1,N,0046,1</td><td>22000,1,9,N</td><td>024140,1,N,1</td><td>+0010,1</td><td>-0040,1</td><td>10181,1</td><td>1.0</td><td>-4.0</td><td>4.6</td><td>22000</td><td>Winter</td><td>2008</td></tr>\n",
       "<tr><td>826099999</td><td>2008-01-01 01:53:00</td><td>4</td><td>0.0</td><td>0.0</td><td>0.0</td><td>WXPOD8270</td><td>AUTO </td><td>KCGI </td><td>V020</td><td>300,1,N,0067,1</td><td>22000,1,9,N</td><td>016093,1,N,1</td><td>+0030,1</td><td>-0040,1</td><td>99999,9</td><td>3.0</td><td>-4.0</td><td>6.7</td><td>22000</td><td>Winter</td><td>2008</td></tr>\n",
       "<tr><td>826099999</td><td>2008-01-01 02:00:00</td><td>4</td><td>0.0</td><td>0.0</td><td>0.0</td><td>WXPOD8270</td><td>FM-15</td><td>KFMH </td><td>V020</td><td>270,1,N,0051,1</td><td>22000,1,9,N</td><td>024140,1,N,1</td><td>+0010,1</td><td>-0040,1</td><td>10192,1</td><td>1.0</td><td>-4.0</td><td>5.1</td><td>22000</td><td>Winter</td><td>2008</td></tr>\n",
       "<tr><td>826099999</td><td>2008-01-01 02:53:00</td><td>4</td><td>0.0</td><td>0.0</td><td>0.0</td><td>WXPOD8270</td><td>AUTO </td><td>KCGI </td><td>V020</td><td>280,1,N,0041,1</td><td>22000,1,9,N</td><td>016093,1,N,1</td><td>+0020,1</td><td>-0040,1</td><td>10190,1</td><td>2.0</td><td>-4.0</td><td>4.1</td><td>22000</td><td>Winter</td><td>2008</td></tr>\n",
       "<tr><td>826099999</td><td>2008-01-01 03:00:00</td><td>4</td><td>0.0</td><td>0.0</td><td>0.0</td><td>WXPOD8270</td><td>SY-MT</td><td>KFMH </td><td>V020</td><td>300,1,N,0041,1</td><td>22000,1,9,N</td><td>016000,1,N,1</td><td>+0017,1</td><td>-0044,1</td><td>10203,1</td><td>1.7</td><td>-4.4</td><td>4.1</td><td>22000</td><td>Winter</td><td>2008</td></tr>\n",
       "<tr><td>826099999</td><td>2008-01-01 03:53:00</td><td>4</td><td>0.0</td><td>0.0</td><td>0.0</td><td>WXPOD8270</td><td>AUTO </td><td>KCGI </td><td>V020</td><td>280,1,N,0041,1</td><td>22000,1,9,N</td><td>016093,1,N,1</td><td>+0010,1</td><td>-0030,1</td><td>10200,1</td><td>1.0</td><td>-3.0</td><td>4.1</td><td>22000</td><td>Winter</td><td>2008</td></tr>\n",
       "<tr><td>826099999</td><td>2008-01-01 04:00:00</td><td>4</td><td>0.0</td><td>0.0</td><td>0.0</td><td>WXPOD8270</td><td>FM-15</td><td>KFMH </td><td>V020</td><td>999,9,V,0010,1</td><td>22000,1,9,N</td><td>024140,1,N,1</td><td>-0030,1</td><td>-0050,1</td><td>10196,1</td><td>-3.0</td><td>-5.0</td><td>1.0</td><td>22000</td><td>Winter</td><td>2008</td></tr>\n",
       "<tr><td>826099999</td><td>2008-01-01 04:53:00</td><td>4</td><td>0.0</td><td>0.0</td><td>0.0</td><td>WXPOD8270</td><td>AUTO </td><td>KCGI </td><td>V020</td><td>260,1,N,0036,1</td><td>22000,1,9,N</td><td>016093,1,N,1</td><td>+0000,1</td><td>-0030,1</td><td>10207,1</td><td>0.0</td><td>-3.0</td><td>3.6</td><td>22000</td><td>Winter</td><td>2008</td></tr>\n",
       "<tr><td>826099999</td><td>2008-01-01 05:00:00</td><td>4</td><td>0.0</td><td>0.0</td><td>0.0</td><td>WXPOD8270</td><td>FM-15</td><td>KFMH </td><td>V020</td><td>210,1,N,0015,1</td><td>22000,1,9,N</td><td>024140,1,N,1</td><td>-0040,1</td><td>-0050,1</td><td>10199,1</td><td>-4.0</td><td>-5.0</td><td>1.5</td><td>22000</td><td>Winter</td><td>2008</td></tr>\n",
       "<tr><td>826099999</td><td>2008-01-01 05:53:00</td><td>4</td><td>0.0</td><td>0.0</td><td>0.0</td><td>WXPOD8270</td><td>AUTO </td><td>KCGI </td><td>V020</td><td>290,1,N,0051,1</td><td>22000,1,9,N</td><td>016093,1,N,1</td><td>+0010,1</td><td>-0040,1</td><td>10216,1</td><td>1.0</td><td>-4.0</td><td>5.1</td><td>22000</td><td>Winter</td><td>2008</td></tr>\n",
       "<tr><td>826099999</td><td>2008-01-01 06:00:00</td><td>4</td><td>0.0</td><td>0.0</td><td>0.0</td><td>WXPOD8270</td><td>FM-15</td><td>KFMH </td><td>V020</td><td>260,1,N,0005,1</td><td>22000,1,9,N</td><td>024140,1,N,1</td><td>-0040,1</td><td>-0050,1</td><td>10209,1</td><td>-4.0</td><td>-5.0</td><td>0.5</td><td>22000</td><td>Winter</td><td>2008</td></tr>\n",
       "<tr><td>826099999</td><td>2008-01-01 06:53:00</td><td>4</td><td>0.0</td><td>0.0</td><td>0.0</td><td>WXPOD8270</td><td>AUTO </td><td>KCGI </td><td>V020</td><td>290,1,N,0051,1</td><td>22000,1,9,N</td><td>016093,1,N,1</td><td>+0000,1</td><td>-0060,1</td><td>10226,1</td><td>0.0</td><td>-6.0</td><td>5.1</td><td>22000</td><td>Winter</td><td>2008</td></tr>\n",
       "<tr><td>826099999</td><td>2008-01-01 07:00:00</td><td>4</td><td>0.0</td><td>0.0</td><td>0.0</td><td>WXPOD8270</td><td>FM-15</td><td>KFMH </td><td>V020</td><td>999,9,C,0000,1</td><td>22000,1,9,N</td><td>024140,1,N,1</td><td>-0030,1</td><td>-0050,1</td><td>10209,1</td><td>-3.0</td><td>-5.0</td><td>0.0</td><td>22000</td><td>Winter</td><td>2008</td></tr>\n",
       "<tr><td>826099999</td><td>2008-01-01 07:53:00</td><td>4</td><td>0.0</td><td>0.0</td><td>0.0</td><td>WXPOD8270</td><td>AUTO </td><td>KCGI </td><td>V020</td><td>300,1,N,0093,1</td><td>22000,1,9,N</td><td>016093,1,N,1</td><td>+0010,1</td><td>-0080,1</td><td>10233,1</td><td>1.0</td><td>-8.0</td><td>9.3</td><td>22000</td><td>Winter</td><td>2008</td></tr>\n",
       "<tr><td>826099999</td><td>2008-01-01 08:00:00</td><td>4</td><td>0.0</td><td>0.0</td><td>0.0</td><td>WXPOD8270</td><td>FM-15</td><td>KFMH </td><td>V020</td><td>999,9,V,0005,1</td><td>22000,1,9,N</td><td>024140,1,N,1</td><td>-0050,1</td><td>-0060,1</td><td>10216,1</td><td>-5.0</td><td>-6.0</td><td>0.5</td><td>22000</td><td>Winter</td><td>2008</td></tr>\n",
       "<tr><td>826099999</td><td>2008-01-01 08:53:00</td><td>4</td><td>0.0</td><td>0.0</td><td>0.0</td><td>WXPOD8270</td><td>AUTO </td><td>KCGI </td><td>V020</td><td>300,1,N,0062,1</td><td>22000,1,9,N</td><td>016093,1,N,1</td><td>-0010,1</td><td>-0080,1</td><td>10243,1</td><td>-1.0</td><td>-8.0</td><td>6.2</td><td>22000</td><td>Winter</td><td>2008</td></tr>\n",
       "<tr><td>826099999</td><td>2008-01-01 08:55:00</td><td>4</td><td>0.0</td><td>0.0</td><td>0.0</td><td>WXPOD8270</td><td>FM-15</td><td>KFMH </td><td>V020</td><td>999,9,V,0015,1</td><td>22000,1,9,N</td><td>024140,1,N,1</td><td>-0060,1</td><td>-0060,1</td><td>10216,1</td><td>-6.0</td><td>-6.0</td><td>1.5</td><td>22000</td><td>Winter</td><td>2008</td></tr>\n",
       "<tr><td>826099999</td><td>2008-01-01 09:00:00</td><td>4</td><td>0.0</td><td>0.0</td><td>0.0</td><td>WXPOD8270</td><td>FM-12</td><td>KFMH </td><td>V020</td><td>310,1,N,0021,1</td><td>22000,1,9,N</td><td>016000,1,N,1</td><td>-0011,1</td><td>-0050,1</td><td>10219,1</td><td>-1.1</td><td>-5.0</td><td>2.1</td><td>22000</td><td>Winter</td><td>2008</td></tr>\n",
       "<tr><td>826099999</td><td>2008-01-01 09:53:00</td><td>4</td><td>0.0</td><td>0.0</td><td>0.0</td><td>WXPOD8270</td><td>AUTO </td><td>KCGI </td><td>V020</td><td>300,1,N,0062,1</td><td>22000,1,9,N</td><td>016093,1,N,1</td><td>-0010,1</td><td>-0070,1</td><td>10250,1</td><td>-1.0</td><td>-7.0</td><td>6.2</td><td>22000</td><td>Winter</td><td>2008</td></tr>\n",
       "</table>\n",
       "only showing top 20 rows\n"
      ],
      "text/plain": [
       "+---------+-------------------+------+--------+---------+---------+---------+-----------+---------+---------------+--------------+-----------+------------+-------+-------+-------+-----------+-------------+----------+--------------+------+----+\n",
       "|  STATION|               DATE|SOURCE|LATITUDE|LONGITUDE|ELEVATION|     NAME|REPORT_TYPE|CALL_SIGN|QUALITY_CONTROL|           WND|        CIG|         VIS|    TMP|    DEW|    SLP|temperature|precipitation|speed_rate|ceiling_height|season|year|\n",
       "+---------+-------------------+------+--------+---------+---------+---------+-----------+---------+---------------+--------------+-----------+------------+-------+-------+-------+-----------+-------------+----------+--------------+------+----+\n",
       "|826099999|2008-01-01 00:00:00|     4|     0.0|      0.0|      0.0|WXPOD8270|      FM-15|    KFMH |           V020|280,1,N,0062,1|22000,1,9,N|024140,1,N,1|+0020,1|-0040,1|10170,1|        2.0|         -4.0|       6.2|         22000|Winter|2008|\n",
       "|826099999|2008-01-01 01:00:00|     4|     0.0|      0.0|      0.0|WXPOD8270|      FM-15|    KFMH |           V020|270,1,N,0046,1|22000,1,9,N|024140,1,N,1|+0010,1|-0040,1|10181,1|        1.0|         -4.0|       4.6|         22000|Winter|2008|\n",
       "|826099999|2008-01-01 01:53:00|     4|     0.0|      0.0|      0.0|WXPOD8270|      AUTO |    KCGI |           V020|300,1,N,0067,1|22000,1,9,N|016093,1,N,1|+0030,1|-0040,1|99999,9|        3.0|         -4.0|       6.7|         22000|Winter|2008|\n",
       "|826099999|2008-01-01 02:00:00|     4|     0.0|      0.0|      0.0|WXPOD8270|      FM-15|    KFMH |           V020|270,1,N,0051,1|22000,1,9,N|024140,1,N,1|+0010,1|-0040,1|10192,1|        1.0|         -4.0|       5.1|         22000|Winter|2008|\n",
       "|826099999|2008-01-01 02:53:00|     4|     0.0|      0.0|      0.0|WXPOD8270|      AUTO |    KCGI |           V020|280,1,N,0041,1|22000,1,9,N|016093,1,N,1|+0020,1|-0040,1|10190,1|        2.0|         -4.0|       4.1|         22000|Winter|2008|\n",
       "|826099999|2008-01-01 03:00:00|     4|     0.0|      0.0|      0.0|WXPOD8270|      SY-MT|    KFMH |           V020|300,1,N,0041,1|22000,1,9,N|016000,1,N,1|+0017,1|-0044,1|10203,1|        1.7|         -4.4|       4.1|         22000|Winter|2008|\n",
       "|826099999|2008-01-01 03:53:00|     4|     0.0|      0.0|      0.0|WXPOD8270|      AUTO |    KCGI |           V020|280,1,N,0041,1|22000,1,9,N|016093,1,N,1|+0010,1|-0030,1|10200,1|        1.0|         -3.0|       4.1|         22000|Winter|2008|\n",
       "|826099999|2008-01-01 04:00:00|     4|     0.0|      0.0|      0.0|WXPOD8270|      FM-15|    KFMH |           V020|999,9,V,0010,1|22000,1,9,N|024140,1,N,1|-0030,1|-0050,1|10196,1|       -3.0|         -5.0|       1.0|         22000|Winter|2008|\n",
       "|826099999|2008-01-01 04:53:00|     4|     0.0|      0.0|      0.0|WXPOD8270|      AUTO |    KCGI |           V020|260,1,N,0036,1|22000,1,9,N|016093,1,N,1|+0000,1|-0030,1|10207,1|        0.0|         -3.0|       3.6|         22000|Winter|2008|\n",
       "|826099999|2008-01-01 05:00:00|     4|     0.0|      0.0|      0.0|WXPOD8270|      FM-15|    KFMH |           V020|210,1,N,0015,1|22000,1,9,N|024140,1,N,1|-0040,1|-0050,1|10199,1|       -4.0|         -5.0|       1.5|         22000|Winter|2008|\n",
       "|826099999|2008-01-01 05:53:00|     4|     0.0|      0.0|      0.0|WXPOD8270|      AUTO |    KCGI |           V020|290,1,N,0051,1|22000,1,9,N|016093,1,N,1|+0010,1|-0040,1|10216,1|        1.0|         -4.0|       5.1|         22000|Winter|2008|\n",
       "|826099999|2008-01-01 06:00:00|     4|     0.0|      0.0|      0.0|WXPOD8270|      FM-15|    KFMH |           V020|260,1,N,0005,1|22000,1,9,N|024140,1,N,1|-0040,1|-0050,1|10209,1|       -4.0|         -5.0|       0.5|         22000|Winter|2008|\n",
       "|826099999|2008-01-01 06:53:00|     4|     0.0|      0.0|      0.0|WXPOD8270|      AUTO |    KCGI |           V020|290,1,N,0051,1|22000,1,9,N|016093,1,N,1|+0000,1|-0060,1|10226,1|        0.0|         -6.0|       5.1|         22000|Winter|2008|\n",
       "|826099999|2008-01-01 07:00:00|     4|     0.0|      0.0|      0.0|WXPOD8270|      FM-15|    KFMH |           V020|999,9,C,0000,1|22000,1,9,N|024140,1,N,1|-0030,1|-0050,1|10209,1|       -3.0|         -5.0|       0.0|         22000|Winter|2008|\n",
       "|826099999|2008-01-01 07:53:00|     4|     0.0|      0.0|      0.0|WXPOD8270|      AUTO |    KCGI |           V020|300,1,N,0093,1|22000,1,9,N|016093,1,N,1|+0010,1|-0080,1|10233,1|        1.0|         -8.0|       9.3|         22000|Winter|2008|\n",
       "|826099999|2008-01-01 08:00:00|     4|     0.0|      0.0|      0.0|WXPOD8270|      FM-15|    KFMH |           V020|999,9,V,0005,1|22000,1,9,N|024140,1,N,1|-0050,1|-0060,1|10216,1|       -5.0|         -6.0|       0.5|         22000|Winter|2008|\n",
       "|826099999|2008-01-01 08:53:00|     4|     0.0|      0.0|      0.0|WXPOD8270|      AUTO |    KCGI |           V020|300,1,N,0062,1|22000,1,9,N|016093,1,N,1|-0010,1|-0080,1|10243,1|       -1.0|         -8.0|       6.2|         22000|Winter|2008|\n",
       "|826099999|2008-01-01 08:55:00|     4|     0.0|      0.0|      0.0|WXPOD8270|      FM-15|    KFMH |           V020|999,9,V,0015,1|22000,1,9,N|024140,1,N,1|-0060,1|-0060,1|10216,1|       -6.0|         -6.0|       1.5|         22000|Winter|2008|\n",
       "|826099999|2008-01-01 09:00:00|     4|     0.0|      0.0|      0.0|WXPOD8270|      FM-12|    KFMH |           V020|310,1,N,0021,1|22000,1,9,N|016000,1,N,1|-0011,1|-0050,1|10219,1|       -1.1|         -5.0|       2.1|         22000|Winter|2008|\n",
       "|826099999|2008-01-01 09:53:00|     4|     0.0|      0.0|      0.0|WXPOD8270|      AUTO |    KCGI |           V020|300,1,N,0062,1|22000,1,9,N|016093,1,N,1|-0010,1|-0070,1|10250,1|       -1.0|         -7.0|       6.2|         22000|Winter|2008|\n",
       "+---------+-------------------+------+--------+---------+---------+---------+-----------+---------+---------------+--------------+-----------+------------+-------+-------+-------+-----------+-------------+----------+--------------+------+----+\n",
       "only showing top 20 rows"
      ]
     },
     "execution_count": 27,
     "metadata": {},
     "output_type": "execute_result"
    }
   ],
   "source": [
    "all_stations = all_stations.withColumn(\"year\", year(all_stations[\"DATE\"]))\n",
    "all_stations"
   ]
  },
  {
   "cell_type": "code",
   "execution_count": null,
   "id": "saved-minimum",
   "metadata": {},
   "outputs": [],
   "source": []
  },
  {
   "cell_type": "markdown",
   "id": "primary-criminal",
   "metadata": {},
   "source": [
    "## Longitude et latitude par station"
   ]
  },
  {
   "cell_type": "code",
   "execution_count": 28,
   "id": "apparent-apparatus",
   "metadata": {},
   "outputs": [
    {
     "name": "stdin",
     "output_type": "stream",
     "text": [
      "Quelle année? :  2018\n"
     ]
    },
    {
     "name": "stdout",
     "output_type": "stream",
     "text": [
      "+----------+-----------------+------------------+\n",
      "|   STATION|              lat|              long|\n",
      "+----------+-----------------+------------------+\n",
      "|1052099999|70.68333435058594|23.683332443237305|\n",
      "|1023099999|69.05575561523438|18.540355682373047|\n",
      "|1025099999|69.68333435058594| 18.91891860961914|\n",
      "|1059099999|70.06881713867188| 24.97348976135254|\n",
      "|1010099999| 69.2925033569336|16.144166946411133|\n",
      "|1008099999|78.24610900878906|15.465556144714355|\n",
      "|1087599999|59.56666564941406|2.2166666984558105|\n",
      "|1087699999|66.01667022705078| 8.083333015441895|\n",
      "|1049099999|69.97611236572266|23.371667861938477|\n",
      "|1044099999| 70.4866714477539| 22.13974380493164|\n",
      "|1046099999| 69.7868423461914|20.959444046020508|\n",
      "|1083099999|70.86666870117188| 29.03333282470703|\n",
      "|1086099999|70.60025787353516|29.692678451538086|\n",
      "|1074099999|71.03333282470703| 27.83333396911621|\n",
      "|1028099999|74.51667022705078|19.016666412353516|\n",
      "|1026099999| 69.6500015258789|18.933332443237305|\n",
      "|1068099999|71.01667022705078|25.983333587646484|\n",
      "|1003099999|             77.0|              15.5|\n",
      "|1001099999|70.93333435058594|-8.666666984558105|\n",
      "|1062099999|             76.5|25.066667556762695|\n",
      "+----------+-----------------+------------------+\n",
      "only showing top 20 rows\n",
      "\n"
     ]
    }
   ],
   "source": [
    "annee = int(input(\"Quelle année? : \"))\n",
    "longitude_latitude_par_station = all_stations.filter(all_stations.year == annee).groupBy([\"STATION\"]).agg(mean(\"LATITUDE\").alias(\"lat\"), mean(\"LONGITUDE\").alias(\"long\"))\n",
    "longitude_latitude_par_station.show()"
   ]
  },
  {
   "cell_type": "code",
   "execution_count": 29,
   "id": "entertaining-devon",
   "metadata": {},
   "outputs": [
    {
     "data": {
      "text/plain": [
       "29"
      ]
     },
     "execution_count": 29,
     "metadata": {},
     "output_type": "execute_result"
    }
   ],
   "source": [
    "longitude_latitude_par_station.count()"
   ]
  },
  {
   "cell_type": "code",
   "execution_count": null,
   "id": "colored-compilation",
   "metadata": {},
   "outputs": [],
   "source": [
    "filtre_norvege = longitude_latitude_par_station.filter(longitude_latitude_par_station.long >= 5).filter(longitude_latitude_par_station.long <= 12).filter(longitude_latitude_par_station.lat >= 57).filter(longitude_latitude_par_station.lat <= 65)\n",
    "filtre_norvege"
   ]
  },
  {
   "cell_type": "code",
   "execution_count": null,
   "id": "greenhouse-frequency",
   "metadata": {},
   "outputs": [],
   "source": [
    "# Par jour, pour l'année choisie et pour une station choisie\n",
    "num_station = int(input(\"Quelle station ? : \"))\n",
    "means_by_day = all_stations.filter(all_stations.year == annee).filter(all_stations.STATION == num_station).groupBy([to_date(\"DATE\").cast(\"date\").alias(\"date\")]).agg(F.round(mean(\"temperature\"), 2).alias(\"mean_tmp\"), F.round(mean(\"ELEVATION\"), 2).alias(\"mean_elevation\"), F.round(mean(\"speed_rate\"), 2).alias(\"mean_speed_rate\"), F.round(mean(\"ceiling_height\"), 2).alias(\"mean_ceiling_height\"), F.round(mean(\"precipitation\"), 2).alias(\"mean_dew\"))\n",
    "means_by_day = means_by_day.sort(\"date\")\n",
    "means_by_day.show(365)"
   ]
  },
  {
   "cell_type": "code",
   "execution_count": 33,
   "id": "american-fitting",
   "metadata": {},
   "outputs": [
    {
     "data": {
      "text/plain": [
       "296"
      ]
     },
     "execution_count": 33,
     "metadata": {},
     "output_type": "execute_result"
    }
   ],
   "source": [
    "means_by_day.count()"
   ]
  },
  {
   "cell_type": "markdown",
   "id": "focal-nature",
   "metadata": {},
   "source": [
    "# Apprentissage"
   ]
  },
  {
   "cell_type": "markdown",
   "id": "constant-brooks",
   "metadata": {},
   "source": [
    "## Définition features/valeur cible + splits"
   ]
  },
  {
   "cell_type": "code",
   "execution_count": 1,
   "id": "played-perception",
   "metadata": {},
   "outputs": [
    {
     "ename": "NameError",
     "evalue": "name 'means_by_day' is not defined",
     "output_type": "error",
     "traceback": [
      "\u001b[0;31m---------------------------------------------------------------------------\u001b[0m",
      "\u001b[0;31mNameError\u001b[0m                                 Traceback (most recent call last)",
      "Input \u001b[0;32mIn [1]\u001b[0m, in \u001b[0;36m<cell line: 5>\u001b[0;34m()\u001b[0m\n\u001b[1;32m      2\u001b[0m \u001b[38;5;28;01mfrom\u001b[39;00m \u001b[38;5;21;01mpyspark\u001b[39;00m\u001b[38;5;21;01m.\u001b[39;00m\u001b[38;5;21;01mml\u001b[39;00m\u001b[38;5;21;01m.\u001b[39;00m\u001b[38;5;21;01mfeature\u001b[39;00m \u001b[38;5;28;01mimport\u001b[39;00m VectorAssembler\n\u001b[1;32m      4\u001b[0m \u001b[38;5;66;03m# Load training data\u001b[39;00m\n\u001b[0;32m----> 5\u001b[0m training \u001b[38;5;241m=\u001b[39m \u001b[43mmeans_by_day\u001b[49m\n\u001b[1;32m      7\u001b[0m vectorAssembler \u001b[38;5;241m=\u001b[39m VectorAssembler(inputCols \u001b[38;5;241m=\u001b[39m [\u001b[38;5;124m\"\u001b[39m\u001b[38;5;124mmean_tmp\u001b[39m\u001b[38;5;124m\"\u001b[39m, \u001b[38;5;124m\"\u001b[39m\u001b[38;5;124mmean_elevation\u001b[39m\u001b[38;5;124m\"\u001b[39m, \u001b[38;5;124m\"\u001b[39m\u001b[38;5;124mmean_speed_rate\u001b[39m\u001b[38;5;124m\"\u001b[39m, \u001b[38;5;124m\"\u001b[39m\u001b[38;5;124mmean_ceiling_height\u001b[39m\u001b[38;5;124m\"\u001b[39m], outputCol \u001b[38;5;241m=\u001b[39m \u001b[38;5;124m'\u001b[39m\u001b[38;5;124mfeatures\u001b[39m\u001b[38;5;124m'\u001b[39m)\n\u001b[1;32m      8\u001b[0m v_training \u001b[38;5;241m=\u001b[39m vectorAssembler\u001b[38;5;241m.\u001b[39mtransform(training)\n",
      "\u001b[0;31mNameError\u001b[0m: name 'means_by_day' is not defined"
     ]
    }
   ],
   "source": [
    "from pyspark.ml.regression import LinearRegression\n",
    "from pyspark.ml.feature import VectorAssembler\n",
    "\n",
    "# Load training data\n",
    "training = means_by_day\n",
    "\n",
    "vectorAssembler = VectorAssembler(inputCols = [\"mean_tmp\", \"mean_elevation\", \"mean_speed_rate\", \"mean_ceiling_height\"], outputCol = 'features')\n",
    "v_training = vectorAssembler.transform(training)\n",
    "v_training = v_training.select(['features', 'mean_wnd'])\n",
    "v_training.show(3)"
   ]
  },
  {
   "cell_type": "markdown",
   "id": "ordered-scratch",
   "metadata": {},
   "source": [
    "## 1) Linear regression"
   ]
  },
  {
   "cell_type": "code",
   "execution_count": 36,
   "id": "primary-slope",
   "metadata": {},
   "outputs": [
    {
     "name": "stdout",
     "output_type": "stream",
     "text": [
      "Coefficients: [1.0994581813759376,0.0,0.0,-0.0003549470170994134]\n",
      "Intercept: -4.423823011597642\n"
     ]
    }
   ],
   "source": [
    "lr = LinearRegression(featuresCol = 'features', labelCol='mean_wnd', maxIter=10, regParam=0.3, elasticNetParam=0.8)\n",
    "\n",
    "# Fit the model\n",
    "lrModel = lr.fit(train_df)\n",
    "\n",
    "# Print the coefficients and intercept for linear regression\n",
    "print(\"Coefficients: %s\" % str(lrModel.coefficients))\n",
    "print(\"Intercept: %s\" % str(lrModel.intercept))"
   ]
  },
  {
   "cell_type": "markdown",
   "id": "dental-diagram",
   "metadata": {},
   "source": [
    "### Viz des corrélations entre les features et la valeur cible"
   ]
  },
  {
   "cell_type": "code",
   "execution_count": 77,
   "id": "material-numbers",
   "metadata": {},
   "outputs": [
    {
     "data": {
      "text/html": [
       "<div>\n",
       "<style scoped>\n",
       "    .dataframe tbody tr th:only-of-type {\n",
       "        vertical-align: middle;\n",
       "    }\n",
       "\n",
       "    .dataframe tbody tr th {\n",
       "        vertical-align: top;\n",
       "    }\n",
       "\n",
       "    .dataframe thead th {\n",
       "        text-align: right;\n",
       "    }\n",
       "</style>\n",
       "<table border=\"1\" class=\"dataframe\">\n",
       "  <thead>\n",
       "    <tr style=\"text-align: right;\">\n",
       "      <th></th>\n",
       "      <th>date</th>\n",
       "      <th>mean_tmp</th>\n",
       "      <th>mean_elevation</th>\n",
       "      <th>mean_speed_rate</th>\n",
       "      <th>mean_ceiling_height</th>\n",
       "      <th>mean_dew</th>\n",
       "    </tr>\n",
       "  </thead>\n",
       "  <tbody>\n",
       "    <tr>\n",
       "      <th>0</th>\n",
       "      <td>2016-01-01</td>\n",
       "      <td>7.67</td>\n",
       "      <td>0.0</td>\n",
       "      <td>15.27</td>\n",
       "      <td>2438.00</td>\n",
       "      <td>-1.00</td>\n",
       "    </tr>\n",
       "    <tr>\n",
       "      <th>1</th>\n",
       "      <td>2016-01-04</td>\n",
       "      <td>-3.00</td>\n",
       "      <td>0.0</td>\n",
       "      <td>11.85</td>\n",
       "      <td>610.00</td>\n",
       "      <td>-10.00</td>\n",
       "    </tr>\n",
       "    <tr>\n",
       "      <th>2</th>\n",
       "      <td>2016-01-05</td>\n",
       "      <td>-0.33</td>\n",
       "      <td>0.0</td>\n",
       "      <td>10.30</td>\n",
       "      <td>437.00</td>\n",
       "      <td>-6.33</td>\n",
       "    </tr>\n",
       "    <tr>\n",
       "      <th>3</th>\n",
       "      <td>2016-01-06</td>\n",
       "      <td>1.00</td>\n",
       "      <td>0.0</td>\n",
       "      <td>8.50</td>\n",
       "      <td>495.25</td>\n",
       "      <td>-1.75</td>\n",
       "    </tr>\n",
       "    <tr>\n",
       "      <th>4</th>\n",
       "      <td>2016-01-07</td>\n",
       "      <td>-0.50</td>\n",
       "      <td>0.0</td>\n",
       "      <td>8.00</td>\n",
       "      <td>610.00</td>\n",
       "      <td>-7.50</td>\n",
       "    </tr>\n",
       "    <tr>\n",
       "      <th>...</th>\n",
       "      <td>...</td>\n",
       "      <td>...</td>\n",
       "      <td>...</td>\n",
       "      <td>...</td>\n",
       "      <td>...</td>\n",
       "      <td>...</td>\n",
       "    </tr>\n",
       "    <tr>\n",
       "      <th>291</th>\n",
       "      <td>2016-12-27</td>\n",
       "      <td>4.25</td>\n",
       "      <td>0.0</td>\n",
       "      <td>14.42</td>\n",
       "      <td>1257.25</td>\n",
       "      <td>-4.25</td>\n",
       "    </tr>\n",
       "    <tr>\n",
       "      <th>292</th>\n",
       "      <td>2016-12-28</td>\n",
       "      <td>8.00</td>\n",
       "      <td>0.0</td>\n",
       "      <td>24.20</td>\n",
       "      <td>739.25</td>\n",
       "      <td>5.75</td>\n",
       "    </tr>\n",
       "    <tr>\n",
       "      <th>293</th>\n",
       "      <td>2016-12-29</td>\n",
       "      <td>6.33</td>\n",
       "      <td>0.0</td>\n",
       "      <td>8.57</td>\n",
       "      <td>477.67</td>\n",
       "      <td>4.33</td>\n",
       "    </tr>\n",
       "    <tr>\n",
       "      <th>294</th>\n",
       "      <td>2016-12-30</td>\n",
       "      <td>6.25</td>\n",
       "      <td>0.0</td>\n",
       "      <td>23.03</td>\n",
       "      <td>746.75</td>\n",
       "      <td>4.00</td>\n",
       "    </tr>\n",
       "    <tr>\n",
       "      <th>295</th>\n",
       "      <td>2016-12-31</td>\n",
       "      <td>5.33</td>\n",
       "      <td>0.0</td>\n",
       "      <td>24.03</td>\n",
       "      <td>1016.00</td>\n",
       "      <td>-0.67</td>\n",
       "    </tr>\n",
       "  </tbody>\n",
       "</table>\n",
       "<p>296 rows × 6 columns</p>\n",
       "</div>"
      ],
      "text/plain": [
       "           date  mean_tmp  mean_elevation  mean_speed_rate  \\\n",
       "0    2016-01-01      7.67             0.0            15.27   \n",
       "1    2016-01-04     -3.00             0.0            11.85   \n",
       "2    2016-01-05     -0.33             0.0            10.30   \n",
       "3    2016-01-06      1.00             0.0             8.50   \n",
       "4    2016-01-07     -0.50             0.0             8.00   \n",
       "..          ...       ...             ...              ...   \n",
       "291  2016-12-27      4.25             0.0            14.42   \n",
       "292  2016-12-28      8.00             0.0            24.20   \n",
       "293  2016-12-29      6.33             0.0             8.57   \n",
       "294  2016-12-30      6.25             0.0            23.03   \n",
       "295  2016-12-31      5.33             0.0            24.03   \n",
       "\n",
       "     mean_ceiling_height  mean_dew  \n",
       "0                2438.00     -1.00  \n",
       "1                 610.00    -10.00  \n",
       "2                 437.00     -6.33  \n",
       "3                 495.25     -1.75  \n",
       "4                 610.00     -7.50  \n",
       "..                   ...       ...  \n",
       "291              1257.25     -4.25  \n",
       "292               739.25      5.75  \n",
       "293               477.67      4.33  \n",
       "294               746.75      4.00  \n",
       "295              1016.00     -0.67  \n",
       "\n",
       "[296 rows x 6 columns]"
      ]
     },
     "execution_count": 77,
     "metadata": {},
     "output_type": "execute_result"
    }
   ],
   "source": [
    "traindf=training.toPandas()\n",
    "traindf"
   ]
  },
  {
   "cell_type": "code",
   "execution_count": 78,
   "id": "listed-summer",
   "metadata": {},
   "outputs": [
    {
     "data": {
      "text/plain": [
       "[<matplotlib.lines.Line2D at 0x7f01fc229550>]"
      ]
     },
     "execution_count": 78,
     "metadata": {},
     "output_type": "execute_result"
    },
    {
     "data": {
      "image/png": "[encoded data removed]",
      "text/plain": [
       "<Figure size 432x288 with 1 Axes>"
      ]
     },
     "metadata": {
      "needs_background": "light"
     },
     "output_type": "display_data"
    }
   ],
   "source": [
    "# Temperature\n",
    "traindf.plot.scatter('mean_tmp','mean_wnd')\n",
    "plt.plot(traindf['mean_wnd'], (1.0994581813759376*traindf['mean_wnd']) -4.423823011597642, color='red')"
   ]
  },
  {
   "cell_type": "code",
   "execution_count": 90,
   "id": "alive-productivity",
   "metadata": {},
   "outputs": [
    {
     "data": {
      "text/plain": [
       "[<matplotlib.lines.Line2D at 0x7f01f6388df0>]"
      ]
     },
     "execution_count": 90,
     "metadata": {},
     "output_type": "execute_result"
    },
    {
     "data": {
      "image/png": "[encoded data removed]",
      "text/plain": [
       "<Figure size 432x288 with 1 Axes>"
      ]
     },
     "metadata": {
      "needs_background": "light"
     },
     "output_type": "display_data"
    }
   ],
   "source": [
    "# Elevation\n",
    "traindf.plot.scatter('mean_elevation','mean_wnd')\n",
    "plt.plot(traindf['mean_elevation'], (0*traindf['mean_elevation']) -4.423823011597642, color='red')"
   ]
  },
  {
   "cell_type": "code",
   "execution_count": 89,
   "id": "arabic-interview",
   "metadata": {},
   "outputs": [
    {
     "data": {
      "text/plain": [
       "[<matplotlib.lines.Line2D at 0x7f01f6428520>]"
      ]
     },
     "execution_count": 89,
     "metadata": {},
     "output_type": "execute_result"
    },
    {
     "data": {
      "image/png": "[encoded data removed]",
      "text/plain": [
       "<Figure size 432x288 with 1 Axes>"
      ]
     },
     "metadata": {
      "needs_background": "light"
     },
     "output_type": "display_data"
    }
   ],
   "source": [
    "# Speed rate\n",
    "traindf.plot.scatter('mean_speed_rate','mean_wnd')\n",
    "plt.plot(traindf['mean_speed_rate'], (0*traindf['mean_speed_rate']) -4.423823011597642, color='red')"
   ]
  },
  {
   "cell_type": "code",
   "execution_count": 86,
   "id": "silver-permission",
   "metadata": {},
   "outputs": [
    {
     "data": {
      "text/plain": [
       "[<matplotlib.lines.Line2D at 0x7f01f6677580>]"
      ]
     },
     "execution_count": 86,
     "metadata": {},
     "output_type": "execute_result"
    },
    {
     "data": {
      "image/png": "[encoded data removed]",
      "text/plain": [
       "<Figure size 432x288 with 1 Axes>"
      ]
     },
     "metadata": {
      "needs_background": "light"
     },
     "output_type": "display_data"
    }
   ],
   "source": [
    "# Ceiling height\n",
    "traindf.plot.scatter('mean_ceiling_height','mean_wnd')\n",
    "plt.plot(traindf['mean_ceiling_height'], (-0.0003549470170994134*traindf['mean_ceiling_height']) - 4.423823011597642, color='red')"
   ]
  },
  {
   "cell_type": "code",
   "execution_count": 38,
   "id": "incident-malta",
   "metadata": {},
   "outputs": [
    {
     "name": "stdout",
     "output_type": "stream",
     "text": [
      "RMSE: 2.175821\n",
      "r2: 0.828045\n"
     ]
    }
   ],
   "source": [
    "# Summarize the model over the training set and print out some metrics\n",
    "trainingSummary = lrModel.summary\n",
    "print(\"RMSE: %f\" % trainingSummary.rootMeanSquaredError)\n",
    "print(\"r2: %f\" % trainingSummary.r2)"
   ]
  },
  {
   "cell_type": "code",
   "execution_count": 39,
   "id": "stylish-status",
   "metadata": {},
   "outputs": [
    {
     "name": "stdout",
     "output_type": "stream",
     "text": [
      "+-------+------------------+\n",
      "|summary|          mean_dew|\n",
      "+-------+------------------+\n",
      "|  count|               209|\n",
      "|   mean|3.5849760765550243|\n",
      "| stddev| 5.259647283106932|\n",
      "|    min|             -14.0|\n",
      "|    max|              14.0|\n",
      "+-------+------------------+\n",
      "\n"
     ]
    }
   ],
   "source": [
    "train_df.describe().show()"
   ]
  },
  {
   "cell_type": "code",
   "execution_count": 102,
   "id": "hidden-stephen",
   "metadata": {
    "scrolled": true
   },
   "outputs": [
    {
     "name": "stdout",
     "output_type": "stream",
     "text": [
      "+-------------------+--------+--------------------+\n",
      "|         prediction|mean_dew|            features|\n",
      "+-------------------+--------+--------------------+\n",
      "| -7.938715236156097|   -10.0|[-3.0,0.0,11.85,6...|\n",
      "| -5.190069782716252|    -7.5|[-0.5,0.0,8.0,610.0]|\n",
      "|-2.2161168122173036|    -4.5|[2.5,0.0,5.15,152...|\n",
      "| -4.415033174969179|    -3.5|[0.5,0.0,7.5,1524.0]|\n",
      "|-3.1532754700245342|   -3.25|[1.5,0.0,4.12,106...|\n",
      "|-2.8741047431205935|    -5.0|[2.0,0.0,11.8,182...|\n",
      "| 2.6231861637590947|     5.0|[7.0,0.0,6.7,1829.0]|\n",
      "| 3.2184323114348112|     6.0|[7.0,0.0,11.3,152.0]|\n",
      "| 1.6319868225984786|    -2.5|[6.0,0.0,14.2,152...|\n",
      "|  2.066862266923719|  -11.67|[6.33,0.0,15.97,1...|\n",
      "|-2.3330483565454445|   -3.67|[2.0,0.0,12.37,30...|\n",
      "| -3.754967346100476|   -1.33|[1.33,0.0,3.77,22...|\n",
      "|-2.1500547476373013|    -2.5|[2.25,0.0,11.57,5...|\n",
      "| 1.7248473869694863|    2.25|[5.75,0.0,19.7,48...|\n",
      "|-0.9249551869458439|     0.0|[3.33,0.0,9.97,45...|\n",
      "|-0.6392450969321506|    -1.0|[4.5,0.0,11.8,327...|\n",
      "|-1.3419661479004708|    -1.0|[3.0,0.0,10.8,610.0]|\n",
      "|  1.352727358940263|    -1.5|[5.5,0.0,6.15,762.0]|\n",
      "| -2.544004017218139|    -1.5| [2.0,0.0,7.7,899.0]|\n",
      "| 0.5866580613302013|     0.0|[5.0,0.0,9.0,1371.5]|\n",
      "+-------------------+--------+--------------------+\n",
      "only showing top 20 rows\n",
      "\n"
     ]
    }
   ],
   "source": [
    "lr_predictions = lrModel.transform(test_df)\n",
    "lr_predictions.select(\"prediction\",\"mean_wnd\",\"features\").show()"
   ]
  },
  {
   "cell_type": "code",
   "execution_count": 103,
   "id": "supreme-martial",
   "metadata": {},
   "outputs": [
    {
     "name": "stdout",
     "output_type": "stream",
     "text": [
      "R Squared (R2) on test data = 0.799675\n",
      "Root Mean Squared Error (RMSE) on test data = 2.52172\n"
     ]
    }
   ],
   "source": [
    "from pyspark.ml.evaluation import RegressionEvaluator\n",
    "lr_evaluator = RegressionEvaluator(predictionCol=\"prediction\", \\\n",
    "                 labelCol=\"mean_wnd\",metricName=\"r2\")\n",
    "print(\"R Squared (R2) on test data = %g\" % lr_evaluator.evaluate(lr_predictions))\n",
    "\n",
    "test_result = lrModel.evaluate(test_df)\n",
    "print(\"Root Mean Squared Error (RMSE) on test data = %g\" % test_result.rootMeanSquaredError)"
   ]
  },
  {
   "cell_type": "code",
   "execution_count": null,
   "id": "fitted-closure",
   "metadata": {},
   "outputs": [],
   "source": []
  },
  {
   "cell_type": "markdown",
   "id": "dense-constitution",
   "metadata": {},
   "source": [
    "## 2) Decision tree regression"
   ]
  },
  {
   "cell_type": "code",
   "execution_count": 104,
   "id": "martial-preserve",
   "metadata": {},
   "outputs": [],
   "source": [
    "from pyspark.ml.regression import DecisionTreeRegressor\n",
    "from pyspark.ml.evaluation import RegressionEvaluator\n",
    "\n",
    "# Train a DecisionTree model.\n",
    "dt = DecisionTreeRegressor(featuresCol=\"features\", labelCol = 'mean_wnd')"
   ]
  },
  {
   "cell_type": "code",
   "execution_count": 105,
   "id": "conservative-consumption",
   "metadata": {},
   "outputs": [],
   "source": [
    "# Train model\n",
    "dt_model = dt.fit(train_df)"
   ]
  },
  {
   "cell_type": "code",
   "execution_count": 107,
   "id": "given-choice",
   "metadata": {},
   "outputs": [
    {
     "name": "stdout",
     "output_type": "stream",
     "text": [
      "+------------------+--------+--------------------+\n",
      "|        prediction|mean_dew|            features|\n",
      "+------------------+--------+--------------------+\n",
      "|             -10.5|   -10.0|[-3.0,0.0,11.85,6...|\n",
      "|             -6.33|    -7.5|[-0.5,0.0,8.0,610.0]|\n",
      "|-4.393636363636364|    -4.5|[2.5,0.0,5.15,152...|\n",
      "|-4.393636363636364|    -3.5|[0.5,0.0,7.5,1524.0]|\n",
      "|-4.393636363636364|   -3.25|[1.5,0.0,4.12,106...|\n",
      "|-4.393636363636364|    -5.0|[2.0,0.0,11.8,182...|\n",
      "|2.4165384615384613|     5.0|[7.0,0.0,6.7,1829.0]|\n",
      "|3.8206666666666664|     6.0|[7.0,0.0,11.3,152.0]|\n",
      "|0.7287499999999998|    -2.5|[6.0,0.0,14.2,152...|\n",
      "|0.7287499999999998|  -11.67|[6.33,0.0,15.97,1...|\n",
      "|            -1.725|   -3.67|[2.0,0.0,12.37,30...|\n",
      "|-4.393636363636364|   -1.33|[1.33,0.0,3.77,22...|\n",
      "|            -1.725|    -2.5|[2.25,0.0,11.57,5...|\n",
      "|3.8206666666666664|    2.25|[5.75,0.0,19.7,48...|\n",
      "|             -0.15|     0.0|[3.33,0.0,9.97,45...|\n",
      "|           -0.4575|    -1.0|[4.5,0.0,11.8,327...|\n",
      "|            -1.725|    -1.0|[3.0,0.0,10.8,610.0]|\n",
      "|3.8206666666666664|    -1.5|[5.5,0.0,6.15,762.0]|\n",
      "|-4.393636363636364|    -1.5| [2.0,0.0,7.7,899.0]|\n",
      "|           -0.4575|     0.0|[5.0,0.0,9.0,1371.5]|\n",
      "+------------------+--------+--------------------+\n",
      "only showing top 20 rows\n",
      "\n"
     ]
    }
   ],
   "source": [
    "# Make test predictions\n",
    "dt_predictions = dt_model.transform(test_df)\n",
    "dt_predictions.select(\"prediction\",\"mean_wnd\",\"features\").show()"
   ]
  },
  {
   "cell_type": "code",
   "execution_count": 116,
   "id": "fixed-arthur",
   "metadata": {},
   "outputs": [
    {
     "data": {
      "text/plain": [
       "SparseVector(4, {0: 0.9458, 2: 0.0152, 3: 0.039})"
      ]
     },
     "execution_count": 116,
     "metadata": {},
     "output_type": "execute_result"
    }
   ],
   "source": [
    "# Importance des features dans la prédiction\n",
    "dt_model.featureImportances"
   ]
  },
  {
   "cell_type": "code",
   "execution_count": 117,
   "id": "architectural-consolidation",
   "metadata": {},
   "outputs": [
    {
     "name": "stdout",
     "output_type": "stream",
     "text": [
      "Root Mean Squared Error (RMSE) on test data = 2.52899\n",
      "R Squared (R2) on test data = 0.798518\n"
     ]
    }
   ],
   "source": [
    "# Select (prediction, true label) and compute test error\n",
    "dt_evaluator = RegressionEvaluator(\n",
    "    labelCol=\"mean_wnd\", predictionCol=\"prediction\", metricName=\"rmse\")\n",
    "rmse = dt_evaluator.evaluate(dt_predictions)\n",
    "print(\"Root Mean Squared Error (RMSE) on test data = %g\" % rmse)\n",
    "\n",
    "dt_evaluator_2 = RegressionEvaluator(predictionCol=\"prediction\", \\\n",
    "                 labelCol=\"mean_wnd\",metricName=\"r2\")\n",
    "print(\"R Squared (R2) on test data = %g\" % dt_evaluator_2.evaluate(dt_predictions))"
   ]
  },
  {
   "cell_type": "code",
   "execution_count": null,
   "id": "hourly-locator",
   "metadata": {},
   "outputs": [],
   "source": []
  },
  {
   "cell_type": "markdown",
   "id": "second-mouth",
   "metadata": {},
   "source": [
    "## 3) Random forest regression"
   ]
  },
  {
   "cell_type": "code",
   "execution_count": 111,
   "id": "falling-digit",
   "metadata": {},
   "outputs": [],
   "source": [
    "from pyspark.ml.regression import RandomForestRegressor\n",
    "from pyspark.ml.evaluation import RegressionEvaluator\n",
    "\n",
    "# Train a RandomForest model.\n",
    "rf = RandomForestRegressor(featuresCol=\"features\", labelCol = 'mean_dew')"
   ]
  },
  {
   "cell_type": "code",
   "execution_count": 112,
   "id": "fluid-snowboard",
   "metadata": {},
   "outputs": [],
   "source": [
    "# Train model\n",
    "rf_model = rf.fit(train_df)"
   ]
  },
  {
   "cell_type": "code",
   "execution_count": 113,
   "id": "rising-benefit",
   "metadata": {},
   "outputs": [
    {
     "name": "stdout",
     "output_type": "stream",
     "text": [
      "+-------------------+--------+--------------------+\n",
      "|         prediction|mean_dew|            features|\n",
      "+-------------------+--------+--------------------+\n",
      "| -6.929610286040125|   -10.0|[-3.0,0.0,11.85,6...|\n",
      "| -5.523016971313915|    -7.5|[-0.5,0.0,8.0,610.0]|\n",
      "|-2.1154569668739107|    -4.5|[2.5,0.0,5.15,152...|\n",
      "|-3.2241107962389903|    -3.5|[0.5,0.0,7.5,1524.0]|\n",
      "|-2.4007976739446177|   -3.25|[1.5,0.0,4.12,106...|\n",
      "| -3.036402646670731|    -5.0|[2.0,0.0,11.8,182...|\n",
      "|  2.298538965851512|     5.0|[7.0,0.0,6.7,1829.0]|\n",
      "| 5.0511559910677555|     6.0|[7.0,0.0,11.3,152.0]|\n",
      "|  1.768620587063933|    -2.5|[6.0,0.0,14.2,152...|\n",
      "| 1.6457772262580725|  -11.67|[6.33,0.0,15.97,1...|\n",
      "|-1.8649492951696711|   -3.67|[2.0,0.0,12.37,30...|\n",
      "|-3.0246533557627995|   -1.33|[1.33,0.0,3.77,22...|\n",
      "| -2.445254474873688|    -2.5|[2.25,0.0,11.57,5...|\n",
      "|  2.054159216430368|    2.25|[5.75,0.0,19.7,48...|\n",
      "|  -1.78306374405412|     0.0|[3.33,0.0,9.97,45...|\n",
      "|-0.3105980460399681|    -1.0|[4.5,0.0,11.8,327...|\n",
      "| -1.720758955378543|    -1.0|[3.0,0.0,10.8,610.0]|\n",
      "| 1.6152345315283756|    -1.5|[5.5,0.0,6.15,762.0]|\n",
      "|-2.8084398900618344|    -1.5| [2.0,0.0,7.7,899.0]|\n",
      "| 1.7233886146059536|     0.0|[5.0,0.0,9.0,1371.5]|\n",
      "+-------------------+--------+--------------------+\n",
      "only showing top 20 rows\n",
      "\n"
     ]
    }
   ],
   "source": [
    "# Make test predictions\n",
    "rf_predictions = rf_model.transform(test_df)\n",
    "rf_predictions.select(\"prediction\",\"mean_dew\",\"features\").show()"
   ]
  },
  {
   "cell_type": "code",
   "execution_count": 114,
   "id": "occasional-discretion",
   "metadata": {},
   "outputs": [
    {
     "data": {
      "text/plain": [
       "SparseVector(4, {0: 0.8515, 2: 0.0912, 3: 0.0572})"
      ]
     },
     "execution_count": 114,
     "metadata": {},
     "output_type": "execute_result"
    }
   ],
   "source": [
    "# Importance des features dans la prédiction\n",
    "rf_model.featureImportances"
   ]
  },
  {
   "cell_type": "code",
   "execution_count": 115,
   "id": "pressed-doubt",
   "metadata": {},
   "outputs": [
    {
     "name": "stdout",
     "output_type": "stream",
     "text": [
      "Root Mean Squared Error (RMSE) on test data = 2.40113\n",
      "R Squared (R2) on test data = 0.818376\n"
     ]
    }
   ],
   "source": [
    "# Select (prediction, true label) and compute test error\n",
    "rf_evaluator = RegressionEvaluator(\n",
    "    labelCol=\"mean_dew\", predictionCol=\"prediction\", metricName=\"rmse\")\n",
    "rmse = rf_evaluator.evaluate(rf_predictions)\n",
    "print(\"Root Mean Squared Error (RMSE) on test data = %g\" % rmse)\n",
    "\n",
    "rf_evaluator_2 = RegressionEvaluator(predictionCol=\"prediction\", \\\n",
    "                 labelCol=\"mean_dew\",metricName=\"r2\")\n",
    "print(\"R Squared (R2) on test data = %g\" % rf_evaluator_2.evaluate(rf_predictions))"
   ]
  },
  {
   "cell_type": "code",
   "execution_count": null,
   "id": "northern-airplane",
   "metadata": {},
   "outputs": [],
   "source": []
  },
  {
   "cell_type": "markdown",
   "id": "graphic-pleasure",
   "metadata": {},
   "source": [
    "## 4) Gradient-boosted tree regression"
   ]
  },
  {
   "cell_type": "code",
   "execution_count": 119,
   "id": "trying-tribe",
   "metadata": {},
   "outputs": [],
   "source": [
    "from pyspark.ml.regression import GBTRegressor\n",
    "from pyspark.ml.evaluation import RegressionEvaluator\n",
    "\n",
    "# Train a GBT model.\n",
    "gbt = GBTRegressor(featuresCol=\"features\", labelCol = 'mean_dew')"
   ]
  },
  {
   "cell_type": "code",
   "execution_count": 120,
   "id": "controlling-millennium",
   "metadata": {},
   "outputs": [],
   "source": [
    "# Train model\n",
    "gbt_model = gbt.fit(train_df)"
   ]
  },
  {
   "cell_type": "code",
   "execution_count": 121,
   "id": "annoying-brush",
   "metadata": {},
   "outputs": [
    {
     "name": "stdout",
     "output_type": "stream",
     "text": [
      "+--------------------+--------+--------------------+\n",
      "|          prediction|mean_dew|            features|\n",
      "+--------------------+--------+--------------------+\n",
      "| -10.364852115714838|   -10.0|[-3.0,0.0,11.85,6...|\n",
      "|  -7.805828734496676|    -7.5|[-0.5,0.0,8.0,610.0]|\n",
      "|  -6.724708834510114|    -4.5|[2.5,0.0,5.15,152...|\n",
      "|  -7.543558040512776|    -3.5|[0.5,0.0,7.5,1524.0]|\n",
      "| -3.7269107336792073|   -3.25|[1.5,0.0,4.12,106...|\n",
      "| -11.113932645425331|    -5.0|[2.0,0.0,11.8,182...|\n",
      "|    2.57764215462737|     5.0|[7.0,0.0,6.7,1829.0]|\n",
      "|   4.261332389035433|     6.0|[7.0,0.0,11.3,152.0]|\n",
      "|  0.8389181680670837|    -2.5|[6.0,0.0,14.2,152...|\n",
      "| 0.41451726178317855|  -11.67|[6.33,0.0,15.97,1...|\n",
      "| 0.46715332158095435|   -3.67|[2.0,0.0,12.37,30...|\n",
      "|  -3.036428832405461|   -1.33|[1.33,0.0,3.77,22...|\n",
      "| -3.6987319864941277|    -2.5|[2.25,0.0,11.57,5...|\n",
      "|   3.430158800348997|    2.25|[5.75,0.0,19.7,48...|\n",
      "|  -0.640522147711143|     0.0|[3.33,0.0,9.97,45...|\n",
      "|-0.02271724706670109|    -1.0|[4.5,0.0,11.8,327...|\n",
      "|  -3.479833069514622|    -1.0|[3.0,0.0,10.8,610.0]|\n",
      "|   3.252208371371396|    -1.5|[5.5,0.0,6.15,762.0]|\n",
      "|  -3.989002782170113|    -1.5| [2.0,0.0,7.7,899.0]|\n",
      "|  -1.075796347724695|     0.0|[5.0,0.0,9.0,1371.5]|\n",
      "+--------------------+--------+--------------------+\n",
      "only showing top 20 rows\n",
      "\n"
     ]
    }
   ],
   "source": [
    "# Make test predictions\n",
    "gbt_predictions = gbt_model.transform(test_df)\n",
    "gbt_predictions.select(\"prediction\",\"mean_dew\",\"features\").show()"
   ]
  },
  {
   "cell_type": "code",
   "execution_count": 122,
   "id": "contemporary-recognition",
   "metadata": {},
   "outputs": [
    {
     "data": {
      "text/plain": [
       "SparseVector(4, {0: 0.6888, 2: 0.1148, 3: 0.1965})"
      ]
     },
     "execution_count": 122,
     "metadata": {},
     "output_type": "execute_result"
    }
   ],
   "source": [
    "# Importance des features dans la prédiction\n",
    "gbt_model.featureImportances"
   ]
  },
  {
   "cell_type": "code",
   "execution_count": 123,
   "id": "filled-origin",
   "metadata": {},
   "outputs": [
    {
     "name": "stdout",
     "output_type": "stream",
     "text": [
      "Root Mean Squared Error (RMSE) on test data = 2.84151\n",
      "R Squared (R2) on test data = 0.745646\n"
     ]
    }
   ],
   "source": [
    "# Select (prediction, true label) and compute test error\n",
    "gbt_evaluator = RegressionEvaluator(\n",
    "    labelCol=\"mean_dew\", predictionCol=\"prediction\", metricName=\"rmse\")\n",
    "rmse = gbt_evaluator.evaluate(gbt_predictions)\n",
    "print(\"Root Mean Squared Error (RMSE) on test data = %g\" % rmse)\n",
    "\n",
    "gbt_evaluator_2 = RegressionEvaluator(predictionCol=\"prediction\", \\\n",
    "                 labelCol=\"mean_dew\",metricName=\"r2\")\n",
    "print(\"R Squared (R2) on test data = %g\" % gbt_evaluator_2.evaluate(gbt_predictions))"
   ]
  },
  {
   "cell_type": "code",
   "execution_count": null,
   "id": "divine-tooth",
   "metadata": {},
   "outputs": [],
   "source": []
  },
  {
   "cell_type": "code",
   "execution_count": null,
   "id": "great-devices",
   "metadata": {},
   "outputs": [],
   "source": []
  },
  {
   "cell_type": "code",
   "execution_count": null,
   "id": "automotive-blake",
   "metadata": {},
   "outputs": [],
   "source": []
  },
  {
   "cell_type": "code",
   "execution_count": null,
   "id": "agreed-modem",
   "metadata": {},
   "outputs": [],
   "source": []
  },
  {
   "cell_type": "markdown",
   "id": "gothic-malta",
   "metadata": {},
   "source": [
    "## Conclusion\n",
    "On a trouvé la valeur moyenne des précipitations pour le \"01/01/2016\" dans la ville la plus proche de la station puisqu'elle est en mer : 2.5° réel contre \"-0.94°\" prédit avec la régression linéaire et \"°\" avec le decision tree.\n"
   ]
  },
  {
   "cell_type": "code",
   "execution_count": 117,
   "id": "vocal-singles",
   "metadata": {},
   "outputs": [],
   "source": [
    "# viz = lr_predictions.select(\"prediction\",\"mean_dew\",\"features\").toPandas()\n",
    "# viz\n",
    "# viz.plot.scatter(\"mean_dew\",\"features\")"
   ]
  },
  {
   "cell_type": "code",
   "execution_count": null,
   "id": "alike-springfield",
   "metadata": {
    "scrolled": true
   },
   "outputs": [],
   "source": []
  },
  {
   "cell_type": "code",
   "execution_count": null,
   "id": "moved-finder",
   "metadata": {},
   "outputs": [],
   "source": []
  },
  {
   "cell_type": "markdown",
   "id": "centered-spank",
   "metadata": {},
   "source": [
    "## Choses à faire\n"
   ]
  },
  {
   "cell_type": "markdown",
   "id": "aggressive-springfield",
   "metadata": {},
   "source": [
    "0) Faire valider le 1er modele par Sayf\n",
    "1) Arrondir toutes les valeurs\n",
    "2) Refaire le split (train/test)\n",
    "3) D'autres algos : bataille d'I.A.\n",
    "4) Voir d'autres prédictions prtinentes à faire\n",
    "Questions:\n",
    "- Prédictions sur train ? -> sur le test\n",
    "- features importances : "
   ]
  },
  {
   "cell_type": "code",
   "execution_count": null,
   "id": "lined-founder",
   "metadata": {},
   "outputs": [],
   "source": []
  }
 ],
 "metadata": {
  "kernelspec": {
   "display_name": "Python 3 (ipykernel)",
   "language": "python",
   "name": "python3"
  },
  "language_info": {
   "codemirror_mode": {
    "name": "ipython",
    "version": 3
   },
   "file_extension": ".py",
   "mimetype": "text/x-python",
   "name": "python",
   "nbconvert_exporter": "python",
   "pygments_lexer": "ipython3",
   "version": "3.9.12"
  },
  "vscode": {
   "interpreter": {
    "hash": "1244337e113376ace9d3ba28cc3e967d40de6258f2c07417df8728b537bd2ce4"
   }
  }
 },
 "nbformat": 4,
 "nbformat_minor": 5
}
